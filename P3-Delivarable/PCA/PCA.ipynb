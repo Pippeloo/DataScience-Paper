{
 "cells": [
  {
   "cell_type": "code",
   "execution_count": 32,
   "metadata": {},
   "outputs": [],
   "source": [
    "import numpy as np\n",
    "from sklearn.decomposition import PCA\n",
    "import matplotlib.pyplot as plt\n",
    "import pandas as pd\n",
    "from sklearn.preprocessing import StandardScaler\n",
    "\n",
    "path = '../Life_Expectancy_preprocessed_v2.csv'\n",
    "data = pd.read_csv(path)\n",
    "\n",
    "numeric_columns = ['Adult Mortality', 'infant deaths', 'Alcohol',\n",
    "                   'percentage expenditure', 'Hepatitis B', 'Measles', 'BMI',\n",
    "                   'under-five deaths', 'Polio', 'Total expenditure', 'Diphtheria',\n",
    "                   'HIV/AIDS', 'GDP', 'Population', 'thinness  1-19 years',\n",
    "                   'thinness 5-9 years', 'Income composition of resources', 'Schooling',\n",
    "                   'Developed', 'Life expectancy']\n",
    "\n",
    "feature_matrix = data[numeric_columns].values\n",
    "\n",
    "scaler = StandardScaler()\n",
    "standardized_feature_matrix = scaler.fit_transform(feature_matrix)"
   ]
  },
  {
   "cell_type": "code",
   "execution_count": 34,
   "metadata": {},
   "outputs": [
    {
     "name": "stdout",
     "output_type": "stream",
     "text": [
      "Explained variance by each component: [3.22640956e-01 1.47254829e-01 9.30999344e-02 8.19941470e-02\n",
      " 6.09300124e-02 4.42950250e-02 4.15095281e-02 3.55217884e-02\n",
      " 3.05464689e-02 2.61418887e-02 2.27829739e-02 2.04372175e-02\n",
      " 1.85011732e-02 1.67546905e-02 1.54608399e-02 1.01348019e-02\n",
      " 6.40047395e-03 3.54016337e-03 1.93781453e-03 1.15273304e-04]\n"
     ]
    }
   ],
   "source": [
    "pca = PCA()\n",
    "\n",
    "pca.fit(standardized_feature_matrix)\n",
    "\n",
    "explained_variance = pca.explained_variance_ratio_\n",
    "print(\"Explained variance by each component:\", explained_variance)"
   ]
  }
 ],
 "metadata": {
  "kernelspec": {
   "display_name": "Python 3",
   "language": "python",
   "name": "python3"
  },
  "language_info": {
   "codemirror_mode": {
    "name": "ipython",
    "version": 3
   },
   "file_extension": ".py",
   "mimetype": "text/x-python",
   "name": "python",
   "nbconvert_exporter": "python",
   "pygments_lexer": "ipython3",
   "version": "3.12.0"
  }
 },
 "nbformat": 4,
 "nbformat_minor": 2
}
