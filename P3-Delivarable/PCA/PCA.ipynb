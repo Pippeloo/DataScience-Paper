{
 "cells": [
  {
   "cell_type": "code",
   "execution_count": 18,
   "metadata": {},
   "outputs": [],
   "source": [
    "import numpy as np\n",
    "from sklearn.decomposition import PCA\n",
    "import matplotlib.pyplot as plt\n",
    "import pandas as pd\n",
    "from sklearn.preprocessing import StandardScaler\n",
    "\n",
    "path = '../Life_Expectancy_preprocessed_v2.csv'\n",
    "data = pd.read_csv(path)\n",
    "\n",
    "numeric_columns = ['Country', 'Year', 'Adult Mortality', 'infant deaths', 'Alcohol',\n",
    "                   'percentage expenditure', 'Hepatitis B', 'Measles', 'BMI',\n",
    "                   'under-five deaths', 'Polio', 'Total expenditure', 'Diphtheria',\n",
    "                   'HIV/AIDS', 'GDP', 'Population', 'thinness  1-19 years',\n",
    "                   'thinness 5-9 years', 'Income composition of resources', 'Schooling',\n",
    "                   'Developed', 'Life expectancy']\n",
    "\n",
    "feature_matrix = data[numeric_columns].values\n",
    "\n",
    "scaler = StandardScaler()\n",
    "\n",
    "standardized_feature_matrix = scaler.fit_transform(feature_matrix)"
   ]
  }
 ],
 "metadata": {
  "kernelspec": {
   "display_name": "Python 3",
   "language": "python",
   "name": "python3"
  },
  "language_info": {
   "codemirror_mode": {
    "name": "ipython",
    "version": 3
   },
   "file_extension": ".py",
   "mimetype": "text/x-python",
   "name": "python",
   "nbconvert_exporter": "python",
   "pygments_lexer": "ipython3",
   "version": "3.12.0"
  }
 },
 "nbformat": 4,
 "nbformat_minor": 2
}
