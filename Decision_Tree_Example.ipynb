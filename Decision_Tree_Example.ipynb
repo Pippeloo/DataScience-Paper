{
  "nbformat": 4,
  "nbformat_minor": 0,
  "metadata": {
    "colab": {
      "provenance": []
    },
    "kernelspec": {
      "name": "python3",
      "display_name": "Python 3"
    },
    "language_info": {
      "name": "python"
    }
  },
  "cells": [
    {
      "cell_type": "code",
      "execution_count": null,
      "metadata": {
        "id": "II_pL3krErdk"
      },
      "outputs": [],
      "source": [
        "from sklearn.datasets import load_iris\n",
        "from sklearn.tree import DecisionTreeClassifier"
      ]
    },
    {
      "cell_type": "code",
      "source": [
        "iris = load_iris()\n",
        "X = iris.data[:, 2:]\n",
        "y = iris.target\n",
        "\n",
        "tree_clf = DecisionTreeClassifier(max_depth = 2)\n",
        "tree_clf.fit(X, y)"
      ],
      "metadata": {
        "colab": {
          "base_uri": "https://localhost:8080/"
        },
        "id": "j3lrH2zzE16X",
        "outputId": "e6062b6a-a349-4b64-cd77-b8de1ab3c1ce"
      },
      "execution_count": null,
      "outputs": [
        {
          "output_type": "execute_result",
          "data": {
            "text/plain": [
              "DecisionTreeClassifier(max_depth=2)"
            ]
          },
          "metadata": {},
          "execution_count": 2
        }
      ]
    },
    {
      "cell_type": "code",
      "source": [
        "import pandas as pd\n",
        "\n",
        "df_iris = pd.DataFrame(iris.data, columns = iris.feature_names)\n",
        "df_iris['target'] = iris.target\n",
        "\n",
        "\n",
        "df_iris.head()"
      ],
      "metadata": {
        "colab": {
          "base_uri": "https://localhost:8080/"
        },
        "id": "PHI6v4KeNVRw",
        "outputId": "8144510f-17ee-4829-e5a2-45f637a27734"
      },
      "execution_count": null,
      "outputs": [
        {
          "output_type": "execute_result",
          "data": {
            "text/plain": [
              "   sepal length (cm)  sepal width (cm)  petal length (cm)  petal width (cm)  \\\n",
              "0                5.1               3.5                1.4               0.2   \n",
              "1                4.9               3.0                1.4               0.2   \n",
              "2                4.7               3.2                1.3               0.2   \n",
              "3                4.6               3.1                1.5               0.2   \n",
              "4                5.0               3.6                1.4               0.2   \n",
              "\n",
              "   target  \n",
              "0       0  \n",
              "1       0  \n",
              "2       0  \n",
              "3       0  \n",
              "4       0  "
            ],
            "text/html": [
              "\n",
              "  <div id=\"df-b7a92a18-44fa-40e2-81df-3565cdc1eee2\">\n",
              "    <div class=\"colab-df-container\">\n",
              "      <div>\n",
              "<style scoped>\n",
              "    .dataframe tbody tr th:only-of-type {\n",
              "        vertical-align: middle;\n",
              "    }\n",
              "\n",
              "    .dataframe tbody tr th {\n",
              "        vertical-align: top;\n",
              "    }\n",
              "\n",
              "    .dataframe thead th {\n",
              "        text-align: right;\n",
              "    }\n",
              "</style>\n",
              "<table border=\"1\" class=\"dataframe\">\n",
              "  <thead>\n",
              "    <tr style=\"text-align: right;\">\n",
              "      <th></th>\n",
              "      <th>sepal length (cm)</th>\n",
              "      <th>sepal width (cm)</th>\n",
              "      <th>petal length (cm)</th>\n",
              "      <th>petal width (cm)</th>\n",
              "      <th>target</th>\n",
              "    </tr>\n",
              "  </thead>\n",
              "  <tbody>\n",
              "    <tr>\n",
              "      <th>0</th>\n",
              "      <td>5.1</td>\n",
              "      <td>3.5</td>\n",
              "      <td>1.4</td>\n",
              "      <td>0.2</td>\n",
              "      <td>0</td>\n",
              "    </tr>\n",
              "    <tr>\n",
              "      <th>1</th>\n",
              "      <td>4.9</td>\n",
              "      <td>3.0</td>\n",
              "      <td>1.4</td>\n",
              "      <td>0.2</td>\n",
              "      <td>0</td>\n",
              "    </tr>\n",
              "    <tr>\n",
              "      <th>2</th>\n",
              "      <td>4.7</td>\n",
              "      <td>3.2</td>\n",
              "      <td>1.3</td>\n",
              "      <td>0.2</td>\n",
              "      <td>0</td>\n",
              "    </tr>\n",
              "    <tr>\n",
              "      <th>3</th>\n",
              "      <td>4.6</td>\n",
              "      <td>3.1</td>\n",
              "      <td>1.5</td>\n",
              "      <td>0.2</td>\n",
              "      <td>0</td>\n",
              "    </tr>\n",
              "    <tr>\n",
              "      <th>4</th>\n",
              "      <td>5.0</td>\n",
              "      <td>3.6</td>\n",
              "      <td>1.4</td>\n",
              "      <td>0.2</td>\n",
              "      <td>0</td>\n",
              "    </tr>\n",
              "  </tbody>\n",
              "</table>\n",
              "</div>\n",
              "      <button class=\"colab-df-convert\" onclick=\"convertToInteractive('df-b7a92a18-44fa-40e2-81df-3565cdc1eee2')\"\n",
              "              title=\"Convert this dataframe to an interactive table.\"\n",
              "              style=\"display:none;\">\n",
              "        \n",
              "  <svg xmlns=\"http://www.w3.org/2000/svg\" height=\"24px\"viewBox=\"0 0 24 24\"\n",
              "       width=\"24px\">\n",
              "    <path d=\"M0 0h24v24H0V0z\" fill=\"none\"/>\n",
              "    <path d=\"M18.56 5.44l.94 2.06.94-2.06 2.06-.94-2.06-.94-.94-2.06-.94 2.06-2.06.94zm-11 1L8.5 8.5l.94-2.06 2.06-.94-2.06-.94L8.5 2.5l-.94 2.06-2.06.94zm10 10l.94 2.06.94-2.06 2.06-.94-2.06-.94-.94-2.06-.94 2.06-2.06.94z\"/><path d=\"M17.41 7.96l-1.37-1.37c-.4-.4-.92-.59-1.43-.59-.52 0-1.04.2-1.43.59L10.3 9.45l-7.72 7.72c-.78.78-.78 2.05 0 2.83L4 21.41c.39.39.9.59 1.41.59.51 0 1.02-.2 1.41-.59l7.78-7.78 2.81-2.81c.8-.78.8-2.07 0-2.86zM5.41 20L4 18.59l7.72-7.72 1.47 1.35L5.41 20z\"/>\n",
              "  </svg>\n",
              "      </button>\n",
              "      \n",
              "  <style>\n",
              "    .colab-df-container {\n",
              "      display:flex;\n",
              "      flex-wrap:wrap;\n",
              "      gap: 12px;\n",
              "    }\n",
              "\n",
              "    .colab-df-convert {\n",
              "      background-color: #E8F0FE;\n",
              "      border: none;\n",
              "      border-radius: 50%;\n",
              "      cursor: pointer;\n",
              "      display: none;\n",
              "      fill: #1967D2;\n",
              "      height: 32px;\n",
              "      padding: 0 0 0 0;\n",
              "      width: 32px;\n",
              "    }\n",
              "\n",
              "    .colab-df-convert:hover {\n",
              "      background-color: #E2EBFA;\n",
              "      box-shadow: 0px 1px 2px rgba(60, 64, 67, 0.3), 0px 1px 3px 1px rgba(60, 64, 67, 0.15);\n",
              "      fill: #174EA6;\n",
              "    }\n",
              "\n",
              "    [theme=dark] .colab-df-convert {\n",
              "      background-color: #3B4455;\n",
              "      fill: #D2E3FC;\n",
              "    }\n",
              "\n",
              "    [theme=dark] .colab-df-convert:hover {\n",
              "      background-color: #434B5C;\n",
              "      box-shadow: 0px 1px 3px 1px rgba(0, 0, 0, 0.15);\n",
              "      filter: drop-shadow(0px 1px 2px rgba(0, 0, 0, 0.3));\n",
              "      fill: #FFFFFF;\n",
              "    }\n",
              "  </style>\n",
              "\n",
              "      <script>\n",
              "        const buttonEl =\n",
              "          document.querySelector('#df-b7a92a18-44fa-40e2-81df-3565cdc1eee2 button.colab-df-convert');\n",
              "        buttonEl.style.display =\n",
              "          google.colab.kernel.accessAllowed ? 'block' : 'none';\n",
              "\n",
              "        async function convertToInteractive(key) {\n",
              "          const element = document.querySelector('#df-b7a92a18-44fa-40e2-81df-3565cdc1eee2');\n",
              "          const dataTable =\n",
              "            await google.colab.kernel.invokeFunction('convertToInteractive',\n",
              "                                                     [key], {});\n",
              "          if (!dataTable) return;\n",
              "\n",
              "          const docLinkHtml = 'Like what you see? Visit the ' +\n",
              "            '<a target=\"_blank\" href=https://colab.research.google.com/notebooks/data_table.ipynb>data table notebook</a>'\n",
              "            + ' to learn more about interactive tables.';\n",
              "          element.innerHTML = '';\n",
              "          dataTable['output_type'] = 'display_data';\n",
              "          await google.colab.output.renderOutput(dataTable, element);\n",
              "          const docLink = document.createElement('div');\n",
              "          docLink.innerHTML = docLinkHtml;\n",
              "          element.appendChild(docLink);\n",
              "        }\n",
              "      </script>\n",
              "    </div>\n",
              "  </div>\n",
              "  "
            ]
          },
          "metadata": {},
          "execution_count": 3
        }
      ]
    },
    {
      "cell_type": "code",
      "source": [
        "iris.data[:3]\n",
        "iris.feature_names"
      ],
      "metadata": {
        "colab": {
          "base_uri": "https://localhost:8080/"
        },
        "id": "b1gx31SqHoYZ",
        "outputId": "1ae6acb3-ce03-4b54-d73e-7d5a9099fc6e"
      },
      "execution_count": null,
      "outputs": [
        {
          "output_type": "execute_result",
          "data": {
            "text/plain": [
              "['sepal length (cm)',\n",
              " 'sepal width (cm)',\n",
              " 'petal length (cm)',\n",
              " 'petal width (cm)']"
            ]
          },
          "metadata": {},
          "execution_count": 4
        }
      ]
    },
    {
      "cell_type": "code",
      "source": [
        "iris.target_names"
      ],
      "metadata": {
        "colab": {
          "base_uri": "https://localhost:8080/"
        },
        "id": "8A7BjRzCMXeT",
        "outputId": "9490fdd3-c6cf-4e8f-f36a-fa3b74cf297d"
      },
      "execution_count": null,
      "outputs": [
        {
          "output_type": "execute_result",
          "data": {
            "text/plain": [
              "array(['setosa', 'versicolor', 'virginica'], dtype='<U10')"
            ]
          },
          "metadata": {},
          "execution_count": 5
        }
      ]
    },
    {
      "cell_type": "code",
      "source": [
        "from sklearn.tree import export_graphviz\n",
        "import graphviz\n",
        "\n",
        "dot_data = export_graphviz(\n",
        "    tree_clf,\n",
        "    feature_names = iris.feature_names[2:],\n",
        "    class_names = iris.target_names,\n",
        "    rounded=True,\n",
        "    filled=True # 색 칠해줌\n",
        ")\n",
        "\n",
        "graphviz.Source(dot_data)\n",
        "\n",
        "# petal = 꽃잎, sepal = 꽃받침"
      ],
      "metadata": {
        "colab": {
          "base_uri": "https://localhost:8080/"
        },
        "id": "P1cH3FH3FRYg",
        "outputId": "05e72ec3-e866-4c69-ea75-4799324df422"
      },
      "execution_count": null,
      "outputs": [
        {
          "output_type": "execute_result",
          "data": {
            "text/plain": [
              "<graphviz.files.Source at 0x7f3d5fb1f310>"
            ],
            "image/svg+xml": "<?xml version=\"1.0\" encoding=\"UTF-8\" standalone=\"no\"?>\n<!DOCTYPE svg PUBLIC \"-//W3C//DTD SVG 1.1//EN\"\n \"http://www.w3.org/Graphics/SVG/1.1/DTD/svg11.dtd\">\n<!-- Generated by graphviz version 2.43.0 (0)\n -->\n<!-- Title: Tree Pages: 1 -->\n<svg width=\"351pt\" height=\"314pt\"\n viewBox=\"0.00 0.00 351.00 314.00\" xmlns=\"http://www.w3.org/2000/svg\" xmlns:xlink=\"http://www.w3.org/1999/xlink\">\n<g id=\"graph0\" class=\"graph\" transform=\"scale(1 1) rotate(0) translate(4 310)\">\n<title>Tree</title>\n<polygon fill=\"white\" stroke=\"transparent\" points=\"-4,4 -4,-310 347,-310 347,4 -4,4\"/>\n<!-- 0 -->\n<g id=\"node1\" class=\"node\">\n<title>0</title>\n<path fill=\"#ffffff\" stroke=\"black\" d=\"M203,-306C203,-306 72,-306 72,-306 66,-306 60,-300 60,-294 60,-294 60,-235 60,-235 60,-229 66,-223 72,-223 72,-223 203,-223 203,-223 209,-223 215,-229 215,-235 215,-235 215,-294 215,-294 215,-300 209,-306 203,-306\"/>\n<text text-anchor=\"middle\" x=\"137.5\" y=\"-290.8\" font-family=\"Helvetica,sans-Serif\" font-size=\"14.00\">petal width (cm) &lt;= 0.8</text>\n<text text-anchor=\"middle\" x=\"137.5\" y=\"-275.8\" font-family=\"Helvetica,sans-Serif\" font-size=\"14.00\">gini = 0.667</text>\n<text text-anchor=\"middle\" x=\"137.5\" y=\"-260.8\" font-family=\"Helvetica,sans-Serif\" font-size=\"14.00\">samples = 150</text>\n<text text-anchor=\"middle\" x=\"137.5\" y=\"-245.8\" font-family=\"Helvetica,sans-Serif\" font-size=\"14.00\">value = [50, 50, 50]</text>\n<text text-anchor=\"middle\" x=\"137.5\" y=\"-230.8\" font-family=\"Helvetica,sans-Serif\" font-size=\"14.00\">class = setosa</text>\n</g>\n<!-- 1 -->\n<g id=\"node2\" class=\"node\">\n<title>1</title>\n<path fill=\"#e58139\" stroke=\"black\" d=\"M105,-179.5C105,-179.5 12,-179.5 12,-179.5 6,-179.5 0,-173.5 0,-167.5 0,-167.5 0,-123.5 0,-123.5 0,-117.5 6,-111.5 12,-111.5 12,-111.5 105,-111.5 105,-111.5 111,-111.5 117,-117.5 117,-123.5 117,-123.5 117,-167.5 117,-167.5 117,-173.5 111,-179.5 105,-179.5\"/>\n<text text-anchor=\"middle\" x=\"58.5\" y=\"-164.3\" font-family=\"Helvetica,sans-Serif\" font-size=\"14.00\">gini = 0.0</text>\n<text text-anchor=\"middle\" x=\"58.5\" y=\"-149.3\" font-family=\"Helvetica,sans-Serif\" font-size=\"14.00\">samples = 50</text>\n<text text-anchor=\"middle\" x=\"58.5\" y=\"-134.3\" font-family=\"Helvetica,sans-Serif\" font-size=\"14.00\">value = [50, 0, 0]</text>\n<text text-anchor=\"middle\" x=\"58.5\" y=\"-119.3\" font-family=\"Helvetica,sans-Serif\" font-size=\"14.00\">class = setosa</text>\n</g>\n<!-- 0&#45;&gt;1 -->\n<g id=\"edge1\" class=\"edge\">\n<title>0&#45;&gt;1</title>\n<path fill=\"none\" stroke=\"black\" d=\"M110.09,-222.91C102.49,-211.65 94.23,-199.42 86.59,-188.11\"/>\n<polygon fill=\"black\" stroke=\"black\" points=\"89.39,-186 80.89,-179.67 83.59,-189.91 89.39,-186\"/>\n<text text-anchor=\"middle\" x=\"76.14\" y=\"-200.51\" font-family=\"Helvetica,sans-Serif\" font-size=\"14.00\">True</text>\n</g>\n<!-- 2 -->\n<g id=\"node3\" class=\"node\">\n<title>2</title>\n<path fill=\"#ffffff\" stroke=\"black\" d=\"M286,-187C286,-187 147,-187 147,-187 141,-187 135,-181 135,-175 135,-175 135,-116 135,-116 135,-110 141,-104 147,-104 147,-104 286,-104 286,-104 292,-104 298,-110 298,-116 298,-116 298,-175 298,-175 298,-181 292,-187 286,-187\"/>\n<text text-anchor=\"middle\" x=\"216.5\" y=\"-171.8\" font-family=\"Helvetica,sans-Serif\" font-size=\"14.00\">petal width (cm) &lt;= 1.75</text>\n<text text-anchor=\"middle\" x=\"216.5\" y=\"-156.8\" font-family=\"Helvetica,sans-Serif\" font-size=\"14.00\">gini = 0.5</text>\n<text text-anchor=\"middle\" x=\"216.5\" y=\"-141.8\" font-family=\"Helvetica,sans-Serif\" font-size=\"14.00\">samples = 100</text>\n<text text-anchor=\"middle\" x=\"216.5\" y=\"-126.8\" font-family=\"Helvetica,sans-Serif\" font-size=\"14.00\">value = [0, 50, 50]</text>\n<text text-anchor=\"middle\" x=\"216.5\" y=\"-111.8\" font-family=\"Helvetica,sans-Serif\" font-size=\"14.00\">class = versicolor</text>\n</g>\n<!-- 0&#45;&gt;2 -->\n<g id=\"edge2\" class=\"edge\">\n<title>0&#45;&gt;2</title>\n<path fill=\"none\" stroke=\"black\" d=\"M164.91,-222.91C170.91,-214.01 177.33,-204.51 183.53,-195.33\"/>\n<polygon fill=\"black\" stroke=\"black\" points=\"186.44,-197.27 189.14,-187.02 180.64,-193.35 186.44,-197.27\"/>\n<text text-anchor=\"middle\" x=\"193.9\" y=\"-207.86\" font-family=\"Helvetica,sans-Serif\" font-size=\"14.00\">False</text>\n</g>\n<!-- 3 -->\n<g id=\"node4\" class=\"node\">\n<title>3</title>\n<path fill=\"#4de88e\" stroke=\"black\" d=\"M196,-68C196,-68 99,-68 99,-68 93,-68 87,-62 87,-56 87,-56 87,-12 87,-12 87,-6 93,0 99,0 99,0 196,0 196,0 202,0 208,-6 208,-12 208,-12 208,-56 208,-56 208,-62 202,-68 196,-68\"/>\n<text text-anchor=\"middle\" x=\"147.5\" y=\"-52.8\" font-family=\"Helvetica,sans-Serif\" font-size=\"14.00\">gini = 0.168</text>\n<text text-anchor=\"middle\" x=\"147.5\" y=\"-37.8\" font-family=\"Helvetica,sans-Serif\" font-size=\"14.00\">samples = 54</text>\n<text text-anchor=\"middle\" x=\"147.5\" y=\"-22.8\" font-family=\"Helvetica,sans-Serif\" font-size=\"14.00\">value = [0, 49, 5]</text>\n<text text-anchor=\"middle\" x=\"147.5\" y=\"-7.8\" font-family=\"Helvetica,sans-Serif\" font-size=\"14.00\">class = versicolor</text>\n</g>\n<!-- 2&#45;&gt;3 -->\n<g id=\"edge3\" class=\"edge\">\n<title>2&#45;&gt;3</title>\n<path fill=\"none\" stroke=\"black\" d=\"M190.81,-103.73C185.29,-94.97 179.45,-85.7 173.91,-76.91\"/>\n<polygon fill=\"black\" stroke=\"black\" points=\"176.78,-74.89 168.48,-68.3 170.85,-78.63 176.78,-74.89\"/>\n</g>\n<!-- 4 -->\n<g id=\"node5\" class=\"node\">\n<title>4</title>\n<path fill=\"#843de6\" stroke=\"black\" d=\"M331,-68C331,-68 238,-68 238,-68 232,-68 226,-62 226,-56 226,-56 226,-12 226,-12 226,-6 232,0 238,0 238,0 331,0 331,0 337,0 343,-6 343,-12 343,-12 343,-56 343,-56 343,-62 337,-68 331,-68\"/>\n<text text-anchor=\"middle\" x=\"284.5\" y=\"-52.8\" font-family=\"Helvetica,sans-Serif\" font-size=\"14.00\">gini = 0.043</text>\n<text text-anchor=\"middle\" x=\"284.5\" y=\"-37.8\" font-family=\"Helvetica,sans-Serif\" font-size=\"14.00\">samples = 46</text>\n<text text-anchor=\"middle\" x=\"284.5\" y=\"-22.8\" font-family=\"Helvetica,sans-Serif\" font-size=\"14.00\">value = [0, 1, 45]</text>\n<text text-anchor=\"middle\" x=\"284.5\" y=\"-7.8\" font-family=\"Helvetica,sans-Serif\" font-size=\"14.00\">class = virginica</text>\n</g>\n<!-- 2&#45;&gt;4 -->\n<g id=\"edge4\" class=\"edge\">\n<title>2&#45;&gt;4</title>\n<path fill=\"none\" stroke=\"black\" d=\"M241.82,-103.73C247.26,-94.97 253.01,-85.7 258.48,-76.91\"/>\n<polygon fill=\"black\" stroke=\"black\" points=\"261.52,-78.64 263.82,-68.3 255.57,-74.95 261.52,-78.64\"/>\n</g>\n</g>\n</svg>\n"
          },
          "metadata": {},
          "execution_count": 6
        }
      ]
    },
    {
      "cell_type": "code",
      "source": [
        "import matplotlib.pyplot as plt\n",
        "\n",
        "\n",
        "petal_length = X[:, 0]\n",
        "petal_width = X[:, 1]\n",
        "\n",
        "setosa = df_iris.loc[df_iris.target == 0, [\"petal length (cm)\", \"petal width (cm)\"]]\n",
        "versicolor = df_iris.loc[df_iris.target == 1, [\"petal length (cm)\", \"petal width (cm)\"]]\n",
        "virginica = df_iris.loc[df_iris.target == 2, [\"petal length (cm)\", \"petal width (cm)\"]]\n",
        "\n",
        "plt.figure(figsize=(10, 6))\n",
        "\n",
        "\n",
        "plt.scatter(setosa.loc[:,\"petal length (cm)\"], setosa.loc[:,\"petal width (cm)\"])\n",
        "plt.scatter(versicolor.loc[:,\"petal length (cm)\"], versicolor.loc[:,\"petal width (cm)\"])\n",
        "plt.scatter(virginica.loc[:,\"petal length (cm)\"], virginica.loc[:,\"petal width (cm)\"])\n",
        "plt.legend(iris.target_names)\n",
        "\n",
        "\n",
        "# plt.vlines(2.45, 0, 2.5, 'r')\n",
        "plt.plot([2.45, 2.45], [0, 3], \"k-\", linewidth=2)\n",
        "plt.plot([2.45, 8], [1.75, 1.75], \"k--\", linewidth = 2)\n",
        "\n",
        "# plt.scatter(petal_length, petal_width, c= petal_length)\n",
        "\n",
        "plt.axis([0, 7.5, 0, 3])\n",
        "plt.xlabel('petal length')\n",
        "plt.ylabel('petal width')\n",
        "plt.show()"
      ],
      "metadata": {
        "colab": {
          "base_uri": "https://localhost:8080/"
        },
        "id": "ieBbp6zLJvNg",
        "outputId": "42b34ca6-b552-4598-f70a-a53d93e0d39a"
      },
      "execution_count": null,
      "outputs": [
        {
          "output_type": "display_data",
          "data": {
            "text/plain": [
              "<Figure size 720x432 with 1 Axes>"
            ],
            "image/png": "[encoded data removed]"
          },
          "metadata": {
            "needs_background": "light"
          }
        }
      ]
    },
    {
      "cell_type": "code",
      "source": [
        "setosa.loc[:10,\"petal length (cm)\"]"
      ],
      "metadata": {
        "colab": {
          "base_uri": "https://localhost:8080/"
        },
        "id": "7n_2ZggoNE86",
        "outputId": "e1bc21b7-69b2-4f64-b03a-cc1a251a59c3"
      },
      "execution_count": null,
      "outputs": [
        {
          "output_type": "execute_result",
          "data": {
            "text/plain": [
              "0     1.4\n",
              "1     1.4\n",
              "2     1.3\n",
              "3     1.5\n",
              "4     1.4\n",
              "5     1.7\n",
              "6     1.4\n",
              "7     1.5\n",
              "8     1.4\n",
              "9     1.5\n",
              "10    1.5\n",
              "Name: petal length (cm), dtype: float64"
            ]
          },
          "metadata": {},
          "execution_count": 8
        }
      ]
    },
    {
      "cell_type": "code",
      "source": [
        "X[:3]"
      ],
      "metadata": {
        "colab": {
          "base_uri": "https://localhost:8080/"
        },
        "id": "gy6iqo3xKoFO",
        "outputId": "e0935b89-cc49-4ed6-a635-6130a82b569b"
      },
      "execution_count": null,
      "outputs": [
        {
          "output_type": "execute_result",
          "data": {
            "text/plain": [
              "array([[1.4, 0.2],\n",
              "       [1.4, 0.2],\n",
              "       [1.3, 0.2]])"
            ]
          },
          "metadata": {},
          "execution_count": 9
        }
      ]
    },
    {
      "cell_type": "markdown",
      "source": [
        "# 6.3 클래스 확률 추정"
      ],
      "metadata": {
        "id": "nPaCtvf2lFCm"
      }
    },
    {
      "cell_type": "code",
      "source": [
        "tree_clf.predict_proba([[5, 1.5],\n",
        "                        [3, 2]])"
      ],
      "metadata": {
        "colab": {
          "base_uri": "https://localhost:8080/"
        },
        "id": "TwZjV8NFlHi2",
        "outputId": "58db1298-c4db-412d-a3b4-174bd3b49517"
      },
      "execution_count": null,
      "outputs": [
        {
          "output_type": "execute_result",
          "data": {
            "text/plain": [
              "array([[0.        , 0.90740741, 0.09259259],\n",
              "       [0.        , 0.02173913, 0.97826087]])"
            ]
          },
          "metadata": {},
          "execution_count": 10
        }
      ]
    },
    {
      "cell_type": "code",
      "source": [
        "tree_clf.predict([[5, 1.5],\n",
        "                  [3, 2]])"
      ],
      "metadata": {
        "colab": {
          "base_uri": "https://localhost:8080/"
        },
        "id": "FIVKv7NvlbW-",
        "outputId": "6eb02f70-1872-480a-edf2-6156d494e530"
      },
      "execution_count": null,
      "outputs": [
        {
          "output_type": "execute_result",
          "data": {
            "text/plain": [
              "array([1, 2])"
            ]
          },
          "metadata": {},
          "execution_count": 11
        }
      ]
    },
    {
      "cell_type": "markdown",
      "source": [
        "# 6.7 규제 매개변수"
      ],
      "metadata": {
        "id": "J-SG4aiSoWbz"
      }
    },
    {
      "cell_type": "code",
      "source": [
        "from matplotlib.colors import ListedColormap\n",
        "\n",
        "def plot_decision_boundary(clf, X, y, axes=[0, 7.5, 0, 3], iris=True, legend=False, plot_training=True):\n",
        "    x1s = np.linspace(axes[0], axes[1], 100)\n",
        "    x2s = np.linspace(axes[2], axes[3], 100)\n",
        "    x1, x2 = np.meshgrid(x1s, x2s)\n",
        "    X_new = np.c_[x1.ravel(), x2.ravel()]\n",
        "    y_pred = clf.predict(X_new).reshape(x1.shape)\n",
        "    custom_cmap = ListedColormap(['#fafab0','#9898ff','#a0faa0'])\n",
        "    plt.contourf(x1, x2, y_pred, alpha=0.3, cmap=custom_cmap)\n",
        "    if not iris:\n",
        "        custom_cmap2 = ListedColormap(['#7d7d58','#4c4c7f','#507d50'])\n",
        "        plt.contour(x1, x2, y_pred, cmap=custom_cmap2, alpha=0.8)\n",
        "    if plot_training:\n",
        "        plt.plot(X[:, 0][y==0], X[:, 1][y==0], \"yo\", label=\"Iris setosa\")\n",
        "        plt.plot(X[:, 0][y==1], X[:, 1][y==1], \"bs\", label=\"Iris versicolor\")\n",
        "        plt.plot(X[:, 0][y==2], X[:, 1][y==2], \"g^\", label=\"Iris virginica\")\n",
        "        plt.axis(axes)\n",
        "    if iris:\n",
        "        plt.xlabel(\"Petal length\", fontsize=14)\n",
        "        plt.ylabel(\"Petal width\", fontsize=14)\n",
        "    else:\n",
        "        plt.xlabel(r\"$x_1$\", fontsize=18)\n",
        "        plt.ylabel(r\"$x_2$\", fontsize=18, rotation=0)\n",
        "    if legend:\n",
        "        plt.legend(loc=\"lower right\", fontsize=14)"
      ],
      "metadata": {
        "id": "0teB7sK7omSG"
      },
      "execution_count": null,
      "outputs": []
    },
    {
      "cell_type": "code",
      "source": [
        "from sklearn.datasets import make_moons\n",
        "import numpy as np\n",
        "Xm, ym = make_moons(n_samples=100, noise=0.25, random_state=53)\n",
        "\n",
        "deep_tree_clf1 = DecisionTreeClassifier(random_state=42)\n",
        "deep_tree_clf2 = DecisionTreeClassifier(min_samples_leaf=4, random_state=42)\n",
        "deep_tree_clf1.fit(Xm, ym)\n",
        "deep_tree_clf2.fit(Xm, ym)\n",
        "\n",
        "fig, axes = plt.subplots(ncols=2, figsize=(10, 4), sharey=True)\n",
        "plt.sca(axes[0])\n",
        "plot_decision_boundary(deep_tree_clf1, Xm, ym, axes=[-1.5, 2.4, -1, 1.5], iris=False)\n",
        "plt.title(\"No restrictions\", fontsize=16)\n",
        "plt.sca(axes[1])\n",
        "plot_decision_boundary(deep_tree_clf2, Xm, ym, axes=[-1.5, 2.4, -1, 1.5], iris=False)\n",
        "plt.title(\"min_samples_leaf = {}\".format(deep_tree_clf2.min_samples_leaf), fontsize=14)\n",
        "plt.ylabel(\"\")\n",
        "\n",
        "plt.show()"
      ],
      "metadata": {
        "colab": {
          "base_uri": "https://localhost:8080/"
        },
        "id": "ekIGSftOoY-0",
        "outputId": "1ab95319-252e-4754-ec06-090df85dee37"
      },
      "execution_count": null,
      "outputs": [
        {
          "output_type": "display_data",
          "data": {
            "text/plain": [
              "<Figure size 720x288 with 2 Axes>"
            ],
            "image/png": "[encoded data removed]"
          },
          "metadata": {
            "needs_background": "light"
          }
        }
      ]
    },
    {
      "cell_type": "code",
      "source": [
        "dot_data2 = export_graphviz(\n",
        "    deep_tree_clf1,\n",
        "    # feature_names = iris.feature_names[2:],\n",
        "    # class_names = iris.target_names,\n",
        "    rounded=True,\n",
        "    filled=True # 색 칠해줌\n",
        ")\n",
        "\n",
        "graphviz.Source(dot_data2)"
      ],
      "metadata": {
        "colab": {
          "base_uri": "https://localhost:8080/"
        },
        "id": "I8LrLB5uoxqY",
        "outputId": "747f90ee-6dc0-42ad-ed43-0bab1afbefca"
      },
      "execution_count": null,
      "outputs": [
        {
          "output_type": "execute_result",
          "data": {
            "text/plain": [
              "<graphviz.files.Source at 0x7f3d5f528580>"
            ],
            "image/svg+xml": "<?xml version=\"1.0\" encoding=\"UTF-8\" standalone=\"no\"?>\n<!DOCTYPE svg PUBLIC \"-//W3C//DTD SVG 1.1//EN\"\n \"http://www.w3.org/Graphics/SVG/1.1/DTD/svg11.dtd\">\n<!-- Generated by graphviz version 2.43.0 (0)\n -->\n<!-- Title: Tree Pages: 1 -->\n<svg width=\"757pt\" height=\"789pt\"\n viewBox=\"0.00 0.00 756.50 789.00\" xmlns=\"http://www.w3.org/2000/svg\" xmlns:xlink=\"http://www.w3.org/1999/xlink\">\n<g id=\"graph0\" class=\"graph\" transform=\"scale(1 1) rotate(0) translate(4 785)\">\n<title>Tree</title>\n<polygon fill=\"white\" stroke=\"transparent\" points=\"-4,4 -4,-785 752.5,-785 752.5,4 -4,4\"/>\n<!-- 0 -->\n<g id=\"node1\" class=\"node\">\n<title>0</title>\n<path fill=\"#ffffff\" stroke=\"black\" d=\"M272,-781C272,-781 186,-781 186,-781 180,-781 174,-775 174,-769 174,-769 174,-725 174,-725 174,-719 180,-713 186,-713 186,-713 272,-713 272,-713 278,-713 284,-719 284,-725 284,-725 284,-769 284,-769 284,-775 278,-781 272,-781\"/>\n<text text-anchor=\"middle\" x=\"229\" y=\"-765.8\" font-family=\"Helvetica,sans-Serif\" font-size=\"14.00\">X[1] &lt;= &#45;0.092</text>\n<text text-anchor=\"middle\" x=\"229\" y=\"-750.8\" font-family=\"Helvetica,sans-Serif\" font-size=\"14.00\">gini = 0.5</text>\n<text text-anchor=\"middle\" x=\"229\" y=\"-735.8\" font-family=\"Helvetica,sans-Serif\" font-size=\"14.00\">samples = 100</text>\n<text text-anchor=\"middle\" x=\"229\" y=\"-720.8\" font-family=\"Helvetica,sans-Serif\" font-size=\"14.00\">value = [50, 50]</text>\n</g>\n<!-- 1 -->\n<g id=\"node2\" class=\"node\">\n<title>1</title>\n<path fill=\"#41a1e6\" stroke=\"black\" d=\"M206,-677C206,-677 128,-677 128,-677 122,-677 116,-671 116,-665 116,-665 116,-621 116,-621 116,-615 122,-609 128,-609 128,-609 206,-609 206,-609 212,-609 218,-615 218,-621 218,-621 218,-665 218,-665 218,-671 212,-677 206,-677\"/>\n<text text-anchor=\"middle\" x=\"167\" y=\"-661.8\" font-family=\"Helvetica,sans-Serif\" font-size=\"14.00\">X[0] &lt;= 1.195</text>\n<text text-anchor=\"middle\" x=\"167\" y=\"-646.8\" font-family=\"Helvetica,sans-Serif\" font-size=\"14.00\">gini = 0.071</text>\n<text text-anchor=\"middle\" x=\"167\" y=\"-631.8\" font-family=\"Helvetica,sans-Serif\" font-size=\"14.00\">samples = 27</text>\n<text text-anchor=\"middle\" x=\"167\" y=\"-616.8\" font-family=\"Helvetica,sans-Serif\" font-size=\"14.00\">value = [1, 26]</text>\n</g>\n<!-- 0&#45;&gt;1 -->\n<g id=\"edge1\" class=\"edge\">\n<title>0&#45;&gt;1</title>\n<path fill=\"none\" stroke=\"black\" d=\"M208.87,-712.88C203.67,-704.33 198.01,-695.01 192.57,-686.07\"/>\n<polygon fill=\"black\" stroke=\"black\" points=\"195.43,-684.03 187.24,-677.3 189.44,-687.66 195.43,-684.03\"/>\n<text text-anchor=\"middle\" x=\"181.32\" y=\"-697.89\" font-family=\"Helvetica,sans-Serif\" font-size=\"14.00\">True</text>\n</g>\n<!-- 6 -->\n<g id=\"node7\" class=\"node\">\n<title>6</title>\n<path fill=\"#f2bf9a\" stroke=\"black\" d=\"M334,-677C334,-677 248,-677 248,-677 242,-677 236,-671 236,-665 236,-665 236,-621 236,-621 236,-615 242,-609 248,-609 248,-609 334,-609 334,-609 340,-609 346,-615 346,-621 346,-621 346,-665 346,-665 346,-671 340,-677 334,-677\"/>\n<text text-anchor=\"middle\" x=\"291\" y=\"-661.8\" font-family=\"Helvetica,sans-Serif\" font-size=\"14.00\">X[0] &lt;= 1.36</text>\n<text text-anchor=\"middle\" x=\"291\" y=\"-646.8\" font-family=\"Helvetica,sans-Serif\" font-size=\"14.00\">gini = 0.441</text>\n<text text-anchor=\"middle\" x=\"291\" y=\"-631.8\" font-family=\"Helvetica,sans-Serif\" font-size=\"14.00\">samples = 73</text>\n<text text-anchor=\"middle\" x=\"291\" y=\"-616.8\" font-family=\"Helvetica,sans-Serif\" font-size=\"14.00\">value = [49, 24]</text>\n</g>\n<!-- 0&#45;&gt;6 -->\n<g id=\"edge6\" class=\"edge\">\n<title>0&#45;&gt;6</title>\n<path fill=\"none\" stroke=\"black\" d=\"M249.13,-712.88C254.33,-704.33 259.99,-695.01 265.43,-686.07\"/>\n<polygon fill=\"black\" stroke=\"black\" points=\"268.56,-687.66 270.76,-677.3 262.57,-684.03 268.56,-687.66\"/>\n<text text-anchor=\"middle\" x=\"276.68\" y=\"-697.89\" font-family=\"Helvetica,sans-Serif\" font-size=\"14.00\">False</text>\n</g>\n<!-- 2 -->\n<g id=\"node3\" class=\"node\">\n<title>2</title>\n<path fill=\"#399de5\" stroke=\"black\" d=\"M90,-565.5C90,-565.5 12,-565.5 12,-565.5 6,-565.5 0,-559.5 0,-553.5 0,-553.5 0,-524.5 0,-524.5 0,-518.5 6,-512.5 12,-512.5 12,-512.5 90,-512.5 90,-512.5 96,-512.5 102,-518.5 102,-524.5 102,-524.5 102,-553.5 102,-553.5 102,-559.5 96,-565.5 90,-565.5\"/>\n<text text-anchor=\"middle\" x=\"51\" y=\"-550.3\" font-family=\"Helvetica,sans-Serif\" font-size=\"14.00\">gini = 0.0</text>\n<text text-anchor=\"middle\" x=\"51\" y=\"-535.3\" font-family=\"Helvetica,sans-Serif\" font-size=\"14.00\">samples = 19</text>\n<text text-anchor=\"middle\" x=\"51\" y=\"-520.3\" font-family=\"Helvetica,sans-Serif\" font-size=\"14.00\">value = [0, 19]</text>\n</g>\n<!-- 1&#45;&gt;2 -->\n<g id=\"edge2\" class=\"edge\">\n<title>1&#45;&gt;2</title>\n<path fill=\"none\" stroke=\"black\" d=\"M129.34,-608.88C115.96,-597.12 100.92,-583.89 87.62,-572.2\"/>\n<polygon fill=\"black\" stroke=\"black\" points=\"89.84,-569.49 80.02,-565.52 85.22,-574.75 89.84,-569.49\"/>\n</g>\n<!-- 3 -->\n<g id=\"node4\" class=\"node\">\n<title>3</title>\n<path fill=\"#55abe9\" stroke=\"black\" d=\"M203.5,-573C203.5,-573 132.5,-573 132.5,-573 126.5,-573 120.5,-567 120.5,-561 120.5,-561 120.5,-517 120.5,-517 120.5,-511 126.5,-505 132.5,-505 132.5,-505 203.5,-505 203.5,-505 209.5,-505 215.5,-511 215.5,-517 215.5,-517 215.5,-561 215.5,-561 215.5,-567 209.5,-573 203.5,-573\"/>\n<text text-anchor=\"middle\" x=\"168\" y=\"-557.8\" font-family=\"Helvetica,sans-Serif\" font-size=\"14.00\">X[1] &lt;= &#45;0.43</text>\n<text text-anchor=\"middle\" x=\"168\" y=\"-542.8\" font-family=\"Helvetica,sans-Serif\" font-size=\"14.00\">gini = 0.219</text>\n<text text-anchor=\"middle\" x=\"168\" y=\"-527.8\" font-family=\"Helvetica,sans-Serif\" font-size=\"14.00\">samples = 8</text>\n<text text-anchor=\"middle\" x=\"168\" y=\"-512.8\" font-family=\"Helvetica,sans-Serif\" font-size=\"14.00\">value = [1, 7]</text>\n</g>\n<!-- 1&#45;&gt;3 -->\n<g id=\"edge3\" class=\"edge\">\n<title>1&#45;&gt;3</title>\n<path fill=\"none\" stroke=\"black\" d=\"M167.32,-608.88C167.4,-600.78 167.49,-591.98 167.57,-583.47\"/>\n<polygon fill=\"black\" stroke=\"black\" points=\"171.08,-583.33 167.67,-573.3 164.08,-583.26 171.08,-583.33\"/>\n</g>\n<!-- 4 -->\n<g id=\"node5\" class=\"node\">\n<title>4</title>\n<path fill=\"#e58139\" stroke=\"black\" d=\"M91.5,-461.5C91.5,-461.5 20.5,-461.5 20.5,-461.5 14.5,-461.5 8.5,-455.5 8.5,-449.5 8.5,-449.5 8.5,-420.5 8.5,-420.5 8.5,-414.5 14.5,-408.5 20.5,-408.5 20.5,-408.5 91.5,-408.5 91.5,-408.5 97.5,-408.5 103.5,-414.5 103.5,-420.5 103.5,-420.5 103.5,-449.5 103.5,-449.5 103.5,-455.5 97.5,-461.5 91.5,-461.5\"/>\n<text text-anchor=\"middle\" x=\"56\" y=\"-446.3\" font-family=\"Helvetica,sans-Serif\" font-size=\"14.00\">gini = 0.0</text>\n<text text-anchor=\"middle\" x=\"56\" y=\"-431.3\" font-family=\"Helvetica,sans-Serif\" font-size=\"14.00\">samples = 1</text>\n<text text-anchor=\"middle\" x=\"56\" y=\"-416.3\" font-family=\"Helvetica,sans-Serif\" font-size=\"14.00\">value = [1, 0]</text>\n</g>\n<!-- 3&#45;&gt;4 -->\n<g id=\"edge4\" class=\"edge\">\n<title>3&#45;&gt;4</title>\n<path fill=\"none\" stroke=\"black\" d=\"M131.64,-504.88C118.84,-493.23 104.47,-480.14 91.72,-468.53\"/>\n<polygon fill=\"black\" stroke=\"black\" points=\"93.77,-465.67 84.02,-461.52 89.06,-470.84 93.77,-465.67\"/>\n</g>\n<!-- 5 -->\n<g id=\"node6\" class=\"node\">\n<title>5</title>\n<path fill=\"#399de5\" stroke=\"black\" d=\"M204.5,-461.5C204.5,-461.5 133.5,-461.5 133.5,-461.5 127.5,-461.5 121.5,-455.5 121.5,-449.5 121.5,-449.5 121.5,-420.5 121.5,-420.5 121.5,-414.5 127.5,-408.5 133.5,-408.5 133.5,-408.5 204.5,-408.5 204.5,-408.5 210.5,-408.5 216.5,-414.5 216.5,-420.5 216.5,-420.5 216.5,-449.5 216.5,-449.5 216.5,-455.5 210.5,-461.5 204.5,-461.5\"/>\n<text text-anchor=\"middle\" x=\"169\" y=\"-446.3\" font-family=\"Helvetica,sans-Serif\" font-size=\"14.00\">gini = 0.0</text>\n<text text-anchor=\"middle\" x=\"169\" y=\"-431.3\" font-family=\"Helvetica,sans-Serif\" font-size=\"14.00\">samples = 7</text>\n<text text-anchor=\"middle\" x=\"169\" y=\"-416.3\" font-family=\"Helvetica,sans-Serif\" font-size=\"14.00\">value = [0, 7]</text>\n</g>\n<!-- 3&#45;&gt;5 -->\n<g id=\"edge5\" class=\"edge\">\n<title>3&#45;&gt;5</title>\n<path fill=\"none\" stroke=\"black\" d=\"M168.32,-504.88C168.43,-494.33 168.54,-482.6 168.65,-471.85\"/>\n<polygon fill=\"black\" stroke=\"black\" points=\"172.15,-471.55 168.75,-461.52 165.15,-471.49 172.15,-471.55\"/>\n</g>\n<!-- 7 -->\n<g id=\"node8\" class=\"node\">\n<title>7</title>\n<path fill=\"#eba069\" stroke=\"black\" d=\"M333,-573C333,-573 247,-573 247,-573 241,-573 235,-567 235,-561 235,-561 235,-517 235,-517 235,-511 241,-505 247,-505 247,-505 333,-505 333,-505 339,-505 345,-511 345,-517 345,-517 345,-561 345,-561 345,-567 339,-573 333,-573\"/>\n<text text-anchor=\"middle\" x=\"290\" y=\"-557.8\" font-family=\"Helvetica,sans-Serif\" font-size=\"14.00\">X[0] &lt;= &#45;0.379</text>\n<text text-anchor=\"middle\" x=\"290\" y=\"-542.8\" font-family=\"Helvetica,sans-Serif\" font-size=\"14.00\">gini = 0.316</text>\n<text text-anchor=\"middle\" x=\"290\" y=\"-527.8\" font-family=\"Helvetica,sans-Serif\" font-size=\"14.00\">samples = 61</text>\n<text text-anchor=\"middle\" x=\"290\" y=\"-512.8\" font-family=\"Helvetica,sans-Serif\" font-size=\"14.00\">value = [49, 12]</text>\n</g>\n<!-- 6&#45;&gt;7 -->\n<g id=\"edge7\" class=\"edge\">\n<title>6&#45;&gt;7</title>\n<path fill=\"none\" stroke=\"black\" d=\"M290.68,-608.88C290.6,-600.78 290.51,-591.98 290.43,-583.47\"/>\n<polygon fill=\"black\" stroke=\"black\" points=\"293.92,-583.26 290.33,-573.3 286.92,-583.33 293.92,-583.26\"/>\n</g>\n<!-- 24 -->\n<g id=\"node25\" class=\"node\">\n<title>24</title>\n<path fill=\"#399de5\" stroke=\"black\" d=\"M453,-565.5C453,-565.5 375,-565.5 375,-565.5 369,-565.5 363,-559.5 363,-553.5 363,-553.5 363,-524.5 363,-524.5 363,-518.5 369,-512.5 375,-512.5 375,-512.5 453,-512.5 453,-512.5 459,-512.5 465,-518.5 465,-524.5 465,-524.5 465,-553.5 465,-553.5 465,-559.5 459,-565.5 453,-565.5\"/>\n<text text-anchor=\"middle\" x=\"414\" y=\"-550.3\" font-family=\"Helvetica,sans-Serif\" font-size=\"14.00\">gini = 0.0</text>\n<text text-anchor=\"middle\" x=\"414\" y=\"-535.3\" font-family=\"Helvetica,sans-Serif\" font-size=\"14.00\">samples = 12</text>\n<text text-anchor=\"middle\" x=\"414\" y=\"-520.3\" font-family=\"Helvetica,sans-Serif\" font-size=\"14.00\">value = [0, 12]</text>\n</g>\n<!-- 6&#45;&gt;24 -->\n<g id=\"edge24\" class=\"edge\">\n<title>6&#45;&gt;24</title>\n<path fill=\"none\" stroke=\"black\" d=\"M330.93,-608.88C345.13,-597.12 361.07,-583.89 375.17,-572.2\"/>\n<polygon fill=\"black\" stroke=\"black\" points=\"377.76,-574.6 383.23,-565.52 373.29,-569.21 377.76,-574.6\"/>\n</g>\n<!-- 8 -->\n<g id=\"node9\" class=\"node\">\n<title>8</title>\n<path fill=\"#e58139\" stroke=\"black\" d=\"M328,-461.5C328,-461.5 250,-461.5 250,-461.5 244,-461.5 238,-455.5 238,-449.5 238,-449.5 238,-420.5 238,-420.5 238,-414.5 244,-408.5 250,-408.5 250,-408.5 328,-408.5 328,-408.5 334,-408.5 340,-414.5 340,-420.5 340,-420.5 340,-449.5 340,-449.5 340,-455.5 334,-461.5 328,-461.5\"/>\n<text text-anchor=\"middle\" x=\"289\" y=\"-446.3\" font-family=\"Helvetica,sans-Serif\" font-size=\"14.00\">gini = 0.0</text>\n<text text-anchor=\"middle\" x=\"289\" y=\"-431.3\" font-family=\"Helvetica,sans-Serif\" font-size=\"14.00\">samples = 22</text>\n<text text-anchor=\"middle\" x=\"289\" y=\"-416.3\" font-family=\"Helvetica,sans-Serif\" font-size=\"14.00\">value = [22, 0]</text>\n</g>\n<!-- 7&#45;&gt;8 -->\n<g id=\"edge8\" class=\"edge\">\n<title>7&#45;&gt;8</title>\n<path fill=\"none\" stroke=\"black\" d=\"M289.68,-504.88C289.57,-494.33 289.46,-482.6 289.35,-471.85\"/>\n<polygon fill=\"black\" stroke=\"black\" points=\"292.85,-471.49 289.25,-461.52 285.85,-471.55 292.85,-471.49\"/>\n</g>\n<!-- 9 -->\n<g id=\"node10\" class=\"node\">\n<title>9</title>\n<path fill=\"#f1b991\" stroke=\"black\" d=\"M456,-469C456,-469 370,-469 370,-469 364,-469 358,-463 358,-457 358,-457 358,-413 358,-413 358,-407 364,-401 370,-401 370,-401 456,-401 456,-401 462,-401 468,-407 468,-413 468,-413 468,-457 468,-457 468,-463 462,-469 456,-469\"/>\n<text text-anchor=\"middle\" x=\"413\" y=\"-453.8\" font-family=\"Helvetica,sans-Serif\" font-size=\"14.00\">X[0] &lt;= 0.466</text>\n<text text-anchor=\"middle\" x=\"413\" y=\"-438.8\" font-family=\"Helvetica,sans-Serif\" font-size=\"14.00\">gini = 0.426</text>\n<text text-anchor=\"middle\" x=\"413\" y=\"-423.8\" font-family=\"Helvetica,sans-Serif\" font-size=\"14.00\">samples = 39</text>\n<text text-anchor=\"middle\" x=\"413\" y=\"-408.8\" font-family=\"Helvetica,sans-Serif\" font-size=\"14.00\">value = [27, 12]</text>\n</g>\n<!-- 7&#45;&gt;9 -->\n<g id=\"edge9\" class=\"edge\">\n<title>7&#45;&gt;9</title>\n<path fill=\"none\" stroke=\"black\" d=\"M329.93,-504.88C341.11,-495.62 353.36,-485.45 364.95,-475.85\"/>\n<polygon fill=\"black\" stroke=\"black\" points=\"367.38,-478.38 372.84,-469.3 362.91,-472.99 367.38,-478.38\"/>\n</g>\n<!-- 10 -->\n<g id=\"node11\" class=\"node\">\n<title>10</title>\n<path fill=\"#ffffff\" stroke=\"black\" d=\"M394,-365C394,-365 308,-365 308,-365 302,-365 296,-359 296,-353 296,-353 296,-309 296,-309 296,-303 302,-297 308,-297 308,-297 394,-297 394,-297 400,-297 406,-303 406,-309 406,-309 406,-353 406,-353 406,-359 400,-365 394,-365\"/>\n<text text-anchor=\"middle\" x=\"351\" y=\"-349.8\" font-family=\"Helvetica,sans-Serif\" font-size=\"14.00\">X[1] &lt;= 0.769</text>\n<text text-anchor=\"middle\" x=\"351\" y=\"-334.8\" font-family=\"Helvetica,sans-Serif\" font-size=\"14.00\">gini = 0.5</text>\n<text text-anchor=\"middle\" x=\"351\" y=\"-319.8\" font-family=\"Helvetica,sans-Serif\" font-size=\"14.00\">samples = 20</text>\n<text text-anchor=\"middle\" x=\"351\" y=\"-304.8\" font-family=\"Helvetica,sans-Serif\" font-size=\"14.00\">value = [10, 10]</text>\n</g>\n<!-- 9&#45;&gt;10 -->\n<g id=\"edge10\" class=\"edge\">\n<title>9&#45;&gt;10</title>\n<path fill=\"none\" stroke=\"black\" d=\"M392.87,-400.88C387.67,-392.33 382.01,-383.01 376.57,-374.07\"/>\n<polygon fill=\"black\" stroke=\"black\" points=\"379.43,-372.03 371.24,-365.3 373.44,-375.66 379.43,-372.03\"/>\n</g>\n<!-- 17 -->\n<g id=\"node18\" class=\"node\">\n<title>17</title>\n<path fill=\"#e89050\" stroke=\"black\" d=\"M514,-365C514,-365 436,-365 436,-365 430,-365 424,-359 424,-353 424,-353 424,-309 424,-309 424,-303 430,-297 436,-297 436,-297 514,-297 514,-297 520,-297 526,-303 526,-309 526,-309 526,-353 526,-353 526,-359 520,-365 514,-365\"/>\n<text text-anchor=\"middle\" x=\"475\" y=\"-349.8\" font-family=\"Helvetica,sans-Serif\" font-size=\"14.00\">X[1] &lt;= 0.054</text>\n<text text-anchor=\"middle\" x=\"475\" y=\"-334.8\" font-family=\"Helvetica,sans-Serif\" font-size=\"14.00\">gini = 0.188</text>\n<text text-anchor=\"middle\" x=\"475\" y=\"-319.8\" font-family=\"Helvetica,sans-Serif\" font-size=\"14.00\">samples = 19</text>\n<text text-anchor=\"middle\" x=\"475\" y=\"-304.8\" font-family=\"Helvetica,sans-Serif\" font-size=\"14.00\">value = [17, 2]</text>\n</g>\n<!-- 9&#45;&gt;17 -->\n<g id=\"edge17\" class=\"edge\">\n<title>9&#45;&gt;17</title>\n<path fill=\"none\" stroke=\"black\" d=\"M433.13,-400.88C438.33,-392.33 443.99,-383.01 449.43,-374.07\"/>\n<polygon fill=\"black\" stroke=\"black\" points=\"452.56,-375.66 454.76,-365.3 446.57,-372.03 452.56,-375.66\"/>\n</g>\n<!-- 11 -->\n<g id=\"node12\" class=\"node\">\n<title>11</title>\n<path fill=\"#399de5\" stroke=\"black\" d=\"M271.5,-253.5C271.5,-253.5 200.5,-253.5 200.5,-253.5 194.5,-253.5 188.5,-247.5 188.5,-241.5 188.5,-241.5 188.5,-212.5 188.5,-212.5 188.5,-206.5 194.5,-200.5 200.5,-200.5 200.5,-200.5 271.5,-200.5 271.5,-200.5 277.5,-200.5 283.5,-206.5 283.5,-212.5 283.5,-212.5 283.5,-241.5 283.5,-241.5 283.5,-247.5 277.5,-253.5 271.5,-253.5\"/>\n<text text-anchor=\"middle\" x=\"236\" y=\"-238.3\" font-family=\"Helvetica,sans-Serif\" font-size=\"14.00\">gini = 0.0</text>\n<text text-anchor=\"middle\" x=\"236\" y=\"-223.3\" font-family=\"Helvetica,sans-Serif\" font-size=\"14.00\">samples = 9</text>\n<text text-anchor=\"middle\" x=\"236\" y=\"-208.3\" font-family=\"Helvetica,sans-Serif\" font-size=\"14.00\">value = [0, 9]</text>\n</g>\n<!-- 10&#45;&gt;11 -->\n<g id=\"edge11\" class=\"edge\">\n<title>10&#45;&gt;11</title>\n<path fill=\"none\" stroke=\"black\" d=\"M313.66,-296.88C300.4,-285.12 285.49,-271.89 272.31,-260.2\"/>\n<polygon fill=\"black\" stroke=\"black\" points=\"274.58,-257.54 264.77,-253.52 269.93,-262.77 274.58,-257.54\"/>\n</g>\n<!-- 12 -->\n<g id=\"node13\" class=\"node\">\n<title>12</title>\n<path fill=\"#e88e4d\" stroke=\"black\" d=\"M392.5,-261C392.5,-261 313.5,-261 313.5,-261 307.5,-261 301.5,-255 301.5,-249 301.5,-249 301.5,-205 301.5,-205 301.5,-199 307.5,-193 313.5,-193 313.5,-193 392.5,-193 392.5,-193 398.5,-193 404.5,-199 404.5,-205 404.5,-205 404.5,-249 404.5,-249 404.5,-255 398.5,-261 392.5,-261\"/>\n<text text-anchor=\"middle\" x=\"353\" y=\"-245.8\" font-family=\"Helvetica,sans-Serif\" font-size=\"14.00\">X[0] &lt;= &#45;0.163</text>\n<text text-anchor=\"middle\" x=\"353\" y=\"-230.8\" font-family=\"Helvetica,sans-Serif\" font-size=\"14.00\">gini = 0.165</text>\n<text text-anchor=\"middle\" x=\"353\" y=\"-215.8\" font-family=\"Helvetica,sans-Serif\" font-size=\"14.00\">samples = 11</text>\n<text text-anchor=\"middle\" x=\"353\" y=\"-200.8\" font-family=\"Helvetica,sans-Serif\" font-size=\"14.00\">value = [10, 1]</text>\n</g>\n<!-- 10&#45;&gt;12 -->\n<g id=\"edge12\" class=\"edge\">\n<title>10&#45;&gt;12</title>\n<path fill=\"none\" stroke=\"black\" d=\"M351.65,-296.88C351.81,-288.78 351.98,-279.98 352.15,-271.47\"/>\n<polygon fill=\"black\" stroke=\"black\" points=\"355.65,-271.37 352.35,-261.3 348.65,-271.23 355.65,-271.37\"/>\n</g>\n<!-- 13 -->\n<g id=\"node14\" class=\"node\">\n<title>13</title>\n<path fill=\"#eeab7b\" stroke=\"black\" d=\"M337.5,-157C337.5,-157 258.5,-157 258.5,-157 252.5,-157 246.5,-151 246.5,-145 246.5,-145 246.5,-101 246.5,-101 246.5,-95 252.5,-89 258.5,-89 258.5,-89 337.5,-89 337.5,-89 343.5,-89 349.5,-95 349.5,-101 349.5,-101 349.5,-145 349.5,-145 349.5,-151 343.5,-157 337.5,-157\"/>\n<text text-anchor=\"middle\" x=\"298\" y=\"-141.8\" font-family=\"Helvetica,sans-Serif\" font-size=\"14.00\">X[0] &lt;= &#45;0.191</text>\n<text text-anchor=\"middle\" x=\"298\" y=\"-126.8\" font-family=\"Helvetica,sans-Serif\" font-size=\"14.00\">gini = 0.375</text>\n<text text-anchor=\"middle\" x=\"298\" y=\"-111.8\" font-family=\"Helvetica,sans-Serif\" font-size=\"14.00\">samples = 4</text>\n<text text-anchor=\"middle\" x=\"298\" y=\"-96.8\" font-family=\"Helvetica,sans-Serif\" font-size=\"14.00\">value = [3, 1]</text>\n</g>\n<!-- 12&#45;&gt;13 -->\n<g id=\"edge13\" class=\"edge\">\n<title>12&#45;&gt;13</title>\n<path fill=\"none\" stroke=\"black\" d=\"M335.14,-192.88C330.58,-184.42 325.61,-175.21 320.84,-166.35\"/>\n<polygon fill=\"black\" stroke=\"black\" points=\"323.78,-164.44 315.96,-157.3 317.62,-167.76 323.78,-164.44\"/>\n</g>\n<!-- 16 -->\n<g id=\"node17\" class=\"node\">\n<title>16</title>\n<path fill=\"#e58139\" stroke=\"black\" d=\"M450.5,-149.5C450.5,-149.5 379.5,-149.5 379.5,-149.5 373.5,-149.5 367.5,-143.5 367.5,-137.5 367.5,-137.5 367.5,-108.5 367.5,-108.5 367.5,-102.5 373.5,-96.5 379.5,-96.5 379.5,-96.5 450.5,-96.5 450.5,-96.5 456.5,-96.5 462.5,-102.5 462.5,-108.5 462.5,-108.5 462.5,-137.5 462.5,-137.5 462.5,-143.5 456.5,-149.5 450.5,-149.5\"/>\n<text text-anchor=\"middle\" x=\"415\" y=\"-134.3\" font-family=\"Helvetica,sans-Serif\" font-size=\"14.00\">gini = 0.0</text>\n<text text-anchor=\"middle\" x=\"415\" y=\"-119.3\" font-family=\"Helvetica,sans-Serif\" font-size=\"14.00\">samples = 7</text>\n<text text-anchor=\"middle\" x=\"415\" y=\"-104.3\" font-family=\"Helvetica,sans-Serif\" font-size=\"14.00\">value = [7, 0]</text>\n</g>\n<!-- 12&#45;&gt;16 -->\n<g id=\"edge16\" class=\"edge\">\n<title>12&#45;&gt;16</title>\n<path fill=\"none\" stroke=\"black\" d=\"M373.13,-192.88C379.88,-181.78 387.42,-169.37 394.22,-158.18\"/>\n<polygon fill=\"black\" stroke=\"black\" points=\"397.28,-159.88 399.49,-149.52 391.3,-156.25 397.28,-159.88\"/>\n</g>\n<!-- 14 -->\n<g id=\"node15\" class=\"node\">\n<title>14</title>\n<path fill=\"#e58139\" stroke=\"black\" d=\"M277.5,-53C277.5,-53 206.5,-53 206.5,-53 200.5,-53 194.5,-47 194.5,-41 194.5,-41 194.5,-12 194.5,-12 194.5,-6 200.5,0 206.5,0 206.5,0 277.5,0 277.5,0 283.5,0 289.5,-6 289.5,-12 289.5,-12 289.5,-41 289.5,-41 289.5,-47 283.5,-53 277.5,-53\"/>\n<text text-anchor=\"middle\" x=\"242\" y=\"-37.8\" font-family=\"Helvetica,sans-Serif\" font-size=\"14.00\">gini = 0.0</text>\n<text text-anchor=\"middle\" x=\"242\" y=\"-22.8\" font-family=\"Helvetica,sans-Serif\" font-size=\"14.00\">samples = 3</text>\n<text text-anchor=\"middle\" x=\"242\" y=\"-7.8\" font-family=\"Helvetica,sans-Serif\" font-size=\"14.00\">value = [3, 0]</text>\n</g>\n<!-- 13&#45;&gt;14 -->\n<g id=\"edge14\" class=\"edge\">\n<title>13&#45;&gt;14</title>\n<path fill=\"none\" stroke=\"black\" d=\"M278.41,-88.95C273.26,-80.26 267.7,-70.86 262.5,-62.09\"/>\n<polygon fill=\"black\" stroke=\"black\" points=\"265.36,-60.06 257.25,-53.24 259.34,-63.62 265.36,-60.06\"/>\n</g>\n<!-- 15 -->\n<g id=\"node16\" class=\"node\">\n<title>15</title>\n<path fill=\"#399de5\" stroke=\"black\" d=\"M390.5,-53C390.5,-53 319.5,-53 319.5,-53 313.5,-53 307.5,-47 307.5,-41 307.5,-41 307.5,-12 307.5,-12 307.5,-6 313.5,0 319.5,0 319.5,0 390.5,0 390.5,0 396.5,0 402.5,-6 402.5,-12 402.5,-12 402.5,-41 402.5,-41 402.5,-47 396.5,-53 390.5,-53\"/>\n<text text-anchor=\"middle\" x=\"355\" y=\"-37.8\" font-family=\"Helvetica,sans-Serif\" font-size=\"14.00\">gini = 0.0</text>\n<text text-anchor=\"middle\" x=\"355\" y=\"-22.8\" font-family=\"Helvetica,sans-Serif\" font-size=\"14.00\">samples = 1</text>\n<text text-anchor=\"middle\" x=\"355\" y=\"-7.8\" font-family=\"Helvetica,sans-Serif\" font-size=\"14.00\">value = [0, 1]</text>\n</g>\n<!-- 13&#45;&gt;15 -->\n<g id=\"edge15\" class=\"edge\">\n<title>13&#45;&gt;15</title>\n<path fill=\"none\" stroke=\"black\" d=\"M317.94,-88.95C323.23,-80.17 328.97,-70.66 334.3,-61.82\"/>\n<polygon fill=\"black\" stroke=\"black\" points=\"337.31,-63.61 339.48,-53.24 331.31,-59.99 337.31,-63.61\"/>\n</g>\n<!-- 18 -->\n<g id=\"node19\" class=\"node\">\n<title>18</title>\n<path fill=\"#399de5\" stroke=\"black\" d=\"M508.5,-253.5C508.5,-253.5 437.5,-253.5 437.5,-253.5 431.5,-253.5 425.5,-247.5 425.5,-241.5 425.5,-241.5 425.5,-212.5 425.5,-212.5 425.5,-206.5 431.5,-200.5 437.5,-200.5 437.5,-200.5 508.5,-200.5 508.5,-200.5 514.5,-200.5 520.5,-206.5 520.5,-212.5 520.5,-212.5 520.5,-241.5 520.5,-241.5 520.5,-247.5 514.5,-253.5 508.5,-253.5\"/>\n<text text-anchor=\"middle\" x=\"473\" y=\"-238.3\" font-family=\"Helvetica,sans-Serif\" font-size=\"14.00\">gini = 0.0</text>\n<text text-anchor=\"middle\" x=\"473\" y=\"-223.3\" font-family=\"Helvetica,sans-Serif\" font-size=\"14.00\">samples = 1</text>\n<text text-anchor=\"middle\" x=\"473\" y=\"-208.3\" font-family=\"Helvetica,sans-Serif\" font-size=\"14.00\">value = [0, 1]</text>\n</g>\n<!-- 17&#45;&gt;18 -->\n<g id=\"edge18\" class=\"edge\">\n<title>17&#45;&gt;18</title>\n<path fill=\"none\" stroke=\"black\" d=\"M474.35,-296.88C474.14,-286.22 473.91,-274.35 473.7,-263.52\"/>\n<polygon fill=\"black\" stroke=\"black\" points=\"477.2,-263.45 473.5,-253.52 470.2,-263.59 477.2,-263.45\"/>\n</g>\n<!-- 19 -->\n<g id=\"node20\" class=\"node\">\n<title>19</title>\n<path fill=\"#e78845\" stroke=\"black\" d=\"M629,-261C629,-261 551,-261 551,-261 545,-261 539,-255 539,-249 539,-249 539,-205 539,-205 539,-199 545,-193 551,-193 551,-193 629,-193 629,-193 635,-193 641,-199 641,-205 641,-205 641,-249 641,-249 641,-255 635,-261 629,-261\"/>\n<text text-anchor=\"middle\" x=\"590\" y=\"-245.8\" font-family=\"Helvetica,sans-Serif\" font-size=\"14.00\">X[0] &lt;= 0.639</text>\n<text text-anchor=\"middle\" x=\"590\" y=\"-230.8\" font-family=\"Helvetica,sans-Serif\" font-size=\"14.00\">gini = 0.105</text>\n<text text-anchor=\"middle\" x=\"590\" y=\"-215.8\" font-family=\"Helvetica,sans-Serif\" font-size=\"14.00\">samples = 18</text>\n<text text-anchor=\"middle\" x=\"590\" y=\"-200.8\" font-family=\"Helvetica,sans-Serif\" font-size=\"14.00\">value = [17, 1]</text>\n</g>\n<!-- 17&#45;&gt;19 -->\n<g id=\"edge19\" class=\"edge\">\n<title>17&#45;&gt;19</title>\n<path fill=\"none\" stroke=\"black\" d=\"M512.34,-296.88C522.68,-287.71 534.02,-277.65 544.76,-268.12\"/>\n<polygon fill=\"black\" stroke=\"black\" points=\"547.3,-270.55 552.46,-261.3 542.65,-265.32 547.3,-270.55\"/>\n</g>\n<!-- 20 -->\n<g id=\"node21\" class=\"node\">\n<title>20</title>\n<path fill=\"#e58139\" stroke=\"black\" d=\"M565.5,-149.5C565.5,-149.5 494.5,-149.5 494.5,-149.5 488.5,-149.5 482.5,-143.5 482.5,-137.5 482.5,-137.5 482.5,-108.5 482.5,-108.5 482.5,-102.5 488.5,-96.5 494.5,-96.5 494.5,-96.5 565.5,-96.5 565.5,-96.5 571.5,-96.5 577.5,-102.5 577.5,-108.5 577.5,-108.5 577.5,-137.5 577.5,-137.5 577.5,-143.5 571.5,-149.5 565.5,-149.5\"/>\n<text text-anchor=\"middle\" x=\"530\" y=\"-134.3\" font-family=\"Helvetica,sans-Serif\" font-size=\"14.00\">gini = 0.0</text>\n<text text-anchor=\"middle\" x=\"530\" y=\"-119.3\" font-family=\"Helvetica,sans-Serif\" font-size=\"14.00\">samples = 9</text>\n<text text-anchor=\"middle\" x=\"530\" y=\"-104.3\" font-family=\"Helvetica,sans-Serif\" font-size=\"14.00\">value = [9, 0]</text>\n</g>\n<!-- 19&#45;&gt;20 -->\n<g id=\"edge20\" class=\"edge\">\n<title>19&#45;&gt;20</title>\n<path fill=\"none\" stroke=\"black\" d=\"M570.52,-192.88C563.99,-181.78 556.69,-169.37 550.11,-158.18\"/>\n<polygon fill=\"black\" stroke=\"black\" points=\"553.1,-156.36 545.01,-149.52 547.07,-159.91 553.1,-156.36\"/>\n</g>\n<!-- 21 -->\n<g id=\"node22\" class=\"node\">\n<title>21</title>\n<path fill=\"#e89152\" stroke=\"black\" d=\"M682,-157C682,-157 608,-157 608,-157 602,-157 596,-151 596,-145 596,-145 596,-101 596,-101 596,-95 602,-89 608,-89 608,-89 682,-89 682,-89 688,-89 694,-95 694,-101 694,-101 694,-145 694,-145 694,-151 688,-157 682,-157\"/>\n<text text-anchor=\"middle\" x=\"645\" y=\"-141.8\" font-family=\"Helvetica,sans-Serif\" font-size=\"14.00\">X[0] &lt;= 0.701</text>\n<text text-anchor=\"middle\" x=\"645\" y=\"-126.8\" font-family=\"Helvetica,sans-Serif\" font-size=\"14.00\">gini = 0.198</text>\n<text text-anchor=\"middle\" x=\"645\" y=\"-111.8\" font-family=\"Helvetica,sans-Serif\" font-size=\"14.00\">samples = 9</text>\n<text text-anchor=\"middle\" x=\"645\" y=\"-96.8\" font-family=\"Helvetica,sans-Serif\" font-size=\"14.00\">value = [8, 1]</text>\n</g>\n<!-- 19&#45;&gt;21 -->\n<g id=\"edge21\" class=\"edge\">\n<title>19&#45;&gt;21</title>\n<path fill=\"none\" stroke=\"black\" d=\"M607.86,-192.88C612.42,-184.42 617.39,-175.21 622.16,-166.35\"/>\n<polygon fill=\"black\" stroke=\"black\" points=\"625.38,-167.76 627.04,-157.3 619.22,-164.44 625.38,-167.76\"/>\n</g>\n<!-- 22 -->\n<g id=\"node23\" class=\"node\">\n<title>22</title>\n<path fill=\"#399de5\" stroke=\"black\" d=\"M623.5,-53C623.5,-53 552.5,-53 552.5,-53 546.5,-53 540.5,-47 540.5,-41 540.5,-41 540.5,-12 540.5,-12 540.5,-6 546.5,0 552.5,0 552.5,0 623.5,0 623.5,0 629.5,0 635.5,-6 635.5,-12 635.5,-12 635.5,-41 635.5,-41 635.5,-47 629.5,-53 623.5,-53\"/>\n<text text-anchor=\"middle\" x=\"588\" y=\"-37.8\" font-family=\"Helvetica,sans-Serif\" font-size=\"14.00\">gini = 0.0</text>\n<text text-anchor=\"middle\" x=\"588\" y=\"-22.8\" font-family=\"Helvetica,sans-Serif\" font-size=\"14.00\">samples = 1</text>\n<text text-anchor=\"middle\" x=\"588\" y=\"-7.8\" font-family=\"Helvetica,sans-Serif\" font-size=\"14.00\">value = [0, 1]</text>\n</g>\n<!-- 21&#45;&gt;22 -->\n<g id=\"edge22\" class=\"edge\">\n<title>21&#45;&gt;22</title>\n<path fill=\"none\" stroke=\"black\" d=\"M625.06,-88.95C619.77,-80.17 614.03,-70.66 608.7,-61.82\"/>\n<polygon fill=\"black\" stroke=\"black\" points=\"611.69,-59.99 603.52,-53.24 605.69,-63.61 611.69,-59.99\"/>\n</g>\n<!-- 23 -->\n<g id=\"node24\" class=\"node\">\n<title>23</title>\n<path fill=\"#e58139\" stroke=\"black\" d=\"M736.5,-53C736.5,-53 665.5,-53 665.5,-53 659.5,-53 653.5,-47 653.5,-41 653.5,-41 653.5,-12 653.5,-12 653.5,-6 659.5,0 665.5,0 665.5,0 736.5,0 736.5,0 742.5,0 748.5,-6 748.5,-12 748.5,-12 748.5,-41 748.5,-41 748.5,-47 742.5,-53 736.5,-53\"/>\n<text text-anchor=\"middle\" x=\"701\" y=\"-37.8\" font-family=\"Helvetica,sans-Serif\" font-size=\"14.00\">gini = 0.0</text>\n<text text-anchor=\"middle\" x=\"701\" y=\"-22.8\" font-family=\"Helvetica,sans-Serif\" font-size=\"14.00\">samples = 8</text>\n<text text-anchor=\"middle\" x=\"701\" y=\"-7.8\" font-family=\"Helvetica,sans-Serif\" font-size=\"14.00\">value = [8, 0]</text>\n</g>\n<!-- 21&#45;&gt;23 -->\n<g id=\"edge23\" class=\"edge\">\n<title>21&#45;&gt;23</title>\n<path fill=\"none\" stroke=\"black\" d=\"M664.59,-88.95C669.74,-80.26 675.3,-70.86 680.5,-62.09\"/>\n<polygon fill=\"black\" stroke=\"black\" points=\"683.66,-63.62 685.75,-53.24 677.64,-60.06 683.66,-63.62\"/>\n</g>\n</g>\n</svg>\n"
          },
          "metadata": {},
          "execution_count": 14
        }
      ]
    },
    {
      "cell_type": "code",
      "source": [
        "dot_data2 = export_graphviz(\n",
        "    deep_tree_clf2,\n",
        "    # feature_names = iris.feature_names[2:],\n",
        "    # class_names = iris.target_names,\n",
        "    rounded=True,\n",
        "    filled=True # 색 칠해줌\n",
        ")\n",
        "\n",
        "graphviz.Source(dot_data2)"
      ],
      "metadata": {
        "colab": {
          "base_uri": "https://localhost:8080/"
        },
        "id": "CrwMzoDao6nQ",
        "outputId": "37232792-4b88-4641-e41e-105a177d43d6"
      },
      "execution_count": null,
      "outputs": [
        {
          "output_type": "execute_result",
          "data": {
            "text/plain": [
              "<graphviz.files.Source at 0x7f3d5f9aab20>"
            ],
            "image/svg+xml": "<?xml version=\"1.0\" encoding=\"UTF-8\" standalone=\"no\"?>\n<!DOCTYPE svg PUBLIC \"-//W3C//DTD SVG 1.1//EN\"\n \"http://www.w3.org/Graphics/SVG/1.1/DTD/svg11.dtd\">\n<!-- Generated by graphviz version 2.43.0 (0)\n -->\n<!-- Title: Tree Pages: 1 -->\n<svg width=\"703pt\" height=\"685pt\"\n viewBox=\"0.00 0.00 702.50 685.00\" xmlns=\"http://www.w3.org/2000/svg\" xmlns:xlink=\"http://www.w3.org/1999/xlink\">\n<g id=\"graph0\" class=\"graph\" transform=\"scale(1 1) rotate(0) translate(4 681)\">\n<title>Tree</title>\n<polygon fill=\"white\" stroke=\"transparent\" points=\"-4,4 -4,-681 698.5,-681 698.5,4 -4,4\"/>\n<!-- 0 -->\n<g id=\"node1\" class=\"node\">\n<title>0</title>\n<path fill=\"#ffffff\" stroke=\"black\" d=\"M277,-677C277,-677 191,-677 191,-677 185,-677 179,-671 179,-665 179,-665 179,-621 179,-621 179,-615 185,-609 191,-609 191,-609 277,-609 277,-609 283,-609 289,-615 289,-621 289,-621 289,-665 289,-665 289,-671 283,-677 277,-677\"/>\n<text text-anchor=\"middle\" x=\"234\" y=\"-661.8\" font-family=\"Helvetica,sans-Serif\" font-size=\"14.00\">X[1] &lt;= &#45;0.092</text>\n<text text-anchor=\"middle\" x=\"234\" y=\"-646.8\" font-family=\"Helvetica,sans-Serif\" font-size=\"14.00\">gini = 0.5</text>\n<text text-anchor=\"middle\" x=\"234\" y=\"-631.8\" font-family=\"Helvetica,sans-Serif\" font-size=\"14.00\">samples = 100</text>\n<text text-anchor=\"middle\" x=\"234\" y=\"-616.8\" font-family=\"Helvetica,sans-Serif\" font-size=\"14.00\">value = [50, 50]</text>\n</g>\n<!-- 1 -->\n<g id=\"node2\" class=\"node\">\n<title>1</title>\n<path fill=\"#41a1e6\" stroke=\"black\" d=\"M211,-573C211,-573 133,-573 133,-573 127,-573 121,-567 121,-561 121,-561 121,-517 121,-517 121,-511 127,-505 133,-505 133,-505 211,-505 211,-505 217,-505 223,-511 223,-517 223,-517 223,-561 223,-561 223,-567 217,-573 211,-573\"/>\n<text text-anchor=\"middle\" x=\"172\" y=\"-557.8\" font-family=\"Helvetica,sans-Serif\" font-size=\"14.00\">X[0] &lt;= 1.195</text>\n<text text-anchor=\"middle\" x=\"172\" y=\"-542.8\" font-family=\"Helvetica,sans-Serif\" font-size=\"14.00\">gini = 0.071</text>\n<text text-anchor=\"middle\" x=\"172\" y=\"-527.8\" font-family=\"Helvetica,sans-Serif\" font-size=\"14.00\">samples = 27</text>\n<text text-anchor=\"middle\" x=\"172\" y=\"-512.8\" font-family=\"Helvetica,sans-Serif\" font-size=\"14.00\">value = [1, 26]</text>\n</g>\n<!-- 0&#45;&gt;1 -->\n<g id=\"edge1\" class=\"edge\">\n<title>0&#45;&gt;1</title>\n<path fill=\"none\" stroke=\"black\" d=\"M213.87,-608.88C208.67,-600.33 203.01,-591.01 197.57,-582.07\"/>\n<polygon fill=\"black\" stroke=\"black\" points=\"200.43,-580.03 192.24,-573.3 194.44,-583.66 200.43,-580.03\"/>\n<text text-anchor=\"middle\" x=\"186.32\" y=\"-593.89\" font-family=\"Helvetica,sans-Serif\" font-size=\"14.00\">True</text>\n</g>\n<!-- 6 -->\n<g id=\"node7\" class=\"node\">\n<title>6</title>\n<path fill=\"#f2bf9a\" stroke=\"black\" d=\"M340,-573C340,-573 254,-573 254,-573 248,-573 242,-567 242,-561 242,-561 242,-517 242,-517 242,-511 248,-505 254,-505 254,-505 340,-505 340,-505 346,-505 352,-511 352,-517 352,-517 352,-561 352,-561 352,-567 346,-573 340,-573\"/>\n<text text-anchor=\"middle\" x=\"297\" y=\"-557.8\" font-family=\"Helvetica,sans-Serif\" font-size=\"14.00\">X[0] &lt;= 1.36</text>\n<text text-anchor=\"middle\" x=\"297\" y=\"-542.8\" font-family=\"Helvetica,sans-Serif\" font-size=\"14.00\">gini = 0.441</text>\n<text text-anchor=\"middle\" x=\"297\" y=\"-527.8\" font-family=\"Helvetica,sans-Serif\" font-size=\"14.00\">samples = 73</text>\n<text text-anchor=\"middle\" x=\"297\" y=\"-512.8\" font-family=\"Helvetica,sans-Serif\" font-size=\"14.00\">value = [49, 24]</text>\n</g>\n<!-- 0&#45;&gt;6 -->\n<g id=\"edge6\" class=\"edge\">\n<title>0&#45;&gt;6</title>\n<path fill=\"none\" stroke=\"black\" d=\"M254.45,-608.88C259.74,-600.33 265.49,-591.01 271.01,-582.07\"/>\n<polygon fill=\"black\" stroke=\"black\" points=\"274.16,-583.65 276.43,-573.3 268.2,-579.97 274.16,-583.65\"/>\n<text text-anchor=\"middle\" x=\"282.18\" y=\"-593.93\" font-family=\"Helvetica,sans-Serif\" font-size=\"14.00\">False</text>\n</g>\n<!-- 2 -->\n<g id=\"node3\" class=\"node\">\n<title>2</title>\n<path fill=\"#399de5\" stroke=\"black\" d=\"M90,-461.5C90,-461.5 12,-461.5 12,-461.5 6,-461.5 0,-455.5 0,-449.5 0,-449.5 0,-420.5 0,-420.5 0,-414.5 6,-408.5 12,-408.5 12,-408.5 90,-408.5 90,-408.5 96,-408.5 102,-414.5 102,-420.5 102,-420.5 102,-449.5 102,-449.5 102,-455.5 96,-461.5 90,-461.5\"/>\n<text text-anchor=\"middle\" x=\"51\" y=\"-446.3\" font-family=\"Helvetica,sans-Serif\" font-size=\"14.00\">gini = 0.0</text>\n<text text-anchor=\"middle\" x=\"51\" y=\"-431.3\" font-family=\"Helvetica,sans-Serif\" font-size=\"14.00\">samples = 19</text>\n<text text-anchor=\"middle\" x=\"51\" y=\"-416.3\" font-family=\"Helvetica,sans-Serif\" font-size=\"14.00\">value = [0, 19]</text>\n</g>\n<!-- 1&#45;&gt;2 -->\n<g id=\"edge2\" class=\"edge\">\n<title>1&#45;&gt;2</title>\n<path fill=\"none\" stroke=\"black\" d=\"M132.71,-504.88C118.76,-493.12 103.07,-479.89 89.2,-468.2\"/>\n<polygon fill=\"black\" stroke=\"black\" points=\"91.18,-465.29 81.27,-461.52 86.66,-470.64 91.18,-465.29\"/>\n</g>\n<!-- 3 -->\n<g id=\"node4\" class=\"node\">\n<title>3</title>\n<path fill=\"#55abe9\" stroke=\"black\" d=\"M211.5,-469C211.5,-469 132.5,-469 132.5,-469 126.5,-469 120.5,-463 120.5,-457 120.5,-457 120.5,-413 120.5,-413 120.5,-407 126.5,-401 132.5,-401 132.5,-401 211.5,-401 211.5,-401 217.5,-401 223.5,-407 223.5,-413 223.5,-413 223.5,-457 223.5,-457 223.5,-463 217.5,-469 211.5,-469\"/>\n<text text-anchor=\"middle\" x=\"172\" y=\"-453.8\" font-family=\"Helvetica,sans-Serif\" font-size=\"14.00\">X[1] &lt;= &#45;0.294</text>\n<text text-anchor=\"middle\" x=\"172\" y=\"-438.8\" font-family=\"Helvetica,sans-Serif\" font-size=\"14.00\">gini = 0.219</text>\n<text text-anchor=\"middle\" x=\"172\" y=\"-423.8\" font-family=\"Helvetica,sans-Serif\" font-size=\"14.00\">samples = 8</text>\n<text text-anchor=\"middle\" x=\"172\" y=\"-408.8\" font-family=\"Helvetica,sans-Serif\" font-size=\"14.00\">value = [1, 7]</text>\n</g>\n<!-- 1&#45;&gt;3 -->\n<g id=\"edge3\" class=\"edge\">\n<title>1&#45;&gt;3</title>\n<path fill=\"none\" stroke=\"black\" d=\"M172,-504.88C172,-496.78 172,-487.98 172,-479.47\"/>\n<polygon fill=\"black\" stroke=\"black\" points=\"175.5,-479.3 172,-469.3 168.5,-479.3 175.5,-479.3\"/>\n</g>\n<!-- 4 -->\n<g id=\"node5\" class=\"node\">\n<title>4</title>\n<path fill=\"#7bbeee\" stroke=\"black\" d=\"M96.5,-357.5C96.5,-357.5 25.5,-357.5 25.5,-357.5 19.5,-357.5 13.5,-351.5 13.5,-345.5 13.5,-345.5 13.5,-316.5 13.5,-316.5 13.5,-310.5 19.5,-304.5 25.5,-304.5 25.5,-304.5 96.5,-304.5 96.5,-304.5 102.5,-304.5 108.5,-310.5 108.5,-316.5 108.5,-316.5 108.5,-345.5 108.5,-345.5 108.5,-351.5 102.5,-357.5 96.5,-357.5\"/>\n<text text-anchor=\"middle\" x=\"61\" y=\"-342.3\" font-family=\"Helvetica,sans-Serif\" font-size=\"14.00\">gini = 0.375</text>\n<text text-anchor=\"middle\" x=\"61\" y=\"-327.3\" font-family=\"Helvetica,sans-Serif\" font-size=\"14.00\">samples = 4</text>\n<text text-anchor=\"middle\" x=\"61\" y=\"-312.3\" font-family=\"Helvetica,sans-Serif\" font-size=\"14.00\">value = [1, 3]</text>\n</g>\n<!-- 3&#45;&gt;4 -->\n<g id=\"edge4\" class=\"edge\">\n<title>3&#45;&gt;4</title>\n<path fill=\"none\" stroke=\"black\" d=\"M135.96,-400.88C123.28,-389.23 109.04,-376.14 96.4,-364.53\"/>\n<polygon fill=\"black\" stroke=\"black\" points=\"98.5,-361.71 88.77,-357.52 93.77,-366.86 98.5,-361.71\"/>\n</g>\n<!-- 5 -->\n<g id=\"node6\" class=\"node\">\n<title>5</title>\n<path fill=\"#399de5\" stroke=\"black\" d=\"M209.5,-357.5C209.5,-357.5 138.5,-357.5 138.5,-357.5 132.5,-357.5 126.5,-351.5 126.5,-345.5 126.5,-345.5 126.5,-316.5 126.5,-316.5 126.5,-310.5 132.5,-304.5 138.5,-304.5 138.5,-304.5 209.5,-304.5 209.5,-304.5 215.5,-304.5 221.5,-310.5 221.5,-316.5 221.5,-316.5 221.5,-345.5 221.5,-345.5 221.5,-351.5 215.5,-357.5 209.5,-357.5\"/>\n<text text-anchor=\"middle\" x=\"174\" y=\"-342.3\" font-family=\"Helvetica,sans-Serif\" font-size=\"14.00\">gini = 0.0</text>\n<text text-anchor=\"middle\" x=\"174\" y=\"-327.3\" font-family=\"Helvetica,sans-Serif\" font-size=\"14.00\">samples = 4</text>\n<text text-anchor=\"middle\" x=\"174\" y=\"-312.3\" font-family=\"Helvetica,sans-Serif\" font-size=\"14.00\">value = [0, 4]</text>\n</g>\n<!-- 3&#45;&gt;5 -->\n<g id=\"edge5\" class=\"edge\">\n<title>3&#45;&gt;5</title>\n<path fill=\"none\" stroke=\"black\" d=\"M172.65,-400.88C172.86,-390.22 173.09,-378.35 173.3,-367.52\"/>\n<polygon fill=\"black\" stroke=\"black\" points=\"176.8,-367.59 173.5,-357.52 169.8,-367.45 176.8,-367.59\"/>\n</g>\n<!-- 7 -->\n<g id=\"node8\" class=\"node\">\n<title>7</title>\n<path fill=\"#eba069\" stroke=\"black\" d=\"M340,-469C340,-469 254,-469 254,-469 248,-469 242,-463 242,-457 242,-457 242,-413 242,-413 242,-407 248,-401 254,-401 254,-401 340,-401 340,-401 346,-401 352,-407 352,-413 352,-413 352,-457 352,-457 352,-463 346,-469 340,-469\"/>\n<text text-anchor=\"middle\" x=\"297\" y=\"-453.8\" font-family=\"Helvetica,sans-Serif\" font-size=\"14.00\">X[0] &lt;= &#45;0.379</text>\n<text text-anchor=\"middle\" x=\"297\" y=\"-438.8\" font-family=\"Helvetica,sans-Serif\" font-size=\"14.00\">gini = 0.316</text>\n<text text-anchor=\"middle\" x=\"297\" y=\"-423.8\" font-family=\"Helvetica,sans-Serif\" font-size=\"14.00\">samples = 61</text>\n<text text-anchor=\"middle\" x=\"297\" y=\"-408.8\" font-family=\"Helvetica,sans-Serif\" font-size=\"14.00\">value = [49, 12]</text>\n</g>\n<!-- 6&#45;&gt;7 -->\n<g id=\"edge7\" class=\"edge\">\n<title>6&#45;&gt;7</title>\n<path fill=\"none\" stroke=\"black\" d=\"M297,-504.88C297,-496.78 297,-487.98 297,-479.47\"/>\n<polygon fill=\"black\" stroke=\"black\" points=\"300.5,-479.3 297,-469.3 293.5,-479.3 300.5,-479.3\"/>\n</g>\n<!-- 20 -->\n<g id=\"node21\" class=\"node\">\n<title>20</title>\n<path fill=\"#399de5\" stroke=\"black\" d=\"M460,-461.5C460,-461.5 382,-461.5 382,-461.5 376,-461.5 370,-455.5 370,-449.5 370,-449.5 370,-420.5 370,-420.5 370,-414.5 376,-408.5 382,-408.5 382,-408.5 460,-408.5 460,-408.5 466,-408.5 472,-414.5 472,-420.5 472,-420.5 472,-449.5 472,-449.5 472,-455.5 466,-461.5 460,-461.5\"/>\n<text text-anchor=\"middle\" x=\"421\" y=\"-446.3\" font-family=\"Helvetica,sans-Serif\" font-size=\"14.00\">gini = 0.0</text>\n<text text-anchor=\"middle\" x=\"421\" y=\"-431.3\" font-family=\"Helvetica,sans-Serif\" font-size=\"14.00\">samples = 12</text>\n<text text-anchor=\"middle\" x=\"421\" y=\"-416.3\" font-family=\"Helvetica,sans-Serif\" font-size=\"14.00\">value = [0, 12]</text>\n</g>\n<!-- 6&#45;&gt;20 -->\n<g id=\"edge20\" class=\"edge\">\n<title>6&#45;&gt;20</title>\n<path fill=\"none\" stroke=\"black\" d=\"M337.26,-504.88C351.7,-493.01 367.94,-479.65 382.25,-467.88\"/>\n<polygon fill=\"black\" stroke=\"black\" points=\"384.48,-470.58 389.98,-461.52 380.03,-465.17 384.48,-470.58\"/>\n</g>\n<!-- 8 -->\n<g id=\"node9\" class=\"node\">\n<title>8</title>\n<path fill=\"#e58139\" stroke=\"black\" d=\"M334,-357.5C334,-357.5 256,-357.5 256,-357.5 250,-357.5 244,-351.5 244,-345.5 244,-345.5 244,-316.5 244,-316.5 244,-310.5 250,-304.5 256,-304.5 256,-304.5 334,-304.5 334,-304.5 340,-304.5 346,-310.5 346,-316.5 346,-316.5 346,-345.5 346,-345.5 346,-351.5 340,-357.5 334,-357.5\"/>\n<text text-anchor=\"middle\" x=\"295\" y=\"-342.3\" font-family=\"Helvetica,sans-Serif\" font-size=\"14.00\">gini = 0.0</text>\n<text text-anchor=\"middle\" x=\"295\" y=\"-327.3\" font-family=\"Helvetica,sans-Serif\" font-size=\"14.00\">samples = 22</text>\n<text text-anchor=\"middle\" x=\"295\" y=\"-312.3\" font-family=\"Helvetica,sans-Serif\" font-size=\"14.00\">value = [22, 0]</text>\n</g>\n<!-- 7&#45;&gt;8 -->\n<g id=\"edge8\" class=\"edge\">\n<title>7&#45;&gt;8</title>\n<path fill=\"none\" stroke=\"black\" d=\"M296.35,-400.88C296.14,-390.22 295.91,-378.35 295.7,-367.52\"/>\n<polygon fill=\"black\" stroke=\"black\" points=\"299.2,-367.45 295.5,-357.52 292.2,-367.59 299.2,-367.45\"/>\n</g>\n<!-- 9 -->\n<g id=\"node10\" class=\"node\">\n<title>9</title>\n<path fill=\"#f1b991\" stroke=\"black\" d=\"M462,-365C462,-365 376,-365 376,-365 370,-365 364,-359 364,-353 364,-353 364,-309 364,-309 364,-303 370,-297 376,-297 376,-297 462,-297 462,-297 468,-297 474,-303 474,-309 474,-309 474,-353 474,-353 474,-359 468,-365 462,-365\"/>\n<text text-anchor=\"middle\" x=\"419\" y=\"-349.8\" font-family=\"Helvetica,sans-Serif\" font-size=\"14.00\">X[0] &lt;= 0.466</text>\n<text text-anchor=\"middle\" x=\"419\" y=\"-334.8\" font-family=\"Helvetica,sans-Serif\" font-size=\"14.00\">gini = 0.426</text>\n<text text-anchor=\"middle\" x=\"419\" y=\"-319.8\" font-family=\"Helvetica,sans-Serif\" font-size=\"14.00\">samples = 39</text>\n<text text-anchor=\"middle\" x=\"419\" y=\"-304.8\" font-family=\"Helvetica,sans-Serif\" font-size=\"14.00\">value = [27, 12]</text>\n</g>\n<!-- 7&#45;&gt;9 -->\n<g id=\"edge9\" class=\"edge\">\n<title>7&#45;&gt;9</title>\n<path fill=\"none\" stroke=\"black\" d=\"M336.61,-400.88C347.69,-391.62 359.85,-381.45 371.34,-371.85\"/>\n<polygon fill=\"black\" stroke=\"black\" points=\"373.74,-374.4 379.17,-365.3 369.25,-369.03 373.74,-374.4\"/>\n</g>\n<!-- 10 -->\n<g id=\"node11\" class=\"node\">\n<title>10</title>\n<path fill=\"#ffffff\" stroke=\"black\" d=\"M400,-261C400,-261 314,-261 314,-261 308,-261 302,-255 302,-249 302,-249 302,-205 302,-205 302,-199 308,-193 314,-193 314,-193 400,-193 400,-193 406,-193 412,-199 412,-205 412,-205 412,-249 412,-249 412,-255 406,-261 400,-261\"/>\n<text text-anchor=\"middle\" x=\"357\" y=\"-245.8\" font-family=\"Helvetica,sans-Serif\" font-size=\"14.00\">X[1] &lt;= 0.769</text>\n<text text-anchor=\"middle\" x=\"357\" y=\"-230.8\" font-family=\"Helvetica,sans-Serif\" font-size=\"14.00\">gini = 0.5</text>\n<text text-anchor=\"middle\" x=\"357\" y=\"-215.8\" font-family=\"Helvetica,sans-Serif\" font-size=\"14.00\">samples = 20</text>\n<text text-anchor=\"middle\" x=\"357\" y=\"-200.8\" font-family=\"Helvetica,sans-Serif\" font-size=\"14.00\">value = [10, 10]</text>\n</g>\n<!-- 9&#45;&gt;10 -->\n<g id=\"edge10\" class=\"edge\">\n<title>9&#45;&gt;10</title>\n<path fill=\"none\" stroke=\"black\" d=\"M398.87,-296.88C393.67,-288.33 388.01,-279.01 382.57,-270.07\"/>\n<polygon fill=\"black\" stroke=\"black\" points=\"385.43,-268.03 377.24,-261.3 379.44,-271.66 385.43,-268.03\"/>\n</g>\n<!-- 15 -->\n<g id=\"node16\" class=\"node\">\n<title>15</title>\n<path fill=\"#e89050\" stroke=\"black\" d=\"M520,-261C520,-261 442,-261 442,-261 436,-261 430,-255 430,-249 430,-249 430,-205 430,-205 430,-199 436,-193 442,-193 442,-193 520,-193 520,-193 526,-193 532,-199 532,-205 532,-205 532,-249 532,-249 532,-255 526,-261 520,-261\"/>\n<text text-anchor=\"middle\" x=\"481\" y=\"-245.8\" font-family=\"Helvetica,sans-Serif\" font-size=\"14.00\">X[0] &lt;= 0.639</text>\n<text text-anchor=\"middle\" x=\"481\" y=\"-230.8\" font-family=\"Helvetica,sans-Serif\" font-size=\"14.00\">gini = 0.188</text>\n<text text-anchor=\"middle\" x=\"481\" y=\"-215.8\" font-family=\"Helvetica,sans-Serif\" font-size=\"14.00\">samples = 19</text>\n<text text-anchor=\"middle\" x=\"481\" y=\"-200.8\" font-family=\"Helvetica,sans-Serif\" font-size=\"14.00\">value = [17, 2]</text>\n</g>\n<!-- 9&#45;&gt;15 -->\n<g id=\"edge15\" class=\"edge\">\n<title>9&#45;&gt;15</title>\n<path fill=\"none\" stroke=\"black\" d=\"M439.13,-296.88C444.33,-288.33 449.99,-279.01 455.43,-270.07\"/>\n<polygon fill=\"black\" stroke=\"black\" points=\"458.56,-271.66 460.76,-261.3 452.57,-268.03 458.56,-271.66\"/>\n</g>\n<!-- 11 -->\n<g id=\"node12\" class=\"node\">\n<title>11</title>\n<path fill=\"#399de5\" stroke=\"black\" d=\"M277.5,-149.5C277.5,-149.5 206.5,-149.5 206.5,-149.5 200.5,-149.5 194.5,-143.5 194.5,-137.5 194.5,-137.5 194.5,-108.5 194.5,-108.5 194.5,-102.5 200.5,-96.5 206.5,-96.5 206.5,-96.5 277.5,-96.5 277.5,-96.5 283.5,-96.5 289.5,-102.5 289.5,-108.5 289.5,-108.5 289.5,-137.5 289.5,-137.5 289.5,-143.5 283.5,-149.5 277.5,-149.5\"/>\n<text text-anchor=\"middle\" x=\"242\" y=\"-134.3\" font-family=\"Helvetica,sans-Serif\" font-size=\"14.00\">gini = 0.0</text>\n<text text-anchor=\"middle\" x=\"242\" y=\"-119.3\" font-family=\"Helvetica,sans-Serif\" font-size=\"14.00\">samples = 9</text>\n<text text-anchor=\"middle\" x=\"242\" y=\"-104.3\" font-family=\"Helvetica,sans-Serif\" font-size=\"14.00\">value = [0, 9]</text>\n</g>\n<!-- 10&#45;&gt;11 -->\n<g id=\"edge11\" class=\"edge\">\n<title>10&#45;&gt;11</title>\n<path fill=\"none\" stroke=\"black\" d=\"M319.66,-192.88C306.4,-181.12 291.49,-167.89 278.31,-156.2\"/>\n<polygon fill=\"black\" stroke=\"black\" points=\"280.58,-153.54 270.77,-149.52 275.93,-158.77 280.58,-153.54\"/>\n</g>\n<!-- 12 -->\n<g id=\"node13\" class=\"node\">\n<title>12</title>\n<path fill=\"#e88e4d\" stroke=\"black\" d=\"M398.5,-157C398.5,-157 319.5,-157 319.5,-157 313.5,-157 307.5,-151 307.5,-145 307.5,-145 307.5,-101 307.5,-101 307.5,-95 313.5,-89 319.5,-89 319.5,-89 398.5,-89 398.5,-89 404.5,-89 410.5,-95 410.5,-101 410.5,-101 410.5,-145 410.5,-145 410.5,-151 404.5,-157 398.5,-157\"/>\n<text text-anchor=\"middle\" x=\"359\" y=\"-141.8\" font-family=\"Helvetica,sans-Serif\" font-size=\"14.00\">X[0] &lt;= &#45;0.163</text>\n<text text-anchor=\"middle\" x=\"359\" y=\"-126.8\" font-family=\"Helvetica,sans-Serif\" font-size=\"14.00\">gini = 0.165</text>\n<text text-anchor=\"middle\" x=\"359\" y=\"-111.8\" font-family=\"Helvetica,sans-Serif\" font-size=\"14.00\">samples = 11</text>\n<text text-anchor=\"middle\" x=\"359\" y=\"-96.8\" font-family=\"Helvetica,sans-Serif\" font-size=\"14.00\">value = [10, 1]</text>\n</g>\n<!-- 10&#45;&gt;12 -->\n<g id=\"edge12\" class=\"edge\">\n<title>10&#45;&gt;12</title>\n<path fill=\"none\" stroke=\"black\" d=\"M357.65,-192.88C357.81,-184.78 357.98,-175.98 358.15,-167.47\"/>\n<polygon fill=\"black\" stroke=\"black\" points=\"361.65,-167.37 358.35,-157.3 354.65,-167.23 361.65,-167.37\"/>\n</g>\n<!-- 13 -->\n<g id=\"node14\" class=\"node\">\n<title>13</title>\n<path fill=\"#eeab7b\" stroke=\"black\" d=\"M340.5,-53C340.5,-53 269.5,-53 269.5,-53 263.5,-53 257.5,-47 257.5,-41 257.5,-41 257.5,-12 257.5,-12 257.5,-6 263.5,0 269.5,0 269.5,0 340.5,0 340.5,0 346.5,0 352.5,-6 352.5,-12 352.5,-12 352.5,-41 352.5,-41 352.5,-47 346.5,-53 340.5,-53\"/>\n<text text-anchor=\"middle\" x=\"305\" y=\"-37.8\" font-family=\"Helvetica,sans-Serif\" font-size=\"14.00\">gini = 0.375</text>\n<text text-anchor=\"middle\" x=\"305\" y=\"-22.8\" font-family=\"Helvetica,sans-Serif\" font-size=\"14.00\">samples = 4</text>\n<text text-anchor=\"middle\" x=\"305\" y=\"-7.8\" font-family=\"Helvetica,sans-Serif\" font-size=\"14.00\">value = [3, 1]</text>\n</g>\n<!-- 12&#45;&gt;13 -->\n<g id=\"edge13\" class=\"edge\">\n<title>12&#45;&gt;13</title>\n<path fill=\"none\" stroke=\"black\" d=\"M340.11,-88.95C335.15,-80.26 329.78,-70.86 324.77,-62.09\"/>\n<polygon fill=\"black\" stroke=\"black\" points=\"327.71,-60.18 319.71,-53.24 321.63,-63.66 327.71,-60.18\"/>\n</g>\n<!-- 14 -->\n<g id=\"node15\" class=\"node\">\n<title>14</title>\n<path fill=\"#e58139\" stroke=\"black\" d=\"M453.5,-53C453.5,-53 382.5,-53 382.5,-53 376.5,-53 370.5,-47 370.5,-41 370.5,-41 370.5,-12 370.5,-12 370.5,-6 376.5,0 382.5,0 382.5,0 453.5,0 453.5,0 459.5,0 465.5,-6 465.5,-12 465.5,-12 465.5,-41 465.5,-41 465.5,-47 459.5,-53 453.5,-53\"/>\n<text text-anchor=\"middle\" x=\"418\" y=\"-37.8\" font-family=\"Helvetica,sans-Serif\" font-size=\"14.00\">gini = 0.0</text>\n<text text-anchor=\"middle\" x=\"418\" y=\"-22.8\" font-family=\"Helvetica,sans-Serif\" font-size=\"14.00\">samples = 7</text>\n<text text-anchor=\"middle\" x=\"418\" y=\"-7.8\" font-family=\"Helvetica,sans-Serif\" font-size=\"14.00\">value = [7, 0]</text>\n</g>\n<!-- 12&#45;&gt;14 -->\n<g id=\"edge14\" class=\"edge\">\n<title>12&#45;&gt;14</title>\n<path fill=\"none\" stroke=\"black\" d=\"M379.64,-88.95C385.12,-80.17 391.05,-70.66 396.58,-61.82\"/>\n<polygon fill=\"black\" stroke=\"black\" points=\"399.6,-63.57 401.93,-53.24 393.67,-59.87 399.6,-63.57\"/>\n</g>\n<!-- 16 -->\n<g id=\"node17\" class=\"node\">\n<title>16</title>\n<path fill=\"#e58139\" stroke=\"black\" d=\"M514.5,-149.5C514.5,-149.5 443.5,-149.5 443.5,-149.5 437.5,-149.5 431.5,-143.5 431.5,-137.5 431.5,-137.5 431.5,-108.5 431.5,-108.5 431.5,-102.5 437.5,-96.5 443.5,-96.5 443.5,-96.5 514.5,-96.5 514.5,-96.5 520.5,-96.5 526.5,-102.5 526.5,-108.5 526.5,-108.5 526.5,-137.5 526.5,-137.5 526.5,-143.5 520.5,-149.5 514.5,-149.5\"/>\n<text text-anchor=\"middle\" x=\"479\" y=\"-134.3\" font-family=\"Helvetica,sans-Serif\" font-size=\"14.00\">gini = 0.0</text>\n<text text-anchor=\"middle\" x=\"479\" y=\"-119.3\" font-family=\"Helvetica,sans-Serif\" font-size=\"14.00\">samples = 9</text>\n<text text-anchor=\"middle\" x=\"479\" y=\"-104.3\" font-family=\"Helvetica,sans-Serif\" font-size=\"14.00\">value = [9, 0]</text>\n</g>\n<!-- 15&#45;&gt;16 -->\n<g id=\"edge16\" class=\"edge\">\n<title>15&#45;&gt;16</title>\n<path fill=\"none\" stroke=\"black\" d=\"M480.35,-192.88C480.14,-182.22 479.91,-170.35 479.7,-159.52\"/>\n<polygon fill=\"black\" stroke=\"black\" points=\"483.2,-159.45 479.5,-149.52 476.2,-159.59 483.2,-159.45\"/>\n</g>\n<!-- 17 -->\n<g id=\"node18\" class=\"node\">\n<title>17</title>\n<path fill=\"#eca06a\" stroke=\"black\" d=\"M631,-157C631,-157 557,-157 557,-157 551,-157 545,-151 545,-145 545,-145 545,-101 545,-101 545,-95 551,-89 557,-89 557,-89 631,-89 631,-89 637,-89 643,-95 643,-101 643,-101 643,-145 643,-145 643,-151 637,-157 631,-157\"/>\n<text text-anchor=\"middle\" x=\"594\" y=\"-141.8\" font-family=\"Helvetica,sans-Serif\" font-size=\"14.00\">X[1] &lt;= 0.481</text>\n<text text-anchor=\"middle\" x=\"594\" y=\"-126.8\" font-family=\"Helvetica,sans-Serif\" font-size=\"14.00\">gini = 0.32</text>\n<text text-anchor=\"middle\" x=\"594\" y=\"-111.8\" font-family=\"Helvetica,sans-Serif\" font-size=\"14.00\">samples = 10</text>\n<text text-anchor=\"middle\" x=\"594\" y=\"-96.8\" font-family=\"Helvetica,sans-Serif\" font-size=\"14.00\">value = [8, 2]</text>\n</g>\n<!-- 15&#45;&gt;17 -->\n<g id=\"edge17\" class=\"edge\">\n<title>15&#45;&gt;17</title>\n<path fill=\"none\" stroke=\"black\" d=\"M517.69,-192.88C527.85,-183.71 539,-173.65 549.55,-164.12\"/>\n<polygon fill=\"black\" stroke=\"black\" points=\"552.03,-166.6 557.11,-157.3 547.34,-161.4 552.03,-166.6\"/>\n</g>\n<!-- 18 -->\n<g id=\"node19\" class=\"node\">\n<title>18</title>\n<path fill=\"#f2c09c\" stroke=\"black\" d=\"M569.5,-53C569.5,-53 498.5,-53 498.5,-53 492.5,-53 486.5,-47 486.5,-41 486.5,-41 486.5,-12 486.5,-12 486.5,-6 492.5,0 498.5,0 498.5,0 569.5,0 569.5,0 575.5,0 581.5,-6 581.5,-12 581.5,-12 581.5,-41 581.5,-41 581.5,-47 575.5,-53 569.5,-53\"/>\n<text text-anchor=\"middle\" x=\"534\" y=\"-37.8\" font-family=\"Helvetica,sans-Serif\" font-size=\"14.00\">gini = 0.444</text>\n<text text-anchor=\"middle\" x=\"534\" y=\"-22.8\" font-family=\"Helvetica,sans-Serif\" font-size=\"14.00\">samples = 6</text>\n<text text-anchor=\"middle\" x=\"534\" y=\"-7.8\" font-family=\"Helvetica,sans-Serif\" font-size=\"14.00\">value = [4, 2]</text>\n</g>\n<!-- 17&#45;&gt;18 -->\n<g id=\"edge18\" class=\"edge\">\n<title>17&#45;&gt;18</title>\n<path fill=\"none\" stroke=\"black\" d=\"M573.01,-88.95C567.44,-80.17 561.41,-70.66 555.79,-61.82\"/>\n<polygon fill=\"black\" stroke=\"black\" points=\"558.66,-59.8 550.34,-53.24 552.75,-63.55 558.66,-59.8\"/>\n</g>\n<!-- 19 -->\n<g id=\"node20\" class=\"node\">\n<title>19</title>\n<path fill=\"#e58139\" stroke=\"black\" d=\"M682.5,-53C682.5,-53 611.5,-53 611.5,-53 605.5,-53 599.5,-47 599.5,-41 599.5,-41 599.5,-12 599.5,-12 599.5,-6 605.5,0 611.5,0 611.5,0 682.5,0 682.5,0 688.5,0 694.5,-6 694.5,-12 694.5,-12 694.5,-41 694.5,-41 694.5,-47 688.5,-53 682.5,-53\"/>\n<text text-anchor=\"middle\" x=\"647\" y=\"-37.8\" font-family=\"Helvetica,sans-Serif\" font-size=\"14.00\">gini = 0.0</text>\n<text text-anchor=\"middle\" x=\"647\" y=\"-22.8\" font-family=\"Helvetica,sans-Serif\" font-size=\"14.00\">samples = 4</text>\n<text text-anchor=\"middle\" x=\"647\" y=\"-7.8\" font-family=\"Helvetica,sans-Serif\" font-size=\"14.00\">value = [4, 0]</text>\n</g>\n<!-- 17&#45;&gt;19 -->\n<g id=\"edge19\" class=\"edge\">\n<title>17&#45;&gt;19</title>\n<path fill=\"none\" stroke=\"black\" d=\"M612.54,-88.95C617.41,-80.26 622.68,-70.86 627.6,-62.09\"/>\n<polygon fill=\"black\" stroke=\"black\" points=\"630.73,-63.67 632.57,-53.24 624.62,-60.25 630.73,-63.67\"/>\n</g>\n</g>\n</svg>\n"
          },
          "metadata": {},
          "execution_count": 15
        }
      ]
    },
    {
      "cell_type": "markdown",
      "source": [
        "# 6.8 회귀"
      ],
      "metadata": {
        "id": "7phww8Q_rJBf"
      }
    },
    {
      "cell_type": "code",
      "source": [
        "# 2차식으로 만든 데이터셋 + 잡음\n",
        "np.random.seed(42)\n",
        "m = 200\n",
        "X = np.random.rand(m, 1)\n",
        "y = 4 * (X - 0.5) ** 2\n",
        "y = y + np.random.randn(m, 1) / 10"
      ],
      "metadata": {
        "id": "Wv7k0UrmrKX3"
      },
      "execution_count": null,
      "outputs": []
    },
    {
      "cell_type": "code",
      "source": [
        "plt.scatter(X, y)"
      ],
      "metadata": {
        "colab": {
          "base_uri": "https://localhost:8080/"
        },
        "id": "WWJvgHrYrMMt",
        "outputId": "ff35be93-f0cb-454a-d83d-12c28d2a542a"
      },
      "execution_count": null,
      "outputs": [
        {
          "output_type": "execute_result",
          "data": {
            "text/plain": [
              "<matplotlib.collections.PathCollection at 0x7f3d5f2139d0>"
            ]
          },
          "metadata": {},
          "execution_count": 17
        },
        {
          "output_type": "display_data",
          "data": {
            "text/plain": [
              "<Figure size 432x288 with 1 Axes>"
            ],
            "image/png": "[encoded data removed]"
          },
          "metadata": {
            "needs_background": "light"
          }
        }
      ]
    },
    {
      "cell_type": "code",
      "source": [
        "from sklearn.tree import DecisionTreeRegressor\n",
        "\n",
        "tree_reg = DecisionTreeRegressor(max_depth = 2, criterion=\"mse\")\n",
        "tree_reg.fit(X, y)"
      ],
      "metadata": {
        "colab": {
          "base_uri": "https://localhost:8080/"
        },
        "id": "33x9nJperSW9",
        "outputId": "2abab2f3-8680-4377-f18b-52a625898a4a"
      },
      "execution_count": null,
      "outputs": [
        {
          "output_type": "stream",
          "name": "stderr",
          "text": [
            "/usr/local/lib/python3.8/dist-packages/sklearn/tree/_classes.py:359: FutureWarning: Criterion 'mse' was deprecated in v1.0 and will be removed in version 1.2. Use `criterion='squared_error'` which is equivalent.\n",
            "  warnings.warn(\n"
          ]
        },
        {
          "output_type": "execute_result",
          "data": {
            "text/plain": [
              "DecisionTreeRegressor(criterion='mse', max_depth=2)"
            ]
          },
          "metadata": {},
          "execution_count": 18
        }
      ]
    },
    {
      "cell_type": "code",
      "source": [
        "dot_data4 = export_graphviz(\n",
        "    tree_reg,\n",
        "    feature_names = [\"x1\"],\n",
        "    # class_names = iris.target_names,\n",
        "    rounded=True,\n",
        "    filled=True # 색 칠해줌\n",
        ")\n",
        "\n",
        "graphviz.Source(dot_data4)"
      ],
      "metadata": {
        "colab": {
          "base_uri": "https://localhost:8080/"
        },
        "id": "qYXq2nzCrbzQ",
        "outputId": "14af205b-19af-4f77-bc73-babe54e55a12"
      },
      "execution_count": null,
      "outputs": [
        {
          "output_type": "execute_result",
          "data": {
            "text/plain": [
              "<graphviz.files.Source at 0x7f3d5f14e820>"
            ],
            "image/svg+xml": "<?xml version=\"1.0\" encoding=\"UTF-8\" standalone=\"no\"?>\n<!DOCTYPE svg PUBLIC \"-//W3C//DTD SVG 1.1//EN\"\n \"http://www.w3.org/Graphics/SVG/1.1/DTD/svg11.dtd\">\n<!-- Generated by graphviz version 2.43.0 (0)\n -->\n<!-- Title: Tree Pages: 1 -->\n<svg width=\"462pt\" height=\"269pt\"\n viewBox=\"0.00 0.00 462.00 269.00\" xmlns=\"http://www.w3.org/2000/svg\" xmlns:xlink=\"http://www.w3.org/1999/xlink\">\n<g id=\"graph0\" class=\"graph\" transform=\"scale(1 1) rotate(0) translate(4 265)\">\n<title>Tree</title>\n<polygon fill=\"white\" stroke=\"transparent\" points=\"-4,4 -4,-265 458,-265 458,4 -4,4\"/>\n<!-- 0 -->\n<g id=\"node1\" class=\"node\">\n<title>0</title>\n<path fill=\"#f6d6be\" stroke=\"black\" d=\"M266,-261C266,-261 184,-261 184,-261 178,-261 172,-255 172,-249 172,-249 172,-205 172,-205 172,-199 178,-193 184,-193 184,-193 266,-193 266,-193 272,-193 278,-199 278,-205 278,-205 278,-249 278,-249 278,-255 272,-261 266,-261\"/>\n<text text-anchor=\"middle\" x=\"225\" y=\"-245.8\" font-family=\"Helvetica,sans-Serif\" font-size=\"14.00\">x1 &lt;= 0.197</text>\n<text text-anchor=\"middle\" x=\"225\" y=\"-230.8\" font-family=\"Helvetica,sans-Serif\" font-size=\"14.00\">mse = 0.098</text>\n<text text-anchor=\"middle\" x=\"225\" y=\"-215.8\" font-family=\"Helvetica,sans-Serif\" font-size=\"14.00\">samples = 200</text>\n<text text-anchor=\"middle\" x=\"225\" y=\"-200.8\" font-family=\"Helvetica,sans-Serif\" font-size=\"14.00\">value = 0.354</text>\n</g>\n<!-- 1 -->\n<g id=\"node2\" class=\"node\">\n<title>1</title>\n<path fill=\"#eb9d65\" stroke=\"black\" d=\"M202,-157C202,-157 128,-157 128,-157 122,-157 116,-151 116,-145 116,-145 116,-101 116,-101 116,-95 122,-89 128,-89 128,-89 202,-89 202,-89 208,-89 214,-95 214,-101 214,-101 214,-145 214,-145 214,-151 208,-157 202,-157\"/>\n<text text-anchor=\"middle\" x=\"165\" y=\"-141.8\" font-family=\"Helvetica,sans-Serif\" font-size=\"14.00\">x1 &lt;= 0.092</text>\n<text text-anchor=\"middle\" x=\"165\" y=\"-126.8\" font-family=\"Helvetica,sans-Serif\" font-size=\"14.00\">mse = 0.038</text>\n<text text-anchor=\"middle\" x=\"165\" y=\"-111.8\" font-family=\"Helvetica,sans-Serif\" font-size=\"14.00\">samples = 44</text>\n<text text-anchor=\"middle\" x=\"165\" y=\"-96.8\" font-family=\"Helvetica,sans-Serif\" font-size=\"14.00\">value = 0.689</text>\n</g>\n<!-- 0&#45;&gt;1 -->\n<g id=\"edge1\" class=\"edge\">\n<title>0&#45;&gt;1</title>\n<path fill=\"none\" stroke=\"black\" d=\"M205.52,-192.88C200.49,-184.33 195.01,-175.01 189.75,-166.07\"/>\n<polygon fill=\"black\" stroke=\"black\" points=\"192.67,-164.14 184.59,-157.3 186.64,-167.69 192.67,-164.14\"/>\n<text text-anchor=\"middle\" x=\"178.31\" y=\"-177.8\" font-family=\"Helvetica,sans-Serif\" font-size=\"14.00\">True</text>\n</g>\n<!-- 4 -->\n<g id=\"node5\" class=\"node\">\n<title>4</title>\n<path fill=\"#fae6d7\" stroke=\"black\" d=\"M326,-157C326,-157 244,-157 244,-157 238,-157 232,-151 232,-145 232,-145 232,-101 232,-101 232,-95 238,-89 244,-89 244,-89 326,-89 326,-89 332,-89 338,-95 338,-101 338,-101 338,-145 338,-145 338,-151 332,-157 326,-157\"/>\n<text text-anchor=\"middle\" x=\"285\" y=\"-141.8\" font-family=\"Helvetica,sans-Serif\" font-size=\"14.00\">x1 &lt;= 0.772</text>\n<text text-anchor=\"middle\" x=\"285\" y=\"-126.8\" font-family=\"Helvetica,sans-Serif\" font-size=\"14.00\">mse = 0.074</text>\n<text text-anchor=\"middle\" x=\"285\" y=\"-111.8\" font-family=\"Helvetica,sans-Serif\" font-size=\"14.00\">samples = 156</text>\n<text text-anchor=\"middle\" x=\"285\" y=\"-96.8\" font-family=\"Helvetica,sans-Serif\" font-size=\"14.00\">value = 0.259</text>\n</g>\n<!-- 0&#45;&gt;4 -->\n<g id=\"edge4\" class=\"edge\">\n<title>0&#45;&gt;4</title>\n<path fill=\"none\" stroke=\"black\" d=\"M244.48,-192.88C249.51,-184.33 254.99,-175.01 260.25,-166.07\"/>\n<polygon fill=\"black\" stroke=\"black\" points=\"263.36,-167.69 265.41,-157.3 257.33,-164.14 263.36,-167.69\"/>\n<text text-anchor=\"middle\" x=\"271.69\" y=\"-177.8\" font-family=\"Helvetica,sans-Serif\" font-size=\"14.00\">False</text>\n</g>\n<!-- 2 -->\n<g id=\"node3\" class=\"node\">\n<title>2</title>\n<path fill=\"#e58139\" stroke=\"black\" d=\"M86,-53C86,-53 12,-53 12,-53 6,-53 0,-47 0,-41 0,-41 0,-12 0,-12 0,-6 6,0 12,0 12,0 86,0 86,0 92,0 98,-6 98,-12 98,-12 98,-41 98,-41 98,-47 92,-53 86,-53\"/>\n<text text-anchor=\"middle\" x=\"49\" y=\"-37.8\" font-family=\"Helvetica,sans-Serif\" font-size=\"14.00\">mse = 0.018</text>\n<text text-anchor=\"middle\" x=\"49\" y=\"-22.8\" font-family=\"Helvetica,sans-Serif\" font-size=\"14.00\">samples = 20</text>\n<text text-anchor=\"middle\" x=\"49\" y=\"-7.8\" font-family=\"Helvetica,sans-Serif\" font-size=\"14.00\">value = 0.854</text>\n</g>\n<!-- 1&#45;&gt;2 -->\n<g id=\"edge2\" class=\"edge\">\n<title>1&#45;&gt;2</title>\n<path fill=\"none\" stroke=\"black\" d=\"M124.43,-88.95C112.75,-79.43 100.03,-69.07 88.42,-59.62\"/>\n<polygon fill=\"black\" stroke=\"black\" points=\"90.56,-56.84 80.59,-53.24 86.13,-62.27 90.56,-56.84\"/>\n</g>\n<!-- 3 -->\n<g id=\"node4\" class=\"node\">\n<title>3</title>\n<path fill=\"#f0b489\" stroke=\"black\" d=\"M202,-53C202,-53 128,-53 128,-53 122,-53 116,-47 116,-41 116,-41 116,-12 116,-12 116,-6 122,0 128,0 128,0 202,0 202,0 208,0 214,-6 214,-12 214,-12 214,-41 214,-41 214,-47 208,-53 202,-53\"/>\n<text text-anchor=\"middle\" x=\"165\" y=\"-37.8\" font-family=\"Helvetica,sans-Serif\" font-size=\"14.00\">mse = 0.013</text>\n<text text-anchor=\"middle\" x=\"165\" y=\"-22.8\" font-family=\"Helvetica,sans-Serif\" font-size=\"14.00\">samples = 24</text>\n<text text-anchor=\"middle\" x=\"165\" y=\"-7.8\" font-family=\"Helvetica,sans-Serif\" font-size=\"14.00\">value = 0.552</text>\n</g>\n<!-- 1&#45;&gt;3 -->\n<g id=\"edge3\" class=\"edge\">\n<title>1&#45;&gt;3</title>\n<path fill=\"none\" stroke=\"black\" d=\"M165,-88.95C165,-80.72 165,-71.85 165,-63.48\"/>\n<polygon fill=\"black\" stroke=\"black\" points=\"168.5,-63.24 165,-53.24 161.5,-63.24 168.5,-63.24\"/>\n</g>\n<!-- 5 -->\n<g id=\"node6\" class=\"node\">\n<title>5</title>\n<path fill=\"#ffffff\" stroke=\"black\" d=\"M326,-53C326,-53 244,-53 244,-53 238,-53 232,-47 232,-41 232,-41 232,-12 232,-12 232,-6 238,0 244,0 244,0 326,0 326,0 332,0 338,-6 338,-12 338,-12 338,-41 338,-41 338,-47 332,-53 326,-53\"/>\n<text text-anchor=\"middle\" x=\"285\" y=\"-37.8\" font-family=\"Helvetica,sans-Serif\" font-size=\"14.00\">mse = 0.015</text>\n<text text-anchor=\"middle\" x=\"285\" y=\"-22.8\" font-family=\"Helvetica,sans-Serif\" font-size=\"14.00\">samples = 110</text>\n<text text-anchor=\"middle\" x=\"285\" y=\"-7.8\" font-family=\"Helvetica,sans-Serif\" font-size=\"14.00\">value = 0.111</text>\n</g>\n<!-- 4&#45;&gt;5 -->\n<g id=\"edge5\" class=\"edge\">\n<title>4&#45;&gt;5</title>\n<path fill=\"none\" stroke=\"black\" d=\"M285,-88.95C285,-80.72 285,-71.85 285,-63.48\"/>\n<polygon fill=\"black\" stroke=\"black\" points=\"288.5,-63.24 285,-53.24 281.5,-63.24 288.5,-63.24\"/>\n</g>\n<!-- 6 -->\n<g id=\"node7\" class=\"node\">\n<title>6</title>\n<path fill=\"#edaa79\" stroke=\"black\" d=\"M442,-53C442,-53 368,-53 368,-53 362,-53 356,-47 356,-41 356,-41 356,-12 356,-12 356,-6 362,0 368,0 368,0 442,0 442,0 448,0 454,-6 454,-12 454,-12 454,-41 454,-41 454,-47 448,-53 442,-53\"/>\n<text text-anchor=\"middle\" x=\"405\" y=\"-37.8\" font-family=\"Helvetica,sans-Serif\" font-size=\"14.00\">mse = 0.036</text>\n<text text-anchor=\"middle\" x=\"405\" y=\"-22.8\" font-family=\"Helvetica,sans-Serif\" font-size=\"14.00\">samples = 46</text>\n<text text-anchor=\"middle\" x=\"405\" y=\"-7.8\" font-family=\"Helvetica,sans-Serif\" font-size=\"14.00\">value = 0.615</text>\n</g>\n<!-- 4&#45;&gt;6 -->\n<g id=\"edge6\" class=\"edge\">\n<title>4&#45;&gt;6</title>\n<path fill=\"none\" stroke=\"black\" d=\"M326.97,-88.95C339.05,-79.43 352.21,-69.07 364.22,-59.62\"/>\n<polygon fill=\"black\" stroke=\"black\" points=\"366.63,-62.17 372.32,-53.24 362.3,-56.67 366.63,-62.17\"/>\n</g>\n</g>\n</svg>\n"
          },
          "metadata": {},
          "execution_count": 19
        }
      ]
    },
    {
      "cell_type": "markdown",
      "source": [
        "규제가 없는 회귀 결정 트리"
      ],
      "metadata": {
        "id": "tlyDsBrYuzz1"
      }
    },
    {
      "cell_type": "code",
      "source": [
        "tree_reg_none_res = DecisionTreeRegressor()\n",
        "tree_reg_none_res.fit(X, y)"
      ],
      "metadata": {
        "colab": {
          "base_uri": "https://localhost:8080/"
        },
        "id": "G8xWveRhu1Ld",
        "outputId": "de06e866-60b1-47d5-bece-7dd1e1614555"
      },
      "execution_count": null,
      "outputs": [
        {
          "output_type": "execute_result",
          "data": {
            "text/plain": [
              "DecisionTreeRegressor()"
            ]
          },
          "metadata": {},
          "execution_count": 20
        }
      ]
    },
    {
      "cell_type": "code",
      "source": [
        "x1 = np.linspace(0, 1, 500).reshape(-1, 1)"
      ],
      "metadata": {
        "id": "GXLIsdKFvjVI"
      },
      "execution_count": null,
      "outputs": []
    },
    {
      "cell_type": "code",
      "source": [
        "y_pred = tree_reg_none_res.predict(x1)"
      ],
      "metadata": {
        "id": "y6MmFm7Ou8Io"
      },
      "execution_count": null,
      "outputs": []
    },
    {
      "cell_type": "code",
      "source": [
        "plt.scatter(X, y)\n",
        "plt.plot(x1, y_pred, 'r.-')"
      ],
      "metadata": {
        "colab": {
          "base_uri": "https://localhost:8080/"
        },
        "id": "F2J41UYEvDNX",
        "outputId": "c0ca6181-53e1-443a-f961-f1f94fe29275"
      },
      "execution_count": null,
      "outputs": [
        {
          "output_type": "execute_result",
          "data": {
            "text/plain": [
              "[<matplotlib.lines.Line2D at 0x7f3d5f105bb0>]"
            ]
          },
          "metadata": {},
          "execution_count": 23
        },
        {
          "output_type": "display_data",
          "data": {
            "text/plain": [
              "<Figure size 432x288 with 1 Axes>"
            ],
            "image/png": "[encoded data removed]"
          },
          "metadata": {
            "needs_background": "light"
          }
        }
      ]
    }
  ]
}