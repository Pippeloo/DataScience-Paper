{
 "cells": [
  {
   "cell_type": "code",
   "execution_count": 25,
   "metadata": {},
   "outputs": [
    {
     "name": "stdout",
     "output_type": "stream",
     "text": [
      "                            Feature  Importance\n",
      "2                           Alcohol    0.559138\n",
      "0                   Adult Mortality    0.152351\n",
      "16  Income composition of resources    0.059276\n",
      "17                        Schooling    0.047261\n",
      "9                 Total expenditure    0.043674\n",
      "1                     infant deaths    0.034374\n",
      "4                       Hepatitis B    0.031936\n",
      "7                 under-five deaths    0.023880\n",
      "15               thinness 5-9 years    0.014205\n",
      "14             thinness  1-19 years    0.012694\n",
      "3            percentage expenditure    0.008506\n",
      "10                       Diphtheria    0.004599\n",
      "5                           Measles    0.004092\n",
      "6                               BMI    0.004014\n",
      "8                             Polio    0.000000\n",
      "11                         HIV/AIDS    0.000000\n",
      "12                              GDP    0.000000\n",
      "13                       Population    0.000000\n"
     ]
    }
   ],
   "source": [
    "from sklearn.tree import DecisionTreeClassifier\n",
    "import pandas as pd\n",
    "\n",
    "path = r'../Life_Expectancy_preprocessed_v2.csv'\n",
    "data = pd.read_csv(path)\n",
    "cleanData = data.dropna()\n",
    "\n",
    "numeric_columns = ['Adult Mortality', 'infant deaths', 'Alcohol',\n",
    "                   'percentage expenditure', 'Hepatitis B', 'Measles', 'BMI',\n",
    "                   'under-five deaths', 'Polio', 'Total expenditure', 'Diphtheria',\n",
    "                   'HIV/AIDS', 'GDP', 'Population', 'thinness  1-19 years',\n",
    "                   'thinness 5-9 years', 'Income composition of resources', 'Schooling']\n",
    "X = cleanData[numeric_columns]\n",
    "y = cleanData[['Developed']]\n",
    "\n",
    "tree_classifier = DecisionTreeClassifier(random_state=42)\n",
    "tree_classifier.fit(X, y)\n",
    "\n",
    "feature_importances = tree_classifier.feature_importances_\n",
    "\n",
    "importance_df = pd.DataFrame({'Feature': X.columns, 'Importance': feature_importances})\n",
    "\n",
    "importance_df = importance_df.sort_values(by='Importance', ascending=False)\n",
    "\n",
    "print(importance_df)\n",
    "\n",
    "top_n_features = 5\n",
    "selected_features = importance_df['Feature'][:top_n_features].tolist()\n",
    "\n",
    "X_selected = X[selected_features]\n"
   ]
  },
  {
   "cell_type": "code",
   "execution_count": 26,
   "metadata": {},
   "outputs": [
    {
     "name": "stdout",
     "output_type": "stream",
     "text": [
      "The Coefficient for the X values are: [[-1.16460184e-02  3.18883954e-01 -1.79011383e-02  4.66707234e-02\n",
      "  -1.49258675e-01 -1.46131839e-01  3.69153050e-03 -2.76684558e-02\n",
      "  -3.80990326e-01  1.42272072e-04 -1.61166941e-02  1.57647852e-04\n",
      "   1.28202262e-02 -5.05597865e-01]]\n",
      "The Intercept is: [-0.00867539]\n"
     ]
    },
    {
     "name": "stderr",
     "output_type": "stream",
     "text": [
      "c:\\Users\\layoc\\AppData\\Local\\Programs\\Python\\Python312\\Lib\\site-packages\\sklearn\\utils\\validation.py:1183: DataConversionWarning: A column-vector y was passed when a 1d array was expected. Please change the shape of y to (n_samples, ), for example using ravel().\n",
      "  y = column_or_1d(y, warn=True)\n",
      "c:\\Users\\layoc\\AppData\\Local\\Programs\\Python\\Python312\\Lib\\site-packages\\sklearn\\linear_model\\_logistic.py:460: ConvergenceWarning: lbfgs failed to converge (status=1):\n",
      "STOP: TOTAL NO. of ITERATIONS REACHED LIMIT.\n",
      "\n",
      "Increase the number of iterations (max_iter) or scale the data as shown in:\n",
      "    https://scikit-learn.org/stable/modules/preprocessing.html\n",
      "Please also refer to the documentation for alternative solver options:\n",
      "    https://scikit-learn.org/stable/modules/linear_model.html#logistic-regression\n",
      "  n_iter_i = _check_optimize_result(\n"
     ]
    }
   ],
   "source": [
    "from sklearn.linear_model import LogisticRegression\n",
    "from sklearn.preprocessing import StandardScaler\n",
    "from sklearn import preprocessing\n",
    "from sklearn.model_selection import train_test_split\n",
    "import pandas as pd\n",
    "\n",
    "path = '../Life_Expectancy_preprocessed_v2.csv'\n",
    "data = pd.read_csv(path)\n",
    "cleanData = data.dropna()\n",
    "\n",
    "X = cleanData[['Adult Mortality','Alcohol','BMI','Schooling','thinness  1-19 years','thinness 5-9 years',\n",
    "               'Income composition of resources','Total expenditure', 'infant deaths', 'percentage expenditure', 'Diphtheria', 'Measles', 'Hepatitis B', 'under-five deaths']]\n",
    "y = cleanData[['Developed']]\n",
    "\n",
    "X_train, X_test, y_train, y_test = train_test_split(X,y,test_size=0.2, random_state=42)\n",
    "\n",
    "scaler = StandardScaler()\n",
    "scaler.fit(X_train)\n",
    "\n",
    "X_train_scaled = scaler.transform(X_train)\n",
    "X_test_scaled = scaler.transform(X_test)\n",
    "\n",
    "logReg = LogisticRegression()\n",
    "logReg.fit(X_train,y_train)\n",
    "\n",
    "coef = logReg.coef_\n",
    "intercept = logReg.intercept_\n",
    "\n",
    "print(f\"The Coefficient for the X values are: {coef}\")\n",
    "print(f\"The Intercept is: {intercept}\")"
   ]
  },
  {
   "cell_type": "code",
   "execution_count": 27,
   "metadata": {},
   "outputs": [],
   "source": [
    "predictions = logReg.predict(X_test)\n",
    "\n",
    "# for i, result in zip(X_test.values, predictions):\n",
    "#     result_str = \"Developed\" if result == 1 else \"Not Developed\"\n",
    "#     print(f\"Features: {i}, Predicted result: {result_str}\")"
   ]
  },
  {
   "cell_type": "code",
   "execution_count": 28,
   "metadata": {},
   "outputs": [
    {
     "data": {
      "image/png": "[encoded data removed]",
      "text/plain": [
       "<Figure size 600x400 with 1 Axes>"
      ]
     },
     "metadata": {},
     "output_type": "display_data"
    }
   ],
   "source": [
    "import matplotlib.pyplot as plt\n",
    "from sklearn.metrics import confusion_matrix\n",
    "import seaborn as sns\n",
    "\n",
    "# confusion matrix\n",
    "cm = confusion_matrix(y_test, predictions)\n",
    "\n",
    "# visualize\n",
    "plt.figure(figsize=(6, 4))\n",
    "sns.heatmap(cm, annot=True, fmt=\"d\", cmap=\"Blues\", cbar=False, square=True, xticklabels=['Not Developed', 'Developed'], yticklabels=['Not Developed', 'Developed'])\n",
    "plt.xlabel('Predicted')\n",
    "plt.ylabel('Actual')\n",
    "plt.show()"
   ]
  },
  {
   "cell_type": "code",
   "execution_count": 29,
   "metadata": {},
   "outputs": [
    {
     "name": "stdout",
     "output_type": "stream",
     "text": [
      "Accuracy: 0.9181818181818182\n"
     ]
    }
   ],
   "source": [
    "from sklearn.metrics import accuracy_score\n",
    "\n",
    "accuracy = accuracy_score(y_test, predictions)\n",
    "print(\"Accuracy:\", accuracy) "
   ]
  },
  {
   "cell_type": "code",
   "execution_count": 30,
   "metadata": {},
   "outputs": [
    {
     "name": "stdout",
     "output_type": "stream",
     "text": [
      "Classification Report:\n",
      "                precision    recall  f1-score   support\n",
      "\n",
      "Not Developed       0.93      0.97      0.95       279\n",
      "    Developed       0.80      0.63      0.70        51\n",
      "\n",
      "     accuracy                           0.92       330\n",
      "    macro avg       0.87      0.80      0.83       330\n",
      " weighted avg       0.91      0.92      0.91       330\n",
      "\n"
     ]
    }
   ],
   "source": [
    "from sklearn.metrics import classification_report\n",
    "\n",
    "# Generate a classification report\n",
    "report = classification_report(y_test, predictions, target_names=['Not Developed', 'Developed'])\n",
    "\n",
    "# Print the classification report\n",
    "print(\"Classification Report:\\n\", report)"
   ]
  },
  {
   "cell_type": "code",
   "execution_count": 31,
   "metadata": {},
   "outputs": [
    {
     "data": {
      "image/png": "[encoded data removed]",
      "text/plain": [
       "<Figure size 640x480 with 1 Axes>"
      ]
     },
     "metadata": {},
     "output_type": "display_data"
    },
    {
     "name": "stdout",
     "output_type": "stream",
     "text": [
      "Count of Instances for Each Class:\n",
      "Developed\n",
      "0    1411\n",
      "1     238\n",
      "Name: count, dtype: int64\n"
     ]
    }
   ],
   "source": [
    "import matplotlib.pyplot as plt\n",
    "\n",
    "class_counts = y['Developed'].value_counts()\n",
    "\n",
    "# Create a bar plot\n",
    "class_counts.plot(kind='bar')\n",
    "plt.title(\"Count of Instances for Each Class\")\n",
    "plt.xticks(rotation=0)\n",
    "plt.xlabel(\"Class\")\n",
    "plt.ylabel(\"Count\")\n",
    "plt.show()\n",
    "\n",
    "class_counts = y['Developed'].value_counts()\n",
    "\n",
    "print(\"Count of Instances for Each Class:\")\n",
    "print(class_counts)"
   ]
  }
 ],
 "metadata": {
  "kernelspec": {
   "display_name": "Python 3",
   "language": "python",
   "name": "python3"
  },
  "language_info": {
   "codemirror_mode": {
    "name": "ipython",
    "version": 3
   },
   "file_extension": ".py",
   "mimetype": "text/x-python",
   "name": "python",
   "nbconvert_exporter": "python",
   "pygments_lexer": "ipython3",
   "version": "3.12.0"
  }
 },
 "nbformat": 4,
 "nbformat_minor": 2
}
