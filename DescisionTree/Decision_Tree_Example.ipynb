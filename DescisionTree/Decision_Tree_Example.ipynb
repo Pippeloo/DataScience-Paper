{
  "cells": [
    {
      "cell_type": "code",
      "execution_count": 106,
      "metadata": {
        "id": "II_pL3krErdk"
      },
      "outputs": [],
      "source": [
        "from sklearn.datasets import load_iris\n",
        "from sklearn.tree import DecisionTreeClassifier"
      ]
    },
    {
      "cell_type": "code",
      "execution_count": 107,
      "metadata": {
        "colab": {
          "base_uri": "https://localhost:8080/"
        },
        "id": "j3lrH2zzE16X",
        "outputId": "e6062b6a-a349-4b64-cd77-b8de1ab3c1ce"
      },
      "outputs": [
        {
          "data": {
            "text/html": [
              "<style>#sk-container-id-13 {color: black;}#sk-container-id-13 pre{padding: 0;}#sk-container-id-13 div.sk-toggleable {background-color: white;}#sk-container-id-13 label.sk-toggleable__label {cursor: pointer;display: block;width: 100%;margin-bottom: 0;padding: 0.3em;box-sizing: border-box;text-align: center;}#sk-container-id-13 label.sk-toggleable__label-arrow:before {content: \"▸\";float: left;margin-right: 0.25em;color: #696969;}#sk-container-id-13 label.sk-toggleable__label-arrow:hover:before {color: black;}#sk-container-id-13 div.sk-estimator:hover label.sk-toggleable__label-arrow:before {color: black;}#sk-container-id-13 div.sk-toggleable__content {max-height: 0;max-width: 0;overflow: hidden;text-align: left;background-color: #f0f8ff;}#sk-container-id-13 div.sk-toggleable__content pre {margin: 0.2em;color: black;border-radius: 0.25em;background-color: #f0f8ff;}#sk-container-id-13 input.sk-toggleable__control:checked~div.sk-toggleable__content {max-height: 200px;max-width: 100%;overflow: auto;}#sk-container-id-13 input.sk-toggleable__control:checked~label.sk-toggleable__label-arrow:before {content: \"▾\";}#sk-container-id-13 div.sk-estimator input.sk-toggleable__control:checked~label.sk-toggleable__label {background-color: #d4ebff;}#sk-container-id-13 div.sk-label input.sk-toggleable__control:checked~label.sk-toggleable__label {background-color: #d4ebff;}#sk-container-id-13 input.sk-hidden--visually {border: 0;clip: rect(1px 1px 1px 1px);clip: rect(1px, 1px, 1px, 1px);height: 1px;margin: -1px;overflow: hidden;padding: 0;position: absolute;width: 1px;}#sk-container-id-13 div.sk-estimator {font-family: monospace;background-color: #f0f8ff;border: 1px dotted black;border-radius: 0.25em;box-sizing: border-box;margin-bottom: 0.5em;}#sk-container-id-13 div.sk-estimator:hover {background-color: #d4ebff;}#sk-container-id-13 div.sk-parallel-item::after {content: \"\";width: 100%;border-bottom: 1px solid gray;flex-grow: 1;}#sk-container-id-13 div.sk-label:hover label.sk-toggleable__label {background-color: #d4ebff;}#sk-container-id-13 div.sk-serial::before {content: \"\";position: absolute;border-left: 1px solid gray;box-sizing: border-box;top: 0;bottom: 0;left: 50%;z-index: 0;}#sk-container-id-13 div.sk-serial {display: flex;flex-direction: column;align-items: center;background-color: white;padding-right: 0.2em;padding-left: 0.2em;position: relative;}#sk-container-id-13 div.sk-item {position: relative;z-index: 1;}#sk-container-id-13 div.sk-parallel {display: flex;align-items: stretch;justify-content: center;background-color: white;position: relative;}#sk-container-id-13 div.sk-item::before, #sk-container-id-13 div.sk-parallel-item::before {content: \"\";position: absolute;border-left: 1px solid gray;box-sizing: border-box;top: 0;bottom: 0;left: 50%;z-index: -1;}#sk-container-id-13 div.sk-parallel-item {display: flex;flex-direction: column;z-index: 1;position: relative;background-color: white;}#sk-container-id-13 div.sk-parallel-item:first-child::after {align-self: flex-end;width: 50%;}#sk-container-id-13 div.sk-parallel-item:last-child::after {align-self: flex-start;width: 50%;}#sk-container-id-13 div.sk-parallel-item:only-child::after {width: 0;}#sk-container-id-13 div.sk-dashed-wrapped {border: 1px dashed gray;margin: 0 0.4em 0.5em 0.4em;box-sizing: border-box;padding-bottom: 0.4em;background-color: white;}#sk-container-id-13 div.sk-label label {font-family: monospace;font-weight: bold;display: inline-block;line-height: 1.2em;}#sk-container-id-13 div.sk-label-container {text-align: center;}#sk-container-id-13 div.sk-container {/* jupyter's `normalize.less` sets `[hidden] { display: none; }` but bootstrap.min.css set `[hidden] { display: none !important; }` so we also need the `!important` here to be able to override the default hidden behavior on the sphinx rendered scikit-learn.org. See: https://github.com/scikit-learn/scikit-learn/issues/21755 */display: inline-block !important;position: relative;}#sk-container-id-13 div.sk-text-repr-fallback {display: none;}</style><div id=\"sk-container-id-13\" class=\"sk-top-container\"><div class=\"sk-text-repr-fallback\"><pre>DecisionTreeClassifier(max_depth=2)</pre><b>In a Jupyter environment, please rerun this cell to show the HTML representation or trust the notebook. <br />On GitHub, the HTML representation is unable to render, please try loading this page with nbviewer.org.</b></div><div class=\"sk-container\" hidden><div class=\"sk-item\"><div class=\"sk-estimator sk-toggleable\"><input class=\"sk-toggleable__control sk-hidden--visually\" id=\"sk-estimator-id-13\" type=\"checkbox\" checked><label for=\"sk-estimator-id-13\" class=\"sk-toggleable__label sk-toggleable__label-arrow\">DecisionTreeClassifier</label><div class=\"sk-toggleable__content\"><pre>DecisionTreeClassifier(max_depth=2)</pre></div></div></div></div></div>"
            ],
            "text/plain": [
              "DecisionTreeClassifier(max_depth=2)"
            ]
          },
          "execution_count": 107,
          "metadata": {},
          "output_type": "execute_result"
        }
      ],
      "source": [
        "iris = load_iris()\n",
        "X = iris.data[:, 2:]\n",
        "y = iris.target\n",
        "\n",
        "tree_clf = DecisionTreeClassifier(max_depth = 2)\n",
        "tree_clf.fit(X, y)"
      ]
    },
    {
      "cell_type": "code",
      "execution_count": 108,
      "metadata": {
        "colab": {
          "base_uri": "https://localhost:8080/"
        },
        "id": "PHI6v4KeNVRw",
        "outputId": "8144510f-17ee-4829-e5a2-45f637a27734"
      },
      "outputs": [
        {
          "data": {
            "text/html": [
              "<div>\n",
              "<style scoped>\n",
              "    .dataframe tbody tr th:only-of-type {\n",
              "        vertical-align: middle;\n",
              "    }\n",
              "\n",
              "    .dataframe tbody tr th {\n",
              "        vertical-align: top;\n",
              "    }\n",
              "\n",
              "    .dataframe thead th {\n",
              "        text-align: right;\n",
              "    }\n",
              "</style>\n",
              "<table border=\"1\" class=\"dataframe\">\n",
              "  <thead>\n",
              "    <tr style=\"text-align: right;\">\n",
              "      <th></th>\n",
              "      <th>sepal length (cm)</th>\n",
              "      <th>sepal width (cm)</th>\n",
              "      <th>petal length (cm)</th>\n",
              "      <th>petal width (cm)</th>\n",
              "      <th>target</th>\n",
              "    </tr>\n",
              "  </thead>\n",
              "  <tbody>\n",
              "    <tr>\n",
              "      <th>0</th>\n",
              "      <td>5.1</td>\n",
              "      <td>3.5</td>\n",
              "      <td>1.4</td>\n",
              "      <td>0.2</td>\n",
              "      <td>0</td>\n",
              "    </tr>\n",
              "    <tr>\n",
              "      <th>1</th>\n",
              "      <td>4.9</td>\n",
              "      <td>3.0</td>\n",
              "      <td>1.4</td>\n",
              "      <td>0.2</td>\n",
              "      <td>0</td>\n",
              "    </tr>\n",
              "    <tr>\n",
              "      <th>2</th>\n",
              "      <td>4.7</td>\n",
              "      <td>3.2</td>\n",
              "      <td>1.3</td>\n",
              "      <td>0.2</td>\n",
              "      <td>0</td>\n",
              "    </tr>\n",
              "    <tr>\n",
              "      <th>3</th>\n",
              "      <td>4.6</td>\n",
              "      <td>3.1</td>\n",
              "      <td>1.5</td>\n",
              "      <td>0.2</td>\n",
              "      <td>0</td>\n",
              "    </tr>\n",
              "    <tr>\n",
              "      <th>4</th>\n",
              "      <td>5.0</td>\n",
              "      <td>3.6</td>\n",
              "      <td>1.4</td>\n",
              "      <td>0.2</td>\n",
              "      <td>0</td>\n",
              "    </tr>\n",
              "  </tbody>\n",
              "</table>\n",
              "</div>"
            ],
            "text/plain": [
              "   sepal length (cm)  sepal width (cm)  petal length (cm)  petal width (cm)  \\\n",
              "0                5.1               3.5                1.4               0.2   \n",
              "1                4.9               3.0                1.4               0.2   \n",
              "2                4.7               3.2                1.3               0.2   \n",
              "3                4.6               3.1                1.5               0.2   \n",
              "4                5.0               3.6                1.4               0.2   \n",
              "\n",
              "   target  \n",
              "0       0  \n",
              "1       0  \n",
              "2       0  \n",
              "3       0  \n",
              "4       0  "
            ]
          },
          "execution_count": 108,
          "metadata": {},
          "output_type": "execute_result"
        }
      ],
      "source": [
        "import pandas as pd\n",
        "\n",
        "df_iris = pd.DataFrame(iris.data, columns = iris.feature_names)\n",
        "df_iris['target'] = iris.target\n",
        "\n",
        "\n",
        "df_iris.head()"
      ]
    },
    {
      "cell_type": "code",
      "execution_count": 109,
      "metadata": {
        "colab": {
          "base_uri": "https://localhost:8080/"
        },
        "id": "b1gx31SqHoYZ",
        "outputId": "1ae6acb3-ce03-4b54-d73e-7d5a9099fc6e"
      },
      "outputs": [
        {
          "data": {
            "text/plain": [
              "['sepal length (cm)',\n",
              " 'sepal width (cm)',\n",
              " 'petal length (cm)',\n",
              " 'petal width (cm)']"
            ]
          },
          "execution_count": 109,
          "metadata": {},
          "output_type": "execute_result"
        }
      ],
      "source": [
        "iris.data[:3]\n",
        "iris.feature_names"
      ]
    },
    {
      "cell_type": "code",
      "execution_count": 110,
      "metadata": {
        "colab": {
          "base_uri": "https://localhost:8080/"
        },
        "id": "8A7BjRzCMXeT",
        "outputId": "9490fdd3-c6cf-4e8f-f36a-fa3b74cf297d"
      },
      "outputs": [
        {
          "data": {
            "text/plain": [
              "array(['setosa', 'versicolor', 'virginica'], dtype='<U10')"
            ]
          },
          "execution_count": 110,
          "metadata": {},
          "output_type": "execute_result"
        }
      ],
      "source": [
        "iris.target_names"
      ]
    },
    {
      "cell_type": "code",
      "execution_count": 111,
      "metadata": {
        "colab": {
          "base_uri": "https://localhost:8080/"
        },
        "id": "P1cH3FH3FRYg",
        "outputId": "05e72ec3-e866-4c69-ea75-4799324df422"
      },
      "outputs": [
        {
          "data": {
            "image/svg+xml": [
              "<?xml version=\"1.0\" encoding=\"UTF-8\" standalone=\"no\"?>\n",
              "<!DOCTYPE svg PUBLIC \"-//W3C//DTD SVG 1.1//EN\"\n",
              " \"http://www.w3.org/Graphics/SVG/1.1/DTD/svg11.dtd\">\n",
              "<!-- Generated by graphviz version 9.0.0 (20230911.1827)\n",
              " -->\n",
              "<!-- Title: Tree Pages: 1 -->\n",
              "<svg width=\"350pt\" height=\"314pt\"\n",
              " viewBox=\"0.00 0.00 349.50 314.00\" xmlns=\"http://www.w3.org/2000/svg\" xmlns:xlink=\"http://www.w3.org/1999/xlink\">\n",
              "<g id=\"graph0\" class=\"graph\" transform=\"scale(1 1) rotate(0) translate(4 310)\">\n",
              "<title>Tree</title>\n",
              "<polygon fill=\"white\" stroke=\"none\" points=\"-4,4 -4,-310 345.5,-310 345.5,4 -4,4\"/>\n",
              "<!-- 0 -->\n",
              "<g id=\"node1\" class=\"node\">\n",
              "<title>0</title>\n",
              "<path fill=\"#ffffff\" stroke=\"black\" d=\"M201.62,-306C201.62,-306 70.88,-306 70.88,-306 64.88,-306 58.88,-300 58.88,-294 58.88,-294 58.88,-235 58.88,-235 58.88,-229 64.88,-223 70.88,-223 70.88,-223 201.62,-223 201.62,-223 207.62,-223 213.62,-229 213.62,-235 213.62,-235 213.62,-294 213.62,-294 213.62,-300 207.62,-306 201.62,-306\"/>\n",
              "<text text-anchor=\"middle\" x=\"136.25\" y=\"-288.7\" font-family=\"Helvetica,sans-Serif\" font-size=\"14.00\">petal width (cm) &lt;= 0.8</text>\n",
              "<text text-anchor=\"middle\" x=\"136.25\" y=\"-273.7\" font-family=\"Helvetica,sans-Serif\" font-size=\"14.00\">gini = 0.667</text>\n",
              "<text text-anchor=\"middle\" x=\"136.25\" y=\"-258.7\" font-family=\"Helvetica,sans-Serif\" font-size=\"14.00\">samples = 150</text>\n",
              "<text text-anchor=\"middle\" x=\"136.25\" y=\"-243.7\" font-family=\"Helvetica,sans-Serif\" font-size=\"14.00\">value = [50, 50, 50]</text>\n",
              "<text text-anchor=\"middle\" x=\"136.25\" y=\"-228.7\" font-family=\"Helvetica,sans-Serif\" font-size=\"14.00\">class = setosa</text>\n",
              "</g>\n",
              "<!-- 1 -->\n",
              "<g id=\"node2\" class=\"node\">\n",
              "<title>1</title>\n",
              "<path fill=\"#e58139\" stroke=\"black\" d=\"M104.5,-179.5C104.5,-179.5 12,-179.5 12,-179.5 6,-179.5 0,-173.5 0,-167.5 0,-167.5 0,-123.5 0,-123.5 0,-117.5 6,-111.5 12,-111.5 12,-111.5 104.5,-111.5 104.5,-111.5 110.5,-111.5 116.5,-117.5 116.5,-123.5 116.5,-123.5 116.5,-167.5 116.5,-167.5 116.5,-173.5 110.5,-179.5 104.5,-179.5\"/>\n",
              "<text text-anchor=\"middle\" x=\"58.25\" y=\"-162.2\" font-family=\"Helvetica,sans-Serif\" font-size=\"14.00\">gini = 0.0</text>\n",
              "<text text-anchor=\"middle\" x=\"58.25\" y=\"-147.2\" font-family=\"Helvetica,sans-Serif\" font-size=\"14.00\">samples = 50</text>\n",
              "<text text-anchor=\"middle\" x=\"58.25\" y=\"-132.2\" font-family=\"Helvetica,sans-Serif\" font-size=\"14.00\">value = [50, 0, 0]</text>\n",
              "<text text-anchor=\"middle\" x=\"58.25\" y=\"-117.2\" font-family=\"Helvetica,sans-Serif\" font-size=\"14.00\">class = setosa</text>\n",
              "</g>\n",
              "<!-- 0&#45;&gt;1 -->\n",
              "<g id=\"edge1\" class=\"edge\">\n",
              "<title>0&#45;&gt;1</title>\n",
              "<path fill=\"none\" stroke=\"black\" d=\"M108.97,-222.58C101.77,-211.77 93.97,-200.09 86.71,-189.19\"/>\n",
              "<polygon fill=\"black\" stroke=\"black\" points=\"89.79,-187.5 81.33,-181.12 83.97,-191.38 89.79,-187.5\"/>\n",
              "<text text-anchor=\"middle\" x=\"75.59\" y=\"-198.58\" font-family=\"Helvetica,sans-Serif\" font-size=\"14.00\">True</text>\n",
              "</g>\n",
              "<!-- 2 -->\n",
              "<g id=\"node3\" class=\"node\">\n",
              "<title>2</title>\n",
              "<path fill=\"#ffffff\" stroke=\"black\" d=\"M284.38,-187C284.38,-187 146.12,-187 146.12,-187 140.12,-187 134.12,-181 134.12,-175 134.12,-175 134.12,-116 134.12,-116 134.12,-110 140.12,-104 146.12,-104 146.12,-104 284.38,-104 284.38,-104 290.38,-104 296.38,-110 296.38,-116 296.38,-116 296.38,-175 296.38,-175 296.38,-181 290.38,-187 284.38,-187\"/>\n",
              "<text text-anchor=\"middle\" x=\"215.25\" y=\"-169.7\" font-family=\"Helvetica,sans-Serif\" font-size=\"14.00\">petal width (cm) &lt;= 1.75</text>\n",
              "<text text-anchor=\"middle\" x=\"215.25\" y=\"-154.7\" font-family=\"Helvetica,sans-Serif\" font-size=\"14.00\">gini = 0.5</text>\n",
              "<text text-anchor=\"middle\" x=\"215.25\" y=\"-139.7\" font-family=\"Helvetica,sans-Serif\" font-size=\"14.00\">samples = 100</text>\n",
              "<text text-anchor=\"middle\" x=\"215.25\" y=\"-124.7\" font-family=\"Helvetica,sans-Serif\" font-size=\"14.00\">value = [0, 50, 50]</text>\n",
              "<text text-anchor=\"middle\" x=\"215.25\" y=\"-109.7\" font-family=\"Helvetica,sans-Serif\" font-size=\"14.00\">class = versicolor</text>\n",
              "</g>\n",
              "<!-- 0&#45;&gt;2 -->\n",
              "<g id=\"edge2\" class=\"edge\">\n",
              "<title>0&#45;&gt;2</title>\n",
              "<path fill=\"none\" stroke=\"black\" d=\"M163.88,-222.58C169.57,-214.16 175.61,-205.2 181.49,-196.5\"/>\n",
              "<polygon fill=\"black\" stroke=\"black\" points=\"184.23,-198.7 186.92,-188.45 178.42,-194.78 184.23,-198.7\"/>\n",
              "<text text-anchor=\"middle\" x=\"192.53\" y=\"-205.94\" font-family=\"Helvetica,sans-Serif\" font-size=\"14.00\">False</text>\n",
              "</g>\n",
              "<!-- 3 -->\n",
              "<g id=\"node4\" class=\"node\">\n",
              "<title>3</title>\n",
              "<path fill=\"#4de88e\" stroke=\"black\" d=\"M195.38,-68C195.38,-68 99.12,-68 99.12,-68 93.12,-68 87.12,-62 87.12,-56 87.12,-56 87.12,-12 87.12,-12 87.12,-6 93.12,0 99.12,0 99.12,0 195.38,0 195.38,0 201.38,0 207.38,-6 207.38,-12 207.38,-12 207.38,-56 207.38,-56 207.38,-62 201.38,-68 195.38,-68\"/>\n",
              "<text text-anchor=\"middle\" x=\"147.25\" y=\"-50.7\" font-family=\"Helvetica,sans-Serif\" font-size=\"14.00\">gini = 0.168</text>\n",
              "<text text-anchor=\"middle\" x=\"147.25\" y=\"-35.7\" font-family=\"Helvetica,sans-Serif\" font-size=\"14.00\">samples = 54</text>\n",
              "<text text-anchor=\"middle\" x=\"147.25\" y=\"-20.7\" font-family=\"Helvetica,sans-Serif\" font-size=\"14.00\">value = [0, 49, 5]</text>\n",
              "<text text-anchor=\"middle\" x=\"147.25\" y=\"-5.7\" font-family=\"Helvetica,sans-Serif\" font-size=\"14.00\">class = versicolor</text>\n",
              "</g>\n",
              "<!-- 2&#45;&gt;3 -->\n",
              "<g id=\"edge3\" class=\"edge\">\n",
              "<title>2&#45;&gt;3</title>\n",
              "<path fill=\"none\" stroke=\"black\" d=\"M189.93,-103.73C184.72,-95.34 179.22,-86.47 173.96,-78.01\"/>\n",
              "<polygon fill=\"black\" stroke=\"black\" points=\"176.98,-76.23 168.73,-69.59 171.03,-79.93 176.98,-76.23\"/>\n",
              "</g>\n",
              "<!-- 4 -->\n",
              "<g id=\"node5\" class=\"node\">\n",
              "<title>4</title>\n",
              "<path fill=\"#843de6\" stroke=\"black\" d=\"M329.5,-68C329.5,-68 237,-68 237,-68 231,-68 225,-62 225,-56 225,-56 225,-12 225,-12 225,-6 231,0 237,0 237,0 329.5,0 329.5,0 335.5,0 341.5,-6 341.5,-12 341.5,-12 341.5,-56 341.5,-56 341.5,-62 335.5,-68 329.5,-68\"/>\n",
              "<text text-anchor=\"middle\" x=\"283.25\" y=\"-50.7\" font-family=\"Helvetica,sans-Serif\" font-size=\"14.00\">gini = 0.043</text>\n",
              "<text text-anchor=\"middle\" x=\"283.25\" y=\"-35.7\" font-family=\"Helvetica,sans-Serif\" font-size=\"14.00\">samples = 46</text>\n",
              "<text text-anchor=\"middle\" x=\"283.25\" y=\"-20.7\" font-family=\"Helvetica,sans-Serif\" font-size=\"14.00\">value = [0, 1, 45]</text>\n",
              "<text text-anchor=\"middle\" x=\"283.25\" y=\"-5.7\" font-family=\"Helvetica,sans-Serif\" font-size=\"14.00\">class = virginica</text>\n",
              "</g>\n",
              "<!-- 2&#45;&gt;4 -->\n",
              "<g id=\"edge4\" class=\"edge\">\n",
              "<title>2&#45;&gt;4</title>\n",
              "<path fill=\"none\" stroke=\"black\" d=\"M240.57,-103.73C245.78,-95.34 251.28,-86.47 256.54,-78.01\"/>\n",
              "<polygon fill=\"black\" stroke=\"black\" points=\"259.47,-79.93 261.77,-69.59 253.52,-76.23 259.47,-79.93\"/>\n",
              "</g>\n",
              "</g>\n",
              "</svg>\n"
            ],
            "text/plain": [
              "<graphviz.sources.Source at 0x294ac7070>"
            ]
          },
          "execution_count": 111,
          "metadata": {},
          "output_type": "execute_result"
        }
      ],
      "source": [
        "from sklearn.tree import export_graphviz\n",
        "import graphviz\n",
        "\n",
        "dot_data = export_graphviz(\n",
        "    tree_clf,\n",
        "    feature_names = iris.feature_names[2:],\n",
        "    class_names = iris.target_names,\n",
        "    rounded=True,\n",
        "    filled=True # 색 칠해줌\n",
        ")\n",
        "\n",
        "graphviz.Source(dot_data)\n",
        "\n",
        "# petal = 꽃잎, sepal = 꽃받침"
      ]
    },
    {
      "cell_type": "code",
      "execution_count": 112,
      "metadata": {
        "colab": {
          "base_uri": "https://localhost:8080/"
        },
        "id": "ieBbp6zLJvNg",
        "outputId": "42b34ca6-b552-4598-f70a-a53d93e0d39a"
      },
      "outputs": [
        {
          "data": {
            "image/png": "[encoded data removed]",
            "text/plain": [
              "<Figure size 1000x600 with 1 Axes>"
            ]
          },
          "metadata": {},
          "output_type": "display_data"
        }
      ],
      "source": [
        "import matplotlib.pyplot as plt\n",
        "\n",
        "\n",
        "petal_length = X[:, 0]\n",
        "petal_width = X[:, 1]\n",
        "\n",
        "setosa = df_iris.loc[df_iris.target == 0, [\"petal length (cm)\", \"petal width (cm)\"]]\n",
        "versicolor = df_iris.loc[df_iris.target == 1, [\"petal length (cm)\", \"petal width (cm)\"]]\n",
        "virginica = df_iris.loc[df_iris.target == 2, [\"petal length (cm)\", \"petal width (cm)\"]]\n",
        "\n",
        "plt.figure(figsize=(10, 6))\n",
        "\n",
        "\n",
        "plt.scatter(setosa.loc[:,\"petal length (cm)\"], setosa.loc[:,\"petal width (cm)\"])\n",
        "plt.scatter(versicolor.loc[:,\"petal length (cm)\"], versicolor.loc[:,\"petal width (cm)\"])\n",
        "plt.scatter(virginica.loc[:,\"petal length (cm)\"], virginica.loc[:,\"petal width (cm)\"])\n",
        "plt.legend(iris.target_names)\n",
        "\n",
        "\n",
        "# plt.vlines(2.45, 0, 2.5, 'r')\n",
        "plt.plot([2.45, 2.45], [0, 3], \"k-\", linewidth=2)\n",
        "plt.plot([2.45, 8], [1.75, 1.75], \"k--\", linewidth = 2)\n",
        "\n",
        "# plt.scatter(petal_length, petal_width, c= petal_length)\n",
        "\n",
        "plt.axis([0, 7.5, 0, 3])\n",
        "plt.xlabel('petal length')\n",
        "plt.ylabel('petal width')\n",
        "plt.show()"
      ]
    },
    {
      "cell_type": "code",
      "execution_count": 113,
      "metadata": {
        "colab": {
          "base_uri": "https://localhost:8080/"
        },
        "id": "7n_2ZggoNE86",
        "outputId": "e1bc21b7-69b2-4f64-b03a-cc1a251a59c3"
      },
      "outputs": [
        {
          "data": {
            "text/plain": [
              "0     1.4\n",
              "1     1.4\n",
              "2     1.3\n",
              "3     1.5\n",
              "4     1.4\n",
              "5     1.7\n",
              "6     1.4\n",
              "7     1.5\n",
              "8     1.4\n",
              "9     1.5\n",
              "10    1.5\n",
              "Name: petal length (cm), dtype: float64"
            ]
          },
          "execution_count": 113,
          "metadata": {},
          "output_type": "execute_result"
        }
      ],
      "source": [
        "setosa.loc[:10,\"petal length (cm)\"]"
      ]
    },
    {
      "cell_type": "code",
      "execution_count": 114,
      "metadata": {
        "colab": {
          "base_uri": "https://localhost:8080/"
        },
        "id": "gy6iqo3xKoFO",
        "outputId": "e0935b89-cc49-4ed6-a635-6130a82b569b"
      },
      "outputs": [
        {
          "data": {
            "text/plain": [
              "array([[1.4, 0.2],\n",
              "       [1.4, 0.2],\n",
              "       [1.3, 0.2]])"
            ]
          },
          "execution_count": 114,
          "metadata": {},
          "output_type": "execute_result"
        }
      ],
      "source": [
        "X[:3]"
      ]
    },
    {
      "cell_type": "markdown",
      "metadata": {
        "id": "nPaCtvf2lFCm"
      },
      "source": [
        "# 6.3 클래스 확률 추정"
      ]
    },
    {
      "cell_type": "code",
      "execution_count": 115,
      "metadata": {
        "colab": {
          "base_uri": "https://localhost:8080/"
        },
        "id": "TwZjV8NFlHi2",
        "outputId": "58db1298-c4db-412d-a3b4-174bd3b49517"
      },
      "outputs": [
        {
          "data": {
            "text/plain": [
              "array([[0.        , 0.90740741, 0.09259259],\n",
              "       [0.        , 0.02173913, 0.97826087]])"
            ]
          },
          "execution_count": 115,
          "metadata": {},
          "output_type": "execute_result"
        }
      ],
      "source": [
        "tree_clf.predict_proba([[5, 1.5],\n",
        "                        [3, 2]])"
      ]
    },
    {
      "cell_type": "code",
      "execution_count": 116,
      "metadata": {
        "colab": {
          "base_uri": "https://localhost:8080/"
        },
        "id": "FIVKv7NvlbW-",
        "outputId": "6eb02f70-1872-480a-edf2-6156d494e530"
      },
      "outputs": [
        {
          "data": {
            "text/plain": [
              "array([1, 2])"
            ]
          },
          "execution_count": 116,
          "metadata": {},
          "output_type": "execute_result"
        }
      ],
      "source": [
        "tree_clf.predict([[5, 1.5],\n",
        "                  [3, 2]])"
      ]
    },
    {
      "cell_type": "markdown",
      "metadata": {
        "id": "J-SG4aiSoWbz"
      },
      "source": [
        "# 6.7 규제 매개변수"
      ]
    },
    {
      "cell_type": "code",
      "execution_count": 117,
      "metadata": {
        "id": "0teB7sK7omSG"
      },
      "outputs": [],
      "source": [
        "from matplotlib.colors import ListedColormap\n",
        "import numpy as np\n",
        "\n",
        "def plot_decision_boundary(clf, X, y, axes=[0, 7.5, 0, 3], iris=True, legend=False, plot_training=True):\n",
        "    x1s = np.linspace(axes[0], axes[1], 100)\n",
        "    x2s = np.linspace(axes[2], axes[3], 100)\n",
        "    x1, x2 = np.meshgrid(x1s, x2s)\n",
        "    X_new = np.c_[x1.ravel(), x2.ravel()]\n",
        "    y_pred = clf.predict(X_new).reshape(x1.shape)\n",
        "    custom_cmap = ListedColormap(['#fafab0','#9898ff','#a0faa0'])\n",
        "    plt.contourf(x1, x2, y_pred, alpha=0.3, cmap=custom_cmap)\n",
        "    if not iris:\n",
        "        custom_cmap2 = ListedColormap(['#7d7d58','#4c4c7f','#507d50'])\n",
        "        plt.contour(x1, x2, y_pred, cmap=custom_cmap2, alpha=0.8)\n",
        "    if plot_training:\n",
        "        plt.plot(X[:, 0][y==0], X[:, 1][y==0], \"yo\", label=\"Iris setosa\")\n",
        "        plt.plot(X[:, 0][y==1], X[:, 1][y==1], \"bs\", label=\"Iris versicolor\")\n",
        "        plt.plot(X[:, 0][y==2], X[:, 1][y==2], \"g^\", label=\"Iris virginica\")\n",
        "        plt.axis(axes)\n",
        "    if iris:\n",
        "        plt.xlabel(\"Petal length\", fontsize=14)\n",
        "        plt.ylabel(\"Petal width\", fontsize=14)\n",
        "    else:\n",
        "        plt.xlabel(r\"$x_1$\", fontsize=18)\n",
        "        plt.ylabel(r\"$x_2$\", fontsize=18, rotation=0)\n",
        "    if legend:\n",
        "        plt.legend(loc=\"lower right\", fontsize=14)"
      ]
    },
    {
      "cell_type": "code",
      "execution_count": 118,
      "metadata": {
        "colab": {
          "base_uri": "https://localhost:8080/"
        },
        "id": "ekIGSftOoY-0",
        "outputId": "1ab95319-252e-4754-ec06-090df85dee37"
      },
      "outputs": [
        {
          "data": {
            "image/png": "[encoded data removed]",
            "text/plain": [
              "<Figure size 1000x400 with 2 Axes>"
            ]
          },
          "metadata": {},
          "output_type": "display_data"
        }
      ],
      "source": [
        "from sklearn.datasets import make_moons\n",
        "import numpy as np\n",
        "Xm, ym = make_moons(n_samples=100, noise=0.25, random_state=53)\n",
        "\n",
        "deep_tree_clf1 = DecisionTreeClassifier(random_state=42)\n",
        "deep_tree_clf2 = DecisionTreeClassifier(min_samples_leaf=4, random_state=42)\n",
        "deep_tree_clf1.fit(Xm, ym)\n",
        "deep_tree_clf2.fit(Xm, ym)\n",
        "\n",
        "# Export the model to a pickle file\n",
        "import pickle\n",
        "pickle.dump(deep_tree_clf1, open(\"model.pkl\", 'wb'))\n",
        "\n",
        "fig, axes = plt.subplots(ncols=2, figsize=(10, 4), sharey=True)\n",
        "plt.sca(axes[0])\n",
        "plot_decision_boundary(deep_tree_clf1, Xm, ym, axes=[-1.5, 2.4, -1, 1.5], iris=False)\n",
        "plt.title(\"No restrictions\", fontsize=16)\n",
        "plt.sca(axes[1])\n",
        "plot_decision_boundary(deep_tree_clf2, Xm, ym, axes=[-1.5, 2.4, -1, 1.5], iris=False)\n",
        "plt.title(\"min_samples_leaf = {}\".format(deep_tree_clf2.min_samples_leaf), fontsize=14)\n",
        "plt.ylabel(\"\")\n",
        "\n",
        "plt.show()"
      ]
    },
    {
      "cell_type": "code",
      "execution_count": 119,
      "metadata": {
        "colab": {
          "base_uri": "https://localhost:8080/"
        },
        "id": "I8LrLB5uoxqY",
        "outputId": "747f90ee-6dc0-42ad-ed43-0bab1afbefca"
      },
      "outputs": [
        {
          "data": {
            "image/svg+xml": [
              "<?xml version=\"1.0\" encoding=\"UTF-8\" standalone=\"no\"?>\n",
              "<!DOCTYPE svg PUBLIC \"-//W3C//DTD SVG 1.1//EN\"\n",
              " \"http://www.w3.org/Graphics/SVG/1.1/DTD/svg11.dtd\">\n",
              "<!-- Generated by graphviz version 9.0.0 (20230911.1827)\n",
              " -->\n",
              "<!-- Title: Tree Pages: 1 -->\n",
              "<svg width=\"751pt\" height=\"789pt\"\n",
              " viewBox=\"0.00 0.00 750.75 789.00\" xmlns=\"http://www.w3.org/2000/svg\" xmlns:xlink=\"http://www.w3.org/1999/xlink\">\n",
              "<g id=\"graph0\" class=\"graph\" transform=\"scale(1 1) rotate(0) translate(4 785)\">\n",
              "<title>Tree</title>\n",
              "<polygon fill=\"white\" stroke=\"none\" points=\"-4,4 -4,-785 746.75,-785 746.75,4 -4,4\"/>\n",
              "<!-- 0 -->\n",
              "<g id=\"node1\" class=\"node\">\n",
              "<title>0</title>\n",
              "<path fill=\"#ffffff\" stroke=\"black\" d=\"M269.25,-781C269.25,-781 184.25,-781 184.25,-781 178.25,-781 172.25,-775 172.25,-769 172.25,-769 172.25,-725 172.25,-725 172.25,-719 178.25,-713 184.25,-713 184.25,-713 269.25,-713 269.25,-713 275.25,-713 281.25,-719 281.25,-725 281.25,-725 281.25,-769 281.25,-769 281.25,-775 275.25,-781 269.25,-781\"/>\n",
              "<text text-anchor=\"middle\" x=\"226.75\" y=\"-763.7\" font-family=\"Helvetica,sans-Serif\" font-size=\"14.00\">x[1] &lt;= &#45;0.092</text>\n",
              "<text text-anchor=\"middle\" x=\"226.75\" y=\"-748.7\" font-family=\"Helvetica,sans-Serif\" font-size=\"14.00\">gini = 0.5</text>\n",
              "<text text-anchor=\"middle\" x=\"226.75\" y=\"-733.7\" font-family=\"Helvetica,sans-Serif\" font-size=\"14.00\">samples = 100</text>\n",
              "<text text-anchor=\"middle\" x=\"226.75\" y=\"-718.7\" font-family=\"Helvetica,sans-Serif\" font-size=\"14.00\">value = [50, 50]</text>\n",
              "</g>\n",
              "<!-- 1 -->\n",
              "<g id=\"node2\" class=\"node\">\n",
              "<title>1</title>\n",
              "<path fill=\"#41a1e6\" stroke=\"black\" d=\"M204.5,-677C204.5,-677 127,-677 127,-677 121,-677 115,-671 115,-665 115,-665 115,-621 115,-621 115,-615 121,-609 127,-609 127,-609 204.5,-609 204.5,-609 210.5,-609 216.5,-615 216.5,-621 216.5,-621 216.5,-665 216.5,-665 216.5,-671 210.5,-677 204.5,-677\"/>\n",
              "<text text-anchor=\"middle\" x=\"165.75\" y=\"-659.7\" font-family=\"Helvetica,sans-Serif\" font-size=\"14.00\">x[0] &lt;= 1.195</text>\n",
              "<text text-anchor=\"middle\" x=\"165.75\" y=\"-644.7\" font-family=\"Helvetica,sans-Serif\" font-size=\"14.00\">gini = 0.071</text>\n",
              "<text text-anchor=\"middle\" x=\"165.75\" y=\"-629.7\" font-family=\"Helvetica,sans-Serif\" font-size=\"14.00\">samples = 27</text>\n",
              "<text text-anchor=\"middle\" x=\"165.75\" y=\"-614.7\" font-family=\"Helvetica,sans-Serif\" font-size=\"14.00\">value = [1, 26]</text>\n",
              "</g>\n",
              "<!-- 0&#45;&gt;1 -->\n",
              "<g id=\"edge1\" class=\"edge\">\n",
              "<title>0&#45;&gt;1</title>\n",
              "<path fill=\"none\" stroke=\"black\" d=\"M206.78,-712.6C201.93,-704.5 196.68,-695.72 191.61,-687.24\"/>\n",
              "<polygon fill=\"black\" stroke=\"black\" points=\"194.68,-685.56 186.55,-678.77 188.67,-689.15 194.68,-685.56\"/>\n",
              "<text text-anchor=\"middle\" x=\"179.67\" y=\"-695.92\" font-family=\"Helvetica,sans-Serif\" font-size=\"14.00\">True</text>\n",
              "</g>\n",
              "<!-- 6 -->\n",
              "<g id=\"node7\" class=\"node\">\n",
              "<title>6</title>\n",
              "<path fill=\"#f2bf9a\" stroke=\"black\" d=\"M331.25,-677C331.25,-677 246.25,-677 246.25,-677 240.25,-677 234.25,-671 234.25,-665 234.25,-665 234.25,-621 234.25,-621 234.25,-615 240.25,-609 246.25,-609 246.25,-609 331.25,-609 331.25,-609 337.25,-609 343.25,-615 343.25,-621 343.25,-621 343.25,-665 343.25,-665 343.25,-671 337.25,-677 331.25,-677\"/>\n",
              "<text text-anchor=\"middle\" x=\"288.75\" y=\"-659.7\" font-family=\"Helvetica,sans-Serif\" font-size=\"14.00\">x[0] &lt;= 1.36</text>\n",
              "<text text-anchor=\"middle\" x=\"288.75\" y=\"-644.7\" font-family=\"Helvetica,sans-Serif\" font-size=\"14.00\">gini = 0.441</text>\n",
              "<text text-anchor=\"middle\" x=\"288.75\" y=\"-629.7\" font-family=\"Helvetica,sans-Serif\" font-size=\"14.00\">samples = 73</text>\n",
              "<text text-anchor=\"middle\" x=\"288.75\" y=\"-614.7\" font-family=\"Helvetica,sans-Serif\" font-size=\"14.00\">value = [49, 24]</text>\n",
              "</g>\n",
              "<!-- 0&#45;&gt;6 -->\n",
              "<g id=\"edge6\" class=\"edge\">\n",
              "<title>0&#45;&gt;6</title>\n",
              "<path fill=\"none\" stroke=\"black\" d=\"M247.05,-712.6C251.98,-704.5 257.31,-695.72 262.47,-687.24\"/>\n",
              "<polygon fill=\"black\" stroke=\"black\" points=\"265.41,-689.13 267.62,-678.77 259.43,-685.49 265.41,-689.13\"/>\n",
              "<text text-anchor=\"middle\" x=\"274.33\" y=\"-695.96\" font-family=\"Helvetica,sans-Serif\" font-size=\"14.00\">False</text>\n",
              "</g>\n",
              "<!-- 2 -->\n",
              "<g id=\"node3\" class=\"node\">\n",
              "<title>2</title>\n",
              "<path fill=\"#399de5\" stroke=\"black\" d=\"M89.5,-565.5C89.5,-565.5 12,-565.5 12,-565.5 6,-565.5 0,-559.5 0,-553.5 0,-553.5 0,-524.5 0,-524.5 0,-518.5 6,-512.5 12,-512.5 12,-512.5 89.5,-512.5 89.5,-512.5 95.5,-512.5 101.5,-518.5 101.5,-524.5 101.5,-524.5 101.5,-553.5 101.5,-553.5 101.5,-559.5 95.5,-565.5 89.5,-565.5\"/>\n",
              "<text text-anchor=\"middle\" x=\"50.75\" y=\"-548.2\" font-family=\"Helvetica,sans-Serif\" font-size=\"14.00\">gini = 0.0</text>\n",
              "<text text-anchor=\"middle\" x=\"50.75\" y=\"-533.2\" font-family=\"Helvetica,sans-Serif\" font-size=\"14.00\">samples = 19</text>\n",
              "<text text-anchor=\"middle\" x=\"50.75\" y=\"-518.2\" font-family=\"Helvetica,sans-Serif\" font-size=\"14.00\">value = [0, 19]</text>\n",
              "</g>\n",
              "<!-- 1&#45;&gt;2 -->\n",
              "<g id=\"edge2\" class=\"edge\">\n",
              "<title>1&#45;&gt;2</title>\n",
              "<path fill=\"none\" stroke=\"black\" d=\"M128.09,-608.6C115.32,-597.27 101.06,-584.62 88.29,-573.3\"/>\n",
              "<polygon fill=\"black\" stroke=\"black\" points=\"90.67,-570.73 80.86,-566.71 86.02,-575.96 90.67,-570.73\"/>\n",
              "</g>\n",
              "<!-- 3 -->\n",
              "<g id=\"node4\" class=\"node\">\n",
              "<title>3</title>\n",
              "<path fill=\"#55abe9\" stroke=\"black\" d=\"M201.75,-573C201.75,-573 131.75,-573 131.75,-573 125.75,-573 119.75,-567 119.75,-561 119.75,-561 119.75,-517 119.75,-517 119.75,-511 125.75,-505 131.75,-505 131.75,-505 201.75,-505 201.75,-505 207.75,-505 213.75,-511 213.75,-517 213.75,-517 213.75,-561 213.75,-561 213.75,-567 207.75,-573 201.75,-573\"/>\n",
              "<text text-anchor=\"middle\" x=\"166.75\" y=\"-555.7\" font-family=\"Helvetica,sans-Serif\" font-size=\"14.00\">x[1] &lt;= &#45;0.43</text>\n",
              "<text text-anchor=\"middle\" x=\"166.75\" y=\"-540.7\" font-family=\"Helvetica,sans-Serif\" font-size=\"14.00\">gini = 0.219</text>\n",
              "<text text-anchor=\"middle\" x=\"166.75\" y=\"-525.7\" font-family=\"Helvetica,sans-Serif\" font-size=\"14.00\">samples = 8</text>\n",
              "<text text-anchor=\"middle\" x=\"166.75\" y=\"-510.7\" font-family=\"Helvetica,sans-Serif\" font-size=\"14.00\">value = [1, 7]</text>\n",
              "</g>\n",
              "<!-- 1&#45;&gt;3 -->\n",
              "<g id=\"edge3\" class=\"edge\">\n",
              "<title>1&#45;&gt;3</title>\n",
              "<path fill=\"none\" stroke=\"black\" d=\"M166.08,-608.6C166.15,-601.03 166.23,-592.87 166.31,-584.9\"/>\n",
              "<polygon fill=\"black\" stroke=\"black\" points=\"169.81,-585.02 166.41,-574.99 162.81,-584.95 169.81,-585.02\"/>\n",
              "</g>\n",
              "<!-- 4 -->\n",
              "<g id=\"node5\" class=\"node\">\n",
              "<title>4</title>\n",
              "<path fill=\"#e58139\" stroke=\"black\" d=\"M90.75,-461.5C90.75,-461.5 20.75,-461.5 20.75,-461.5 14.75,-461.5 8.75,-455.5 8.75,-449.5 8.75,-449.5 8.75,-420.5 8.75,-420.5 8.75,-414.5 14.75,-408.5 20.75,-408.5 20.75,-408.5 90.75,-408.5 90.75,-408.5 96.75,-408.5 102.75,-414.5 102.75,-420.5 102.75,-420.5 102.75,-449.5 102.75,-449.5 102.75,-455.5 96.75,-461.5 90.75,-461.5\"/>\n",
              "<text text-anchor=\"middle\" x=\"55.75\" y=\"-444.2\" font-family=\"Helvetica,sans-Serif\" font-size=\"14.00\">gini = 0.0</text>\n",
              "<text text-anchor=\"middle\" x=\"55.75\" y=\"-429.2\" font-family=\"Helvetica,sans-Serif\" font-size=\"14.00\">samples = 1</text>\n",
              "<text text-anchor=\"middle\" x=\"55.75\" y=\"-414.2\" font-family=\"Helvetica,sans-Serif\" font-size=\"14.00\">value = [1, 0]</text>\n",
              "</g>\n",
              "<!-- 3&#45;&gt;4 -->\n",
              "<g id=\"edge4\" class=\"edge\">\n",
              "<title>3&#45;&gt;4</title>\n",
              "<path fill=\"none\" stroke=\"black\" d=\"M130.4,-504.6C118.08,-493.27 104.31,-480.62 91.99,-469.3\"/>\n",
              "<polygon fill=\"black\" stroke=\"black\" points=\"94.57,-466.92 84.84,-462.73 89.83,-472.07 94.57,-466.92\"/>\n",
              "</g>\n",
              "<!-- 5 -->\n",
              "<g id=\"node6\" class=\"node\">\n",
              "<title>5</title>\n",
              "<path fill=\"#399de5\" stroke=\"black\" d=\"M202.75,-461.5C202.75,-461.5 132.75,-461.5 132.75,-461.5 126.75,-461.5 120.75,-455.5 120.75,-449.5 120.75,-449.5 120.75,-420.5 120.75,-420.5 120.75,-414.5 126.75,-408.5 132.75,-408.5 132.75,-408.5 202.75,-408.5 202.75,-408.5 208.75,-408.5 214.75,-414.5 214.75,-420.5 214.75,-420.5 214.75,-449.5 214.75,-449.5 214.75,-455.5 208.75,-461.5 202.75,-461.5\"/>\n",
              "<text text-anchor=\"middle\" x=\"167.75\" y=\"-444.2\" font-family=\"Helvetica,sans-Serif\" font-size=\"14.00\">gini = 0.0</text>\n",
              "<text text-anchor=\"middle\" x=\"167.75\" y=\"-429.2\" font-family=\"Helvetica,sans-Serif\" font-size=\"14.00\">samples = 7</text>\n",
              "<text text-anchor=\"middle\" x=\"167.75\" y=\"-414.2\" font-family=\"Helvetica,sans-Serif\" font-size=\"14.00\">value = [0, 7]</text>\n",
              "</g>\n",
              "<!-- 3&#45;&gt;5 -->\n",
              "<g id=\"edge5\" class=\"edge\">\n",
              "<title>3&#45;&gt;5</title>\n",
              "<path fill=\"none\" stroke=\"black\" d=\"M167.08,-504.6C167.18,-494.47 167.29,-483.28 167.39,-472.93\"/>\n",
              "<polygon fill=\"black\" stroke=\"black\" points=\"170.88,-473.25 167.48,-463.22 163.89,-473.18 170.88,-473.25\"/>\n",
              "</g>\n",
              "<!-- 7 -->\n",
              "<g id=\"node8\" class=\"node\">\n",
              "<title>7</title>\n",
              "<path fill=\"#eba069\" stroke=\"black\" d=\"M330.25,-573C330.25,-573 245.25,-573 245.25,-573 239.25,-573 233.25,-567 233.25,-561 233.25,-561 233.25,-517 233.25,-517 233.25,-511 239.25,-505 245.25,-505 245.25,-505 330.25,-505 330.25,-505 336.25,-505 342.25,-511 342.25,-517 342.25,-517 342.25,-561 342.25,-561 342.25,-567 336.25,-573 330.25,-573\"/>\n",
              "<text text-anchor=\"middle\" x=\"287.75\" y=\"-555.7\" font-family=\"Helvetica,sans-Serif\" font-size=\"14.00\">x[0] &lt;= &#45;0.379</text>\n",
              "<text text-anchor=\"middle\" x=\"287.75\" y=\"-540.7\" font-family=\"Helvetica,sans-Serif\" font-size=\"14.00\">gini = 0.316</text>\n",
              "<text text-anchor=\"middle\" x=\"287.75\" y=\"-525.7\" font-family=\"Helvetica,sans-Serif\" font-size=\"14.00\">samples = 61</text>\n",
              "<text text-anchor=\"middle\" x=\"287.75\" y=\"-510.7\" font-family=\"Helvetica,sans-Serif\" font-size=\"14.00\">value = [49, 12]</text>\n",
              "</g>\n",
              "<!-- 6&#45;&gt;7 -->\n",
              "<g id=\"edge7\" class=\"edge\">\n",
              "<title>6&#45;&gt;7</title>\n",
              "<path fill=\"none\" stroke=\"black\" d=\"M288.42,-608.6C288.35,-601.03 288.27,-592.87 288.19,-584.9\"/>\n",
              "<polygon fill=\"black\" stroke=\"black\" points=\"291.69,-584.95 288.09,-574.99 284.69,-585.02 291.69,-584.95\"/>\n",
              "</g>\n",
              "<!-- 24 -->\n",
              "<g id=\"node25\" class=\"node\">\n",
              "<title>24</title>\n",
              "<path fill=\"#399de5\" stroke=\"black\" d=\"M449.5,-565.5C449.5,-565.5 372,-565.5 372,-565.5 366,-565.5 360,-559.5 360,-553.5 360,-553.5 360,-524.5 360,-524.5 360,-518.5 366,-512.5 372,-512.5 372,-512.5 449.5,-512.5 449.5,-512.5 455.5,-512.5 461.5,-518.5 461.5,-524.5 461.5,-524.5 461.5,-553.5 461.5,-553.5 461.5,-559.5 455.5,-565.5 449.5,-565.5\"/>\n",
              "<text text-anchor=\"middle\" x=\"410.75\" y=\"-548.2\" font-family=\"Helvetica,sans-Serif\" font-size=\"14.00\">gini = 0.0</text>\n",
              "<text text-anchor=\"middle\" x=\"410.75\" y=\"-533.2\" font-family=\"Helvetica,sans-Serif\" font-size=\"14.00\">samples = 12</text>\n",
              "<text text-anchor=\"middle\" x=\"410.75\" y=\"-518.2\" font-family=\"Helvetica,sans-Serif\" font-size=\"14.00\">value = [0, 12]</text>\n",
              "</g>\n",
              "<!-- 6&#45;&gt;24 -->\n",
              "<g id=\"edge24\" class=\"edge\">\n",
              "<title>6&#45;&gt;24</title>\n",
              "<path fill=\"none\" stroke=\"black\" d=\"M328.7,-608.6C342.38,-597.16 357.67,-584.38 371.31,-572.97\"/>\n",
              "<polygon fill=\"black\" stroke=\"black\" points=\"373.42,-575.78 378.84,-566.68 368.93,-570.41 373.42,-575.78\"/>\n",
              "</g>\n",
              "<!-- 8 -->\n",
              "<g id=\"node9\" class=\"node\">\n",
              "<title>8</title>\n",
              "<path fill=\"#e58139\" stroke=\"black\" d=\"M325.5,-461.5C325.5,-461.5 248,-461.5 248,-461.5 242,-461.5 236,-455.5 236,-449.5 236,-449.5 236,-420.5 236,-420.5 236,-414.5 242,-408.5 248,-408.5 248,-408.5 325.5,-408.5 325.5,-408.5 331.5,-408.5 337.5,-414.5 337.5,-420.5 337.5,-420.5 337.5,-449.5 337.5,-449.5 337.5,-455.5 331.5,-461.5 325.5,-461.5\"/>\n",
              "<text text-anchor=\"middle\" x=\"286.75\" y=\"-444.2\" font-family=\"Helvetica,sans-Serif\" font-size=\"14.00\">gini = 0.0</text>\n",
              "<text text-anchor=\"middle\" x=\"286.75\" y=\"-429.2\" font-family=\"Helvetica,sans-Serif\" font-size=\"14.00\">samples = 22</text>\n",
              "<text text-anchor=\"middle\" x=\"286.75\" y=\"-414.2\" font-family=\"Helvetica,sans-Serif\" font-size=\"14.00\">value = [22, 0]</text>\n",
              "</g>\n",
              "<!-- 7&#45;&gt;8 -->\n",
              "<g id=\"edge8\" class=\"edge\">\n",
              "<title>7&#45;&gt;8</title>\n",
              "<path fill=\"none\" stroke=\"black\" d=\"M287.42,-504.6C287.32,-494.47 287.21,-483.28 287.11,-472.93\"/>\n",
              "<polygon fill=\"black\" stroke=\"black\" points=\"290.61,-473.18 287.02,-463.22 283.62,-473.25 290.61,-473.18\"/>\n",
              "</g>\n",
              "<!-- 9 -->\n",
              "<g id=\"node10\" class=\"node\">\n",
              "<title>9</title>\n",
              "<path fill=\"#f1b991\" stroke=\"black\" d=\"M452.25,-469C452.25,-469 367.25,-469 367.25,-469 361.25,-469 355.25,-463 355.25,-457 355.25,-457 355.25,-413 355.25,-413 355.25,-407 361.25,-401 367.25,-401 367.25,-401 452.25,-401 452.25,-401 458.25,-401 464.25,-407 464.25,-413 464.25,-413 464.25,-457 464.25,-457 464.25,-463 458.25,-469 452.25,-469\"/>\n",
              "<text text-anchor=\"middle\" x=\"409.75\" y=\"-451.7\" font-family=\"Helvetica,sans-Serif\" font-size=\"14.00\">x[0] &lt;= 0.466</text>\n",
              "<text text-anchor=\"middle\" x=\"409.75\" y=\"-436.7\" font-family=\"Helvetica,sans-Serif\" font-size=\"14.00\">gini = 0.426</text>\n",
              "<text text-anchor=\"middle\" x=\"409.75\" y=\"-421.7\" font-family=\"Helvetica,sans-Serif\" font-size=\"14.00\">samples = 39</text>\n",
              "<text text-anchor=\"middle\" x=\"409.75\" y=\"-406.7\" font-family=\"Helvetica,sans-Serif\" font-size=\"14.00\">value = [27, 12]</text>\n",
              "</g>\n",
              "<!-- 7&#45;&gt;9 -->\n",
              "<g id=\"edge9\" class=\"edge\">\n",
              "<title>7&#45;&gt;9</title>\n",
              "<path fill=\"none\" stroke=\"black\" d=\"M327.7,-504.6C338.34,-495.71 349.95,-486 361,-476.76\"/>\n",
              "<polygon fill=\"black\" stroke=\"black\" points=\"363.12,-479.54 368.55,-470.44 358.63,-474.17 363.12,-479.54\"/>\n",
              "</g>\n",
              "<!-- 10 -->\n",
              "<g id=\"node11\" class=\"node\">\n",
              "<title>10</title>\n",
              "<path fill=\"#ffffff\" stroke=\"black\" d=\"M391.25,-365C391.25,-365 306.25,-365 306.25,-365 300.25,-365 294.25,-359 294.25,-353 294.25,-353 294.25,-309 294.25,-309 294.25,-303 300.25,-297 306.25,-297 306.25,-297 391.25,-297 391.25,-297 397.25,-297 403.25,-303 403.25,-309 403.25,-309 403.25,-353 403.25,-353 403.25,-359 397.25,-365 391.25,-365\"/>\n",
              "<text text-anchor=\"middle\" x=\"348.75\" y=\"-347.7\" font-family=\"Helvetica,sans-Serif\" font-size=\"14.00\">x[1] &lt;= 0.769</text>\n",
              "<text text-anchor=\"middle\" x=\"348.75\" y=\"-332.7\" font-family=\"Helvetica,sans-Serif\" font-size=\"14.00\">gini = 0.5</text>\n",
              "<text text-anchor=\"middle\" x=\"348.75\" y=\"-317.7\" font-family=\"Helvetica,sans-Serif\" font-size=\"14.00\">samples = 20</text>\n",
              "<text text-anchor=\"middle\" x=\"348.75\" y=\"-302.7\" font-family=\"Helvetica,sans-Serif\" font-size=\"14.00\">value = [10, 10]</text>\n",
              "</g>\n",
              "<!-- 9&#45;&gt;10 -->\n",
              "<g id=\"edge10\" class=\"edge\">\n",
              "<title>9&#45;&gt;10</title>\n",
              "<path fill=\"none\" stroke=\"black\" d=\"M389.78,-400.6C384.93,-392.5 379.68,-383.72 374.61,-375.24\"/>\n",
              "<polygon fill=\"black\" stroke=\"black\" points=\"377.68,-373.56 369.55,-366.77 371.67,-377.15 377.68,-373.56\"/>\n",
              "</g>\n",
              "<!-- 17 -->\n",
              "<g id=\"node18\" class=\"node\">\n",
              "<title>17</title>\n",
              "<path fill=\"#e89050\" stroke=\"black\" d=\"M510.5,-365C510.5,-365 433,-365 433,-365 427,-365 421,-359 421,-353 421,-353 421,-309 421,-309 421,-303 427,-297 433,-297 433,-297 510.5,-297 510.5,-297 516.5,-297 522.5,-303 522.5,-309 522.5,-309 522.5,-353 522.5,-353 522.5,-359 516.5,-365 510.5,-365\"/>\n",
              "<text text-anchor=\"middle\" x=\"471.75\" y=\"-347.7\" font-family=\"Helvetica,sans-Serif\" font-size=\"14.00\">x[1] &lt;= 0.054</text>\n",
              "<text text-anchor=\"middle\" x=\"471.75\" y=\"-332.7\" font-family=\"Helvetica,sans-Serif\" font-size=\"14.00\">gini = 0.188</text>\n",
              "<text text-anchor=\"middle\" x=\"471.75\" y=\"-317.7\" font-family=\"Helvetica,sans-Serif\" font-size=\"14.00\">samples = 19</text>\n",
              "<text text-anchor=\"middle\" x=\"471.75\" y=\"-302.7\" font-family=\"Helvetica,sans-Serif\" font-size=\"14.00\">value = [17, 2]</text>\n",
              "</g>\n",
              "<!-- 9&#45;&gt;17 -->\n",
              "<g id=\"edge17\" class=\"edge\">\n",
              "<title>9&#45;&gt;17</title>\n",
              "<path fill=\"none\" stroke=\"black\" d=\"M430.05,-400.6C434.98,-392.5 440.31,-383.72 445.47,-375.24\"/>\n",
              "<polygon fill=\"black\" stroke=\"black\" points=\"448.41,-377.13 450.62,-366.77 442.43,-373.49 448.41,-377.13\"/>\n",
              "</g>\n",
              "<!-- 11 -->\n",
              "<g id=\"node12\" class=\"node\">\n",
              "<title>11</title>\n",
              "<path fill=\"#399de5\" stroke=\"black\" d=\"M269.75,-253.5C269.75,-253.5 199.75,-253.5 199.75,-253.5 193.75,-253.5 187.75,-247.5 187.75,-241.5 187.75,-241.5 187.75,-212.5 187.75,-212.5 187.75,-206.5 193.75,-200.5 199.75,-200.5 199.75,-200.5 269.75,-200.5 269.75,-200.5 275.75,-200.5 281.75,-206.5 281.75,-212.5 281.75,-212.5 281.75,-241.5 281.75,-241.5 281.75,-247.5 275.75,-253.5 269.75,-253.5\"/>\n",
              "<text text-anchor=\"middle\" x=\"234.75\" y=\"-236.2\" font-family=\"Helvetica,sans-Serif\" font-size=\"14.00\">gini = 0.0</text>\n",
              "<text text-anchor=\"middle\" x=\"234.75\" y=\"-221.2\" font-family=\"Helvetica,sans-Serif\" font-size=\"14.00\">samples = 9</text>\n",
              "<text text-anchor=\"middle\" x=\"234.75\" y=\"-206.2\" font-family=\"Helvetica,sans-Serif\" font-size=\"14.00\">value = [0, 9]</text>\n",
              "</g>\n",
              "<!-- 10&#45;&gt;11 -->\n",
              "<g id=\"edge11\" class=\"edge\">\n",
              "<title>10&#45;&gt;11</title>\n",
              "<path fill=\"none\" stroke=\"black\" d=\"M311.42,-296.6C298.76,-285.27 284.62,-272.62 271.97,-261.3\"/>\n",
              "<polygon fill=\"black\" stroke=\"black\" points=\"274.39,-258.77 264.61,-254.72 269.73,-263.99 274.39,-258.77\"/>\n",
              "</g>\n",
              "<!-- 12 -->\n",
              "<g id=\"node13\" class=\"node\">\n",
              "<title>12</title>\n",
              "<path fill=\"#e88e4d\" stroke=\"black\" d=\"M389.5,-261C389.5,-261 312,-261 312,-261 306,-261 300,-255 300,-249 300,-249 300,-205 300,-205 300,-199 306,-193 312,-193 312,-193 389.5,-193 389.5,-193 395.5,-193 401.5,-199 401.5,-205 401.5,-205 401.5,-249 401.5,-249 401.5,-255 395.5,-261 389.5,-261\"/>\n",
              "<text text-anchor=\"middle\" x=\"350.75\" y=\"-243.7\" font-family=\"Helvetica,sans-Serif\" font-size=\"14.00\">x[0] &lt;= &#45;0.163</text>\n",
              "<text text-anchor=\"middle\" x=\"350.75\" y=\"-228.7\" font-family=\"Helvetica,sans-Serif\" font-size=\"14.00\">gini = 0.165</text>\n",
              "<text text-anchor=\"middle\" x=\"350.75\" y=\"-213.7\" font-family=\"Helvetica,sans-Serif\" font-size=\"14.00\">samples = 11</text>\n",
              "<text text-anchor=\"middle\" x=\"350.75\" y=\"-198.7\" font-family=\"Helvetica,sans-Serif\" font-size=\"14.00\">value = [10, 1]</text>\n",
              "</g>\n",
              "<!-- 10&#45;&gt;12 -->\n",
              "<g id=\"edge12\" class=\"edge\">\n",
              "<title>10&#45;&gt;12</title>\n",
              "<path fill=\"none\" stroke=\"black\" d=\"M349.4,-296.6C349.55,-289.03 349.71,-280.87 349.87,-272.9\"/>\n",
              "<polygon fill=\"black\" stroke=\"black\" points=\"353.37,-273.05 350.06,-262.99 346.37,-272.92 353.37,-273.05\"/>\n",
              "</g>\n",
              "<!-- 13 -->\n",
              "<g id=\"node14\" class=\"node\">\n",
              "<title>13</title>\n",
              "<path fill=\"#eeab7b\" stroke=\"black\" d=\"M335.75,-157C335.75,-157 259.75,-157 259.75,-157 253.75,-157 247.75,-151 247.75,-145 247.75,-145 247.75,-101 247.75,-101 247.75,-95 253.75,-89 259.75,-89 259.75,-89 335.75,-89 335.75,-89 341.75,-89 347.75,-95 347.75,-101 347.75,-101 347.75,-145 347.75,-145 347.75,-151 341.75,-157 335.75,-157\"/>\n",
              "<text text-anchor=\"middle\" x=\"297.75\" y=\"-139.7\" font-family=\"Helvetica,sans-Serif\" font-size=\"14.00\">x[0] &lt;= &#45;0.191</text>\n",
              "<text text-anchor=\"middle\" x=\"297.75\" y=\"-124.7\" font-family=\"Helvetica,sans-Serif\" font-size=\"14.00\">gini = 0.375</text>\n",
              "<text text-anchor=\"middle\" x=\"297.75\" y=\"-109.7\" font-family=\"Helvetica,sans-Serif\" font-size=\"14.00\">samples = 4</text>\n",
              "<text text-anchor=\"middle\" x=\"297.75\" y=\"-94.7\" font-family=\"Helvetica,sans-Serif\" font-size=\"14.00\">value = [3, 1]</text>\n",
              "</g>\n",
              "<!-- 12&#45;&gt;13 -->\n",
              "<g id=\"edge13\" class=\"edge\">\n",
              "<title>12&#45;&gt;13</title>\n",
              "<path fill=\"none\" stroke=\"black\" d=\"M333.4,-192.6C329.23,-184.59 324.72,-175.91 320.36,-167.52\"/>\n",
              "<polygon fill=\"black\" stroke=\"black\" points=\"323.56,-166.08 315.84,-158.82 317.35,-169.3 323.56,-166.08\"/>\n",
              "</g>\n",
              "<!-- 16 -->\n",
              "<g id=\"node17\" class=\"node\">\n",
              "<title>16</title>\n",
              "<path fill=\"#e58139\" stroke=\"black\" d=\"M447.75,-149.5C447.75,-149.5 377.75,-149.5 377.75,-149.5 371.75,-149.5 365.75,-143.5 365.75,-137.5 365.75,-137.5 365.75,-108.5 365.75,-108.5 365.75,-102.5 371.75,-96.5 377.75,-96.5 377.75,-96.5 447.75,-96.5 447.75,-96.5 453.75,-96.5 459.75,-102.5 459.75,-108.5 459.75,-108.5 459.75,-137.5 459.75,-137.5 459.75,-143.5 453.75,-149.5 447.75,-149.5\"/>\n",
              "<text text-anchor=\"middle\" x=\"412.75\" y=\"-132.2\" font-family=\"Helvetica,sans-Serif\" font-size=\"14.00\">gini = 0.0</text>\n",
              "<text text-anchor=\"middle\" x=\"412.75\" y=\"-117.2\" font-family=\"Helvetica,sans-Serif\" font-size=\"14.00\">samples = 7</text>\n",
              "<text text-anchor=\"middle\" x=\"412.75\" y=\"-102.2\" font-family=\"Helvetica,sans-Serif\" font-size=\"14.00\">value = [7, 0]</text>\n",
              "</g>\n",
              "<!-- 12&#45;&gt;16 -->\n",
              "<g id=\"edge16\" class=\"edge\">\n",
              "<title>12&#45;&gt;16</title>\n",
              "<path fill=\"none\" stroke=\"black\" d=\"M371.05,-192.6C377.54,-181.93 384.74,-170.08 391.31,-159.27\"/>\n",
              "<polygon fill=\"black\" stroke=\"black\" points=\"394.14,-161.36 396.34,-151 388.15,-157.73 394.14,-161.36\"/>\n",
              "</g>\n",
              "<!-- 14 -->\n",
              "<g id=\"node15\" class=\"node\">\n",
              "<title>14</title>\n",
              "<path fill=\"#e58139\" stroke=\"black\" d=\"M276.75,-53C276.75,-53 206.75,-53 206.75,-53 200.75,-53 194.75,-47 194.75,-41 194.75,-41 194.75,-12 194.75,-12 194.75,-6 200.75,0 206.75,0 206.75,0 276.75,0 276.75,0 282.75,0 288.75,-6 288.75,-12 288.75,-12 288.75,-41 288.75,-41 288.75,-47 282.75,-53 276.75,-53\"/>\n",
              "<text text-anchor=\"middle\" x=\"241.75\" y=\"-35.7\" font-family=\"Helvetica,sans-Serif\" font-size=\"14.00\">gini = 0.0</text>\n",
              "<text text-anchor=\"middle\" x=\"241.75\" y=\"-20.7\" font-family=\"Helvetica,sans-Serif\" font-size=\"14.00\">samples = 3</text>\n",
              "<text text-anchor=\"middle\" x=\"241.75\" y=\"-5.7\" font-family=\"Helvetica,sans-Serif\" font-size=\"14.00\">value = [3, 0]</text>\n",
              "</g>\n",
              "<!-- 13&#45;&gt;14 -->\n",
              "<g id=\"edge14\" class=\"edge\">\n",
              "<title>13&#45;&gt;14</title>\n",
              "<path fill=\"none\" stroke=\"black\" d=\"M278.01,-88.68C273.13,-80.45 267.88,-71.59 262.93,-63.25\"/>\n",
              "<polygon fill=\"black\" stroke=\"black\" points=\"265.98,-61.51 257.87,-54.7 259.95,-65.08 265.98,-61.51\"/>\n",
              "</g>\n",
              "<!-- 15 -->\n",
              "<g id=\"node16\" class=\"node\">\n",
              "<title>15</title>\n",
              "<path fill=\"#399de5\" stroke=\"black\" d=\"M388.75,-53C388.75,-53 318.75,-53 318.75,-53 312.75,-53 306.75,-47 306.75,-41 306.75,-41 306.75,-12 306.75,-12 306.75,-6 312.75,0 318.75,0 318.75,0 388.75,0 388.75,0 394.75,0 400.75,-6 400.75,-12 400.75,-12 400.75,-41 400.75,-41 400.75,-47 394.75,-53 388.75,-53\"/>\n",
              "<text text-anchor=\"middle\" x=\"353.75\" y=\"-35.7\" font-family=\"Helvetica,sans-Serif\" font-size=\"14.00\">gini = 0.0</text>\n",
              "<text text-anchor=\"middle\" x=\"353.75\" y=\"-20.7\" font-family=\"Helvetica,sans-Serif\" font-size=\"14.00\">samples = 1</text>\n",
              "<text text-anchor=\"middle\" x=\"353.75\" y=\"-5.7\" font-family=\"Helvetica,sans-Serif\" font-size=\"14.00\">value = [0, 1]</text>\n",
              "</g>\n",
              "<!-- 13&#45;&gt;15 -->\n",
              "<g id=\"edge15\" class=\"edge\">\n",
              "<title>13&#45;&gt;15</title>\n",
              "<path fill=\"none\" stroke=\"black\" d=\"M317.49,-88.68C322.37,-80.45 327.62,-71.59 332.57,-63.25\"/>\n",
              "<polygon fill=\"black\" stroke=\"black\" points=\"335.55,-65.08 337.63,-54.7 329.52,-61.51 335.55,-65.08\"/>\n",
              "</g>\n",
              "<!-- 18 -->\n",
              "<g id=\"node19\" class=\"node\">\n",
              "<title>18</title>\n",
              "<path fill=\"#399de5\" stroke=\"black\" d=\"M504.75,-253.5C504.75,-253.5 434.75,-253.5 434.75,-253.5 428.75,-253.5 422.75,-247.5 422.75,-241.5 422.75,-241.5 422.75,-212.5 422.75,-212.5 422.75,-206.5 428.75,-200.5 434.75,-200.5 434.75,-200.5 504.75,-200.5 504.75,-200.5 510.75,-200.5 516.75,-206.5 516.75,-212.5 516.75,-212.5 516.75,-241.5 516.75,-241.5 516.75,-247.5 510.75,-253.5 504.75,-253.5\"/>\n",
              "<text text-anchor=\"middle\" x=\"469.75\" y=\"-236.2\" font-family=\"Helvetica,sans-Serif\" font-size=\"14.00\">gini = 0.0</text>\n",
              "<text text-anchor=\"middle\" x=\"469.75\" y=\"-221.2\" font-family=\"Helvetica,sans-Serif\" font-size=\"14.00\">samples = 1</text>\n",
              "<text text-anchor=\"middle\" x=\"469.75\" y=\"-206.2\" font-family=\"Helvetica,sans-Serif\" font-size=\"14.00\">value = [0, 1]</text>\n",
              "</g>\n",
              "<!-- 17&#45;&gt;18 -->\n",
              "<g id=\"edge18\" class=\"edge\">\n",
              "<title>17&#45;&gt;18</title>\n",
              "<path fill=\"none\" stroke=\"black\" d=\"M471.1,-296.6C470.9,-286.47 470.68,-275.28 470.47,-264.93\"/>\n",
              "<polygon fill=\"black\" stroke=\"black\" points=\"473.98,-265.15 470.28,-255.22 466.98,-265.29 473.98,-265.15\"/>\n",
              "</g>\n",
              "<!-- 19 -->\n",
              "<g id=\"node20\" class=\"node\">\n",
              "<title>19</title>\n",
              "<path fill=\"#e78845\" stroke=\"black\" d=\"M624.5,-261C624.5,-261 547,-261 547,-261 541,-261 535,-255 535,-249 535,-249 535,-205 535,-205 535,-199 541,-193 547,-193 547,-193 624.5,-193 624.5,-193 630.5,-193 636.5,-199 636.5,-205 636.5,-205 636.5,-249 636.5,-249 636.5,-255 630.5,-261 624.5,-261\"/>\n",
              "<text text-anchor=\"middle\" x=\"585.75\" y=\"-243.7\" font-family=\"Helvetica,sans-Serif\" font-size=\"14.00\">x[0] &lt;= 0.639</text>\n",
              "<text text-anchor=\"middle\" x=\"585.75\" y=\"-228.7\" font-family=\"Helvetica,sans-Serif\" font-size=\"14.00\">gini = 0.105</text>\n",
              "<text text-anchor=\"middle\" x=\"585.75\" y=\"-213.7\" font-family=\"Helvetica,sans-Serif\" font-size=\"14.00\">samples = 18</text>\n",
              "<text text-anchor=\"middle\" x=\"585.75\" y=\"-198.7\" font-family=\"Helvetica,sans-Serif\" font-size=\"14.00\">value = [17, 1]</text>\n",
              "</g>\n",
              "<!-- 17&#45;&gt;19 -->\n",
              "<g id=\"edge19\" class=\"edge\">\n",
              "<title>17&#45;&gt;19</title>\n",
              "<path fill=\"none\" stroke=\"black\" d=\"M509.08,-296.6C518.92,-287.8 529.65,-278.19 539.89,-269.03\"/>\n",
              "<polygon fill=\"black\" stroke=\"black\" points=\"542.09,-271.76 547.21,-262.48 537.42,-266.54 542.09,-271.76\"/>\n",
              "</g>\n",
              "<!-- 20 -->\n",
              "<g id=\"node21\" class=\"node\">\n",
              "<title>20</title>\n",
              "<path fill=\"#e58139\" stroke=\"black\" d=\"M561.75,-149.5C561.75,-149.5 491.75,-149.5 491.75,-149.5 485.75,-149.5 479.75,-143.5 479.75,-137.5 479.75,-137.5 479.75,-108.5 479.75,-108.5 479.75,-102.5 485.75,-96.5 491.75,-96.5 491.75,-96.5 561.75,-96.5 561.75,-96.5 567.75,-96.5 573.75,-102.5 573.75,-108.5 573.75,-108.5 573.75,-137.5 573.75,-137.5 573.75,-143.5 567.75,-149.5 561.75,-149.5\"/>\n",
              "<text text-anchor=\"middle\" x=\"526.75\" y=\"-132.2\" font-family=\"Helvetica,sans-Serif\" font-size=\"14.00\">gini = 0.0</text>\n",
              "<text text-anchor=\"middle\" x=\"526.75\" y=\"-117.2\" font-family=\"Helvetica,sans-Serif\" font-size=\"14.00\">samples = 9</text>\n",
              "<text text-anchor=\"middle\" x=\"526.75\" y=\"-102.2\" font-family=\"Helvetica,sans-Serif\" font-size=\"14.00\">value = [9, 0]</text>\n",
              "</g>\n",
              "<!-- 19&#45;&gt;20 -->\n",
              "<g id=\"edge20\" class=\"edge\">\n",
              "<title>19&#45;&gt;20</title>\n",
              "<path fill=\"none\" stroke=\"black\" d=\"M566.43,-192.6C560.32,-182.03 553.54,-170.32 547.34,-159.6\"/>\n",
              "<polygon fill=\"black\" stroke=\"black\" points=\"550.41,-157.92 542.38,-151.02 544.35,-161.42 550.41,-157.92\"/>\n",
              "</g>\n",
              "<!-- 21 -->\n",
              "<g id=\"node22\" class=\"node\">\n",
              "<title>21</title>\n",
              "<path fill=\"#e89152\" stroke=\"black\" d=\"M675.5,-157C675.5,-157 604,-157 604,-157 598,-157 592,-151 592,-145 592,-145 592,-101 592,-101 592,-95 598,-89 604,-89 604,-89 675.5,-89 675.5,-89 681.5,-89 687.5,-95 687.5,-101 687.5,-101 687.5,-145 687.5,-145 687.5,-151 681.5,-157 675.5,-157\"/>\n",
              "<text text-anchor=\"middle\" x=\"639.75\" y=\"-139.7\" font-family=\"Helvetica,sans-Serif\" font-size=\"14.00\">x[0] &lt;= 0.701</text>\n",
              "<text text-anchor=\"middle\" x=\"639.75\" y=\"-124.7\" font-family=\"Helvetica,sans-Serif\" font-size=\"14.00\">gini = 0.198</text>\n",
              "<text text-anchor=\"middle\" x=\"639.75\" y=\"-109.7\" font-family=\"Helvetica,sans-Serif\" font-size=\"14.00\">samples = 9</text>\n",
              "<text text-anchor=\"middle\" x=\"639.75\" y=\"-94.7\" font-family=\"Helvetica,sans-Serif\" font-size=\"14.00\">value = [8, 1]</text>\n",
              "</g>\n",
              "<!-- 19&#45;&gt;21 -->\n",
              "<g id=\"edge21\" class=\"edge\">\n",
              "<title>19&#45;&gt;21</title>\n",
              "<path fill=\"none\" stroke=\"black\" d=\"M603.43,-192.6C607.67,-184.59 612.27,-175.91 616.71,-167.52\"/>\n",
              "<polygon fill=\"black\" stroke=\"black\" points=\"619.73,-169.29 621.32,-158.81 613.55,-166.01 619.73,-169.29\"/>\n",
              "</g>\n",
              "<!-- 22 -->\n",
              "<g id=\"node23\" class=\"node\">\n",
              "<title>22</title>\n",
              "<path fill=\"#399de5\" stroke=\"black\" d=\"M618.75,-53C618.75,-53 548.75,-53 548.75,-53 542.75,-53 536.75,-47 536.75,-41 536.75,-41 536.75,-12 536.75,-12 536.75,-6 542.75,0 548.75,0 548.75,0 618.75,0 618.75,0 624.75,0 630.75,-6 630.75,-12 630.75,-12 630.75,-41 630.75,-41 630.75,-47 624.75,-53 618.75,-53\"/>\n",
              "<text text-anchor=\"middle\" x=\"583.75\" y=\"-35.7\" font-family=\"Helvetica,sans-Serif\" font-size=\"14.00\">gini = 0.0</text>\n",
              "<text text-anchor=\"middle\" x=\"583.75\" y=\"-20.7\" font-family=\"Helvetica,sans-Serif\" font-size=\"14.00\">samples = 1</text>\n",
              "<text text-anchor=\"middle\" x=\"583.75\" y=\"-5.7\" font-family=\"Helvetica,sans-Serif\" font-size=\"14.00\">value = [0, 1]</text>\n",
              "</g>\n",
              "<!-- 21&#45;&gt;22 -->\n",
              "<g id=\"edge22\" class=\"edge\">\n",
              "<title>21&#45;&gt;22</title>\n",
              "<path fill=\"none\" stroke=\"black\" d=\"M620.01,-88.68C615.13,-80.45 609.88,-71.59 604.93,-63.25\"/>\n",
              "<polygon fill=\"black\" stroke=\"black\" points=\"607.98,-61.51 599.87,-54.7 601.95,-65.08 607.98,-61.51\"/>\n",
              "</g>\n",
              "<!-- 23 -->\n",
              "<g id=\"node24\" class=\"node\">\n",
              "<title>23</title>\n",
              "<path fill=\"#e58139\" stroke=\"black\" d=\"M730.75,-53C730.75,-53 660.75,-53 660.75,-53 654.75,-53 648.75,-47 648.75,-41 648.75,-41 648.75,-12 648.75,-12 648.75,-6 654.75,0 660.75,0 660.75,0 730.75,0 730.75,0 736.75,0 742.75,-6 742.75,-12 742.75,-12 742.75,-41 742.75,-41 742.75,-47 736.75,-53 730.75,-53\"/>\n",
              "<text text-anchor=\"middle\" x=\"695.75\" y=\"-35.7\" font-family=\"Helvetica,sans-Serif\" font-size=\"14.00\">gini = 0.0</text>\n",
              "<text text-anchor=\"middle\" x=\"695.75\" y=\"-20.7\" font-family=\"Helvetica,sans-Serif\" font-size=\"14.00\">samples = 8</text>\n",
              "<text text-anchor=\"middle\" x=\"695.75\" y=\"-5.7\" font-family=\"Helvetica,sans-Serif\" font-size=\"14.00\">value = [8, 0]</text>\n",
              "</g>\n",
              "<!-- 21&#45;&gt;23 -->\n",
              "<g id=\"edge23\" class=\"edge\">\n",
              "<title>21&#45;&gt;23</title>\n",
              "<path fill=\"none\" stroke=\"black\" d=\"M659.49,-88.68C664.37,-80.45 669.62,-71.59 674.57,-63.25\"/>\n",
              "<polygon fill=\"black\" stroke=\"black\" points=\"677.55,-65.08 679.63,-54.7 671.52,-61.51 677.55,-65.08\"/>\n",
              "</g>\n",
              "</g>\n",
              "</svg>\n"
            ],
            "text/plain": [
              "<graphviz.sources.Source at 0x2967ea590>"
            ]
          },
          "execution_count": 119,
          "metadata": {},
          "output_type": "execute_result"
        }
      ],
      "source": [
        "dot_data2 = export_graphviz(\n",
        "    deep_tree_clf1,\n",
        "    # feature_names = iris.feature_names[2:],\n",
        "    # class_names = iris.target_names,\n",
        "    rounded=True,\n",
        "    filled=True # 색 칠해줌\n",
        ")\n",
        "\n",
        "graphviz.Source(dot_data2)"
      ]
    },
    {
      "cell_type": "code",
      "execution_count": 120,
      "metadata": {
        "colab": {
          "base_uri": "https://localhost:8080/"
        },
        "id": "CrwMzoDao6nQ",
        "outputId": "37232792-4b88-4641-e41e-105a177d43d6"
      },
      "outputs": [
        {
          "data": {
            "image/svg+xml": [
              "<?xml version=\"1.0\" encoding=\"UTF-8\" standalone=\"no\"?>\n",
              "<!DOCTYPE svg PUBLIC \"-//W3C//DTD SVG 1.1//EN\"\n",
              " \"http://www.w3.org/Graphics/SVG/1.1/DTD/svg11.dtd\">\n",
              "<!-- Generated by graphviz version 9.0.0 (20230911.1827)\n",
              " -->\n",
              "<!-- Title: Tree Pages: 1 -->\n",
              "<svg width=\"696pt\" height=\"685pt\"\n",
              " viewBox=\"0.00 0.00 695.75 685.00\" xmlns=\"http://www.w3.org/2000/svg\" xmlns:xlink=\"http://www.w3.org/1999/xlink\">\n",
              "<g id=\"graph0\" class=\"graph\" transform=\"scale(1 1) rotate(0) translate(4 681)\">\n",
              "<title>Tree</title>\n",
              "<polygon fill=\"white\" stroke=\"none\" points=\"-4,4 -4,-681 691.75,-681 691.75,4 -4,4\"/>\n",
              "<!-- 0 -->\n",
              "<g id=\"node1\" class=\"node\">\n",
              "<title>0</title>\n",
              "<path fill=\"#ffffff\" stroke=\"black\" d=\"M273.25,-677C273.25,-677 188.25,-677 188.25,-677 182.25,-677 176.25,-671 176.25,-665 176.25,-665 176.25,-621 176.25,-621 176.25,-615 182.25,-609 188.25,-609 188.25,-609 273.25,-609 273.25,-609 279.25,-609 285.25,-615 285.25,-621 285.25,-621 285.25,-665 285.25,-665 285.25,-671 279.25,-677 273.25,-677\"/>\n",
              "<text text-anchor=\"middle\" x=\"230.75\" y=\"-659.7\" font-family=\"Helvetica,sans-Serif\" font-size=\"14.00\">x[1] &lt;= &#45;0.092</text>\n",
              "<text text-anchor=\"middle\" x=\"230.75\" y=\"-644.7\" font-family=\"Helvetica,sans-Serif\" font-size=\"14.00\">gini = 0.5</text>\n",
              "<text text-anchor=\"middle\" x=\"230.75\" y=\"-629.7\" font-family=\"Helvetica,sans-Serif\" font-size=\"14.00\">samples = 100</text>\n",
              "<text text-anchor=\"middle\" x=\"230.75\" y=\"-614.7\" font-family=\"Helvetica,sans-Serif\" font-size=\"14.00\">value = [50, 50]</text>\n",
              "</g>\n",
              "<!-- 1 -->\n",
              "<g id=\"node2\" class=\"node\">\n",
              "<title>1</title>\n",
              "<path fill=\"#41a1e6\" stroke=\"black\" d=\"M208.5,-573C208.5,-573 131,-573 131,-573 125,-573 119,-567 119,-561 119,-561 119,-517 119,-517 119,-511 125,-505 131,-505 131,-505 208.5,-505 208.5,-505 214.5,-505 220.5,-511 220.5,-517 220.5,-517 220.5,-561 220.5,-561 220.5,-567 214.5,-573 208.5,-573\"/>\n",
              "<text text-anchor=\"middle\" x=\"169.75\" y=\"-555.7\" font-family=\"Helvetica,sans-Serif\" font-size=\"14.00\">x[0] &lt;= 1.195</text>\n",
              "<text text-anchor=\"middle\" x=\"169.75\" y=\"-540.7\" font-family=\"Helvetica,sans-Serif\" font-size=\"14.00\">gini = 0.071</text>\n",
              "<text text-anchor=\"middle\" x=\"169.75\" y=\"-525.7\" font-family=\"Helvetica,sans-Serif\" font-size=\"14.00\">samples = 27</text>\n",
              "<text text-anchor=\"middle\" x=\"169.75\" y=\"-510.7\" font-family=\"Helvetica,sans-Serif\" font-size=\"14.00\">value = [1, 26]</text>\n",
              "</g>\n",
              "<!-- 0&#45;&gt;1 -->\n",
              "<g id=\"edge1\" class=\"edge\">\n",
              "<title>0&#45;&gt;1</title>\n",
              "<path fill=\"none\" stroke=\"black\" d=\"M210.78,-608.6C205.93,-600.5 200.68,-591.72 195.61,-583.24\"/>\n",
              "<polygon fill=\"black\" stroke=\"black\" points=\"198.68,-581.56 190.55,-574.77 192.67,-585.15 198.68,-581.56\"/>\n",
              "<text text-anchor=\"middle\" x=\"183.67\" y=\"-591.92\" font-family=\"Helvetica,sans-Serif\" font-size=\"14.00\">True</text>\n",
              "</g>\n",
              "<!-- 6 -->\n",
              "<g id=\"node7\" class=\"node\">\n",
              "<title>6</title>\n",
              "<path fill=\"#f2bf9a\" stroke=\"black\" d=\"M335.25,-573C335.25,-573 250.25,-573 250.25,-573 244.25,-573 238.25,-567 238.25,-561 238.25,-561 238.25,-517 238.25,-517 238.25,-511 244.25,-505 250.25,-505 250.25,-505 335.25,-505 335.25,-505 341.25,-505 347.25,-511 347.25,-517 347.25,-517 347.25,-561 347.25,-561 347.25,-567 341.25,-573 335.25,-573\"/>\n",
              "<text text-anchor=\"middle\" x=\"292.75\" y=\"-555.7\" font-family=\"Helvetica,sans-Serif\" font-size=\"14.00\">x[0] &lt;= 1.36</text>\n",
              "<text text-anchor=\"middle\" x=\"292.75\" y=\"-540.7\" font-family=\"Helvetica,sans-Serif\" font-size=\"14.00\">gini = 0.441</text>\n",
              "<text text-anchor=\"middle\" x=\"292.75\" y=\"-525.7\" font-family=\"Helvetica,sans-Serif\" font-size=\"14.00\">samples = 73</text>\n",
              "<text text-anchor=\"middle\" x=\"292.75\" y=\"-510.7\" font-family=\"Helvetica,sans-Serif\" font-size=\"14.00\">value = [49, 24]</text>\n",
              "</g>\n",
              "<!-- 0&#45;&gt;6 -->\n",
              "<g id=\"edge6\" class=\"edge\">\n",
              "<title>0&#45;&gt;6</title>\n",
              "<path fill=\"none\" stroke=\"black\" d=\"M251.05,-608.6C255.98,-600.5 261.31,-591.72 266.47,-583.24\"/>\n",
              "<polygon fill=\"black\" stroke=\"black\" points=\"269.41,-585.13 271.62,-574.77 263.43,-581.49 269.41,-585.13\"/>\n",
              "<text text-anchor=\"middle\" x=\"278.33\" y=\"-591.96\" font-family=\"Helvetica,sans-Serif\" font-size=\"14.00\">False</text>\n",
              "</g>\n",
              "<!-- 2 -->\n",
              "<g id=\"node3\" class=\"node\">\n",
              "<title>2</title>\n",
              "<path fill=\"#399de5\" stroke=\"black\" d=\"M89.5,-461.5C89.5,-461.5 12,-461.5 12,-461.5 6,-461.5 0,-455.5 0,-449.5 0,-449.5 0,-420.5 0,-420.5 0,-414.5 6,-408.5 12,-408.5 12,-408.5 89.5,-408.5 89.5,-408.5 95.5,-408.5 101.5,-414.5 101.5,-420.5 101.5,-420.5 101.5,-449.5 101.5,-449.5 101.5,-455.5 95.5,-461.5 89.5,-461.5\"/>\n",
              "<text text-anchor=\"middle\" x=\"50.75\" y=\"-444.2\" font-family=\"Helvetica,sans-Serif\" font-size=\"14.00\">gini = 0.0</text>\n",
              "<text text-anchor=\"middle\" x=\"50.75\" y=\"-429.2\" font-family=\"Helvetica,sans-Serif\" font-size=\"14.00\">samples = 19</text>\n",
              "<text text-anchor=\"middle\" x=\"50.75\" y=\"-414.2\" font-family=\"Helvetica,sans-Serif\" font-size=\"14.00\">value = [0, 19]</text>\n",
              "</g>\n",
              "<!-- 1&#45;&gt;2 -->\n",
              "<g id=\"edge2\" class=\"edge\">\n",
              "<title>1&#45;&gt;2</title>\n",
              "<path fill=\"none\" stroke=\"black\" d=\"M130.78,-504.6C117.44,-493.16 102.52,-480.38 89.22,-468.97\"/>\n",
              "<polygon fill=\"black\" stroke=\"black\" points=\"91.76,-466.54 81.89,-462.69 87.2,-471.86 91.76,-466.54\"/>\n",
              "</g>\n",
              "<!-- 3 -->\n",
              "<g id=\"node4\" class=\"node\">\n",
              "<title>3</title>\n",
              "<path fill=\"#55abe9\" stroke=\"black\" d=\"M207.75,-469C207.75,-469 131.75,-469 131.75,-469 125.75,-469 119.75,-463 119.75,-457 119.75,-457 119.75,-413 119.75,-413 119.75,-407 125.75,-401 131.75,-401 131.75,-401 207.75,-401 207.75,-401 213.75,-401 219.75,-407 219.75,-413 219.75,-413 219.75,-457 219.75,-457 219.75,-463 213.75,-469 207.75,-469\"/>\n",
              "<text text-anchor=\"middle\" x=\"169.75\" y=\"-451.7\" font-family=\"Helvetica,sans-Serif\" font-size=\"14.00\">x[1] &lt;= &#45;0.294</text>\n",
              "<text text-anchor=\"middle\" x=\"169.75\" y=\"-436.7\" font-family=\"Helvetica,sans-Serif\" font-size=\"14.00\">gini = 0.219</text>\n",
              "<text text-anchor=\"middle\" x=\"169.75\" y=\"-421.7\" font-family=\"Helvetica,sans-Serif\" font-size=\"14.00\">samples = 8</text>\n",
              "<text text-anchor=\"middle\" x=\"169.75\" y=\"-406.7\" font-family=\"Helvetica,sans-Serif\" font-size=\"14.00\">value = [1, 7]</text>\n",
              "</g>\n",
              "<!-- 1&#45;&gt;3 -->\n",
              "<g id=\"edge3\" class=\"edge\">\n",
              "<title>1&#45;&gt;3</title>\n",
              "<path fill=\"none\" stroke=\"black\" d=\"M169.75,-504.6C169.75,-497.03 169.75,-488.87 169.75,-480.9\"/>\n",
              "<polygon fill=\"black\" stroke=\"black\" points=\"173.25,-480.99 169.75,-470.99 166.25,-480.99 173.25,-480.99\"/>\n",
              "</g>\n",
              "<!-- 4 -->\n",
              "<g id=\"node5\" class=\"node\">\n",
              "<title>4</title>\n",
              "<path fill=\"#7bbeee\" stroke=\"black\" d=\"M94.75,-357.5C94.75,-357.5 24.75,-357.5 24.75,-357.5 18.75,-357.5 12.75,-351.5 12.75,-345.5 12.75,-345.5 12.75,-316.5 12.75,-316.5 12.75,-310.5 18.75,-304.5 24.75,-304.5 24.75,-304.5 94.75,-304.5 94.75,-304.5 100.75,-304.5 106.75,-310.5 106.75,-316.5 106.75,-316.5 106.75,-345.5 106.75,-345.5 106.75,-351.5 100.75,-357.5 94.75,-357.5\"/>\n",
              "<text text-anchor=\"middle\" x=\"59.75\" y=\"-340.2\" font-family=\"Helvetica,sans-Serif\" font-size=\"14.00\">gini = 0.375</text>\n",
              "<text text-anchor=\"middle\" x=\"59.75\" y=\"-325.2\" font-family=\"Helvetica,sans-Serif\" font-size=\"14.00\">samples = 4</text>\n",
              "<text text-anchor=\"middle\" x=\"59.75\" y=\"-310.2\" font-family=\"Helvetica,sans-Serif\" font-size=\"14.00\">value = [1, 3]</text>\n",
              "</g>\n",
              "<!-- 3&#45;&gt;4 -->\n",
              "<g id=\"edge4\" class=\"edge\">\n",
              "<title>3&#45;&gt;4</title>\n",
              "<path fill=\"none\" stroke=\"black\" d=\"M133.73,-400.6C121.51,-389.27 107.87,-376.62 95.66,-365.3\"/>\n",
              "<polygon fill=\"black\" stroke=\"black\" points=\"98.29,-362.97 88.58,-358.74 93.53,-368.1 98.29,-362.97\"/>\n",
              "</g>\n",
              "<!-- 5 -->\n",
              "<g id=\"node6\" class=\"node\">\n",
              "<title>5</title>\n",
              "<path fill=\"#399de5\" stroke=\"black\" d=\"M206.75,-357.5C206.75,-357.5 136.75,-357.5 136.75,-357.5 130.75,-357.5 124.75,-351.5 124.75,-345.5 124.75,-345.5 124.75,-316.5 124.75,-316.5 124.75,-310.5 130.75,-304.5 136.75,-304.5 136.75,-304.5 206.75,-304.5 206.75,-304.5 212.75,-304.5 218.75,-310.5 218.75,-316.5 218.75,-316.5 218.75,-345.5 218.75,-345.5 218.75,-351.5 212.75,-357.5 206.75,-357.5\"/>\n",
              "<text text-anchor=\"middle\" x=\"171.75\" y=\"-340.2\" font-family=\"Helvetica,sans-Serif\" font-size=\"14.00\">gini = 0.0</text>\n",
              "<text text-anchor=\"middle\" x=\"171.75\" y=\"-325.2\" font-family=\"Helvetica,sans-Serif\" font-size=\"14.00\">samples = 4</text>\n",
              "<text text-anchor=\"middle\" x=\"171.75\" y=\"-310.2\" font-family=\"Helvetica,sans-Serif\" font-size=\"14.00\">value = [0, 4]</text>\n",
              "</g>\n",
              "<!-- 3&#45;&gt;5 -->\n",
              "<g id=\"edge5\" class=\"edge\">\n",
              "<title>3&#45;&gt;5</title>\n",
              "<path fill=\"none\" stroke=\"black\" d=\"M170.4,-400.6C170.6,-390.47 170.82,-379.28 171.03,-368.93\"/>\n",
              "<polygon fill=\"black\" stroke=\"black\" points=\"174.52,-369.29 171.22,-359.22 167.52,-369.15 174.52,-369.29\"/>\n",
              "</g>\n",
              "<!-- 7 -->\n",
              "<g id=\"node8\" class=\"node\">\n",
              "<title>7</title>\n",
              "<path fill=\"#eba069\" stroke=\"black\" d=\"M335.25,-469C335.25,-469 250.25,-469 250.25,-469 244.25,-469 238.25,-463 238.25,-457 238.25,-457 238.25,-413 238.25,-413 238.25,-407 244.25,-401 250.25,-401 250.25,-401 335.25,-401 335.25,-401 341.25,-401 347.25,-407 347.25,-413 347.25,-413 347.25,-457 347.25,-457 347.25,-463 341.25,-469 335.25,-469\"/>\n",
              "<text text-anchor=\"middle\" x=\"292.75\" y=\"-451.7\" font-family=\"Helvetica,sans-Serif\" font-size=\"14.00\">x[0] &lt;= &#45;0.379</text>\n",
              "<text text-anchor=\"middle\" x=\"292.75\" y=\"-436.7\" font-family=\"Helvetica,sans-Serif\" font-size=\"14.00\">gini = 0.316</text>\n",
              "<text text-anchor=\"middle\" x=\"292.75\" y=\"-421.7\" font-family=\"Helvetica,sans-Serif\" font-size=\"14.00\">samples = 61</text>\n",
              "<text text-anchor=\"middle\" x=\"292.75\" y=\"-406.7\" font-family=\"Helvetica,sans-Serif\" font-size=\"14.00\">value = [49, 12]</text>\n",
              "</g>\n",
              "<!-- 6&#45;&gt;7 -->\n",
              "<g id=\"edge7\" class=\"edge\">\n",
              "<title>6&#45;&gt;7</title>\n",
              "<path fill=\"none\" stroke=\"black\" d=\"M292.75,-504.6C292.75,-497.03 292.75,-488.87 292.75,-480.9\"/>\n",
              "<polygon fill=\"black\" stroke=\"black\" points=\"296.25,-480.99 292.75,-470.99 289.25,-480.99 296.25,-480.99\"/>\n",
              "</g>\n",
              "<!-- 20 -->\n",
              "<g id=\"node21\" class=\"node\">\n",
              "<title>20</title>\n",
              "<path fill=\"#399de5\" stroke=\"black\" d=\"M454.5,-461.5C454.5,-461.5 377,-461.5 377,-461.5 371,-461.5 365,-455.5 365,-449.5 365,-449.5 365,-420.5 365,-420.5 365,-414.5 371,-408.5 377,-408.5 377,-408.5 454.5,-408.5 454.5,-408.5 460.5,-408.5 466.5,-414.5 466.5,-420.5 466.5,-420.5 466.5,-449.5 466.5,-449.5 466.5,-455.5 460.5,-461.5 454.5,-461.5\"/>\n",
              "<text text-anchor=\"middle\" x=\"415.75\" y=\"-444.2\" font-family=\"Helvetica,sans-Serif\" font-size=\"14.00\">gini = 0.0</text>\n",
              "<text text-anchor=\"middle\" x=\"415.75\" y=\"-429.2\" font-family=\"Helvetica,sans-Serif\" font-size=\"14.00\">samples = 12</text>\n",
              "<text text-anchor=\"middle\" x=\"415.75\" y=\"-414.2\" font-family=\"Helvetica,sans-Serif\" font-size=\"14.00\">value = [0, 12]</text>\n",
              "</g>\n",
              "<!-- 6&#45;&gt;20 -->\n",
              "<g id=\"edge20\" class=\"edge\">\n",
              "<title>6&#45;&gt;20</title>\n",
              "<path fill=\"none\" stroke=\"black\" d=\"M333.02,-504.6C346.82,-493.16 362.24,-480.38 375.99,-468.97\"/>\n",
              "<polygon fill=\"black\" stroke=\"black\" points=\"378.12,-471.75 383.59,-462.67 373.65,-466.36 378.12,-471.75\"/>\n",
              "</g>\n",
              "<!-- 8 -->\n",
              "<g id=\"node9\" class=\"node\">\n",
              "<title>8</title>\n",
              "<path fill=\"#e58139\" stroke=\"black\" d=\"M329.5,-357.5C329.5,-357.5 252,-357.5 252,-357.5 246,-357.5 240,-351.5 240,-345.5 240,-345.5 240,-316.5 240,-316.5 240,-310.5 246,-304.5 252,-304.5 252,-304.5 329.5,-304.5 329.5,-304.5 335.5,-304.5 341.5,-310.5 341.5,-316.5 341.5,-316.5 341.5,-345.5 341.5,-345.5 341.5,-351.5 335.5,-357.5 329.5,-357.5\"/>\n",
              "<text text-anchor=\"middle\" x=\"290.75\" y=\"-340.2\" font-family=\"Helvetica,sans-Serif\" font-size=\"14.00\">gini = 0.0</text>\n",
              "<text text-anchor=\"middle\" x=\"290.75\" y=\"-325.2\" font-family=\"Helvetica,sans-Serif\" font-size=\"14.00\">samples = 22</text>\n",
              "<text text-anchor=\"middle\" x=\"290.75\" y=\"-310.2\" font-family=\"Helvetica,sans-Serif\" font-size=\"14.00\">value = [22, 0]</text>\n",
              "</g>\n",
              "<!-- 7&#45;&gt;8 -->\n",
              "<g id=\"edge8\" class=\"edge\">\n",
              "<title>7&#45;&gt;8</title>\n",
              "<path fill=\"none\" stroke=\"black\" d=\"M292.1,-400.6C291.9,-390.47 291.68,-379.28 291.47,-368.93\"/>\n",
              "<polygon fill=\"black\" stroke=\"black\" points=\"294.98,-369.15 291.28,-359.22 287.98,-369.29 294.98,-369.15\"/>\n",
              "</g>\n",
              "<!-- 9 -->\n",
              "<g id=\"node10\" class=\"node\">\n",
              "<title>9</title>\n",
              "<path fill=\"#f1b991\" stroke=\"black\" d=\"M456.25,-365C456.25,-365 371.25,-365 371.25,-365 365.25,-365 359.25,-359 359.25,-353 359.25,-353 359.25,-309 359.25,-309 359.25,-303 365.25,-297 371.25,-297 371.25,-297 456.25,-297 456.25,-297 462.25,-297 468.25,-303 468.25,-309 468.25,-309 468.25,-353 468.25,-353 468.25,-359 462.25,-365 456.25,-365\"/>\n",
              "<text text-anchor=\"middle\" x=\"413.75\" y=\"-347.7\" font-family=\"Helvetica,sans-Serif\" font-size=\"14.00\">x[0] &lt;= 0.466</text>\n",
              "<text text-anchor=\"middle\" x=\"413.75\" y=\"-332.7\" font-family=\"Helvetica,sans-Serif\" font-size=\"14.00\">gini = 0.426</text>\n",
              "<text text-anchor=\"middle\" x=\"413.75\" y=\"-317.7\" font-family=\"Helvetica,sans-Serif\" font-size=\"14.00\">samples = 39</text>\n",
              "<text text-anchor=\"middle\" x=\"413.75\" y=\"-302.7\" font-family=\"Helvetica,sans-Serif\" font-size=\"14.00\">value = [27, 12]</text>\n",
              "</g>\n",
              "<!-- 7&#45;&gt;9 -->\n",
              "<g id=\"edge9\" class=\"edge\">\n",
              "<title>7&#45;&gt;9</title>\n",
              "<path fill=\"none\" stroke=\"black\" d=\"M332.37,-400.6C342.92,-391.71 354.44,-382 365.4,-372.76\"/>\n",
              "<polygon fill=\"black\" stroke=\"black\" points=\"367.49,-375.57 372.88,-366.45 362.98,-370.22 367.49,-375.57\"/>\n",
              "</g>\n",
              "<!-- 10 -->\n",
              "<g id=\"node11\" class=\"node\">\n",
              "<title>10</title>\n",
              "<path fill=\"#ffffff\" stroke=\"black\" d=\"M395.25,-261C395.25,-261 310.25,-261 310.25,-261 304.25,-261 298.25,-255 298.25,-249 298.25,-249 298.25,-205 298.25,-205 298.25,-199 304.25,-193 310.25,-193 310.25,-193 395.25,-193 395.25,-193 401.25,-193 407.25,-199 407.25,-205 407.25,-205 407.25,-249 407.25,-249 407.25,-255 401.25,-261 395.25,-261\"/>\n",
              "<text text-anchor=\"middle\" x=\"352.75\" y=\"-243.7\" font-family=\"Helvetica,sans-Serif\" font-size=\"14.00\">x[1] &lt;= 0.769</text>\n",
              "<text text-anchor=\"middle\" x=\"352.75\" y=\"-228.7\" font-family=\"Helvetica,sans-Serif\" font-size=\"14.00\">gini = 0.5</text>\n",
              "<text text-anchor=\"middle\" x=\"352.75\" y=\"-213.7\" font-family=\"Helvetica,sans-Serif\" font-size=\"14.00\">samples = 20</text>\n",
              "<text text-anchor=\"middle\" x=\"352.75\" y=\"-198.7\" font-family=\"Helvetica,sans-Serif\" font-size=\"14.00\">value = [10, 10]</text>\n",
              "</g>\n",
              "<!-- 9&#45;&gt;10 -->\n",
              "<g id=\"edge10\" class=\"edge\">\n",
              "<title>9&#45;&gt;10</title>\n",
              "<path fill=\"none\" stroke=\"black\" d=\"M393.78,-296.6C388.93,-288.5 383.68,-279.72 378.61,-271.24\"/>\n",
              "<polygon fill=\"black\" stroke=\"black\" points=\"381.68,-269.56 373.55,-262.77 375.67,-273.15 381.68,-269.56\"/>\n",
              "</g>\n",
              "<!-- 15 -->\n",
              "<g id=\"node16\" class=\"node\">\n",
              "<title>15</title>\n",
              "<path fill=\"#e89050\" stroke=\"black\" d=\"M514.5,-261C514.5,-261 437,-261 437,-261 431,-261 425,-255 425,-249 425,-249 425,-205 425,-205 425,-199 431,-193 437,-193 437,-193 514.5,-193 514.5,-193 520.5,-193 526.5,-199 526.5,-205 526.5,-205 526.5,-249 526.5,-249 526.5,-255 520.5,-261 514.5,-261\"/>\n",
              "<text text-anchor=\"middle\" x=\"475.75\" y=\"-243.7\" font-family=\"Helvetica,sans-Serif\" font-size=\"14.00\">x[0] &lt;= 0.639</text>\n",
              "<text text-anchor=\"middle\" x=\"475.75\" y=\"-228.7\" font-family=\"Helvetica,sans-Serif\" font-size=\"14.00\">gini = 0.188</text>\n",
              "<text text-anchor=\"middle\" x=\"475.75\" y=\"-213.7\" font-family=\"Helvetica,sans-Serif\" font-size=\"14.00\">samples = 19</text>\n",
              "<text text-anchor=\"middle\" x=\"475.75\" y=\"-198.7\" font-family=\"Helvetica,sans-Serif\" font-size=\"14.00\">value = [17, 2]</text>\n",
              "</g>\n",
              "<!-- 9&#45;&gt;15 -->\n",
              "<g id=\"edge15\" class=\"edge\">\n",
              "<title>9&#45;&gt;15</title>\n",
              "<path fill=\"none\" stroke=\"black\" d=\"M434.05,-296.6C438.98,-288.5 444.31,-279.72 449.47,-271.24\"/>\n",
              "<polygon fill=\"black\" stroke=\"black\" points=\"452.41,-273.13 454.62,-262.77 446.43,-269.49 452.41,-273.13\"/>\n",
              "</g>\n",
              "<!-- 11 -->\n",
              "<g id=\"node12\" class=\"node\">\n",
              "<title>11</title>\n",
              "<path fill=\"#399de5\" stroke=\"black\" d=\"M273.75,-149.5C273.75,-149.5 203.75,-149.5 203.75,-149.5 197.75,-149.5 191.75,-143.5 191.75,-137.5 191.75,-137.5 191.75,-108.5 191.75,-108.5 191.75,-102.5 197.75,-96.5 203.75,-96.5 203.75,-96.5 273.75,-96.5 273.75,-96.5 279.75,-96.5 285.75,-102.5 285.75,-108.5 285.75,-108.5 285.75,-137.5 285.75,-137.5 285.75,-143.5 279.75,-149.5 273.75,-149.5\"/>\n",
              "<text text-anchor=\"middle\" x=\"238.75\" y=\"-132.2\" font-family=\"Helvetica,sans-Serif\" font-size=\"14.00\">gini = 0.0</text>\n",
              "<text text-anchor=\"middle\" x=\"238.75\" y=\"-117.2\" font-family=\"Helvetica,sans-Serif\" font-size=\"14.00\">samples = 9</text>\n",
              "<text text-anchor=\"middle\" x=\"238.75\" y=\"-102.2\" font-family=\"Helvetica,sans-Serif\" font-size=\"14.00\">value = [0, 9]</text>\n",
              "</g>\n",
              "<!-- 10&#45;&gt;11 -->\n",
              "<g id=\"edge11\" class=\"edge\">\n",
              "<title>10&#45;&gt;11</title>\n",
              "<path fill=\"none\" stroke=\"black\" d=\"M315.42,-192.6C302.76,-181.27 288.62,-168.62 275.97,-157.3\"/>\n",
              "<polygon fill=\"black\" stroke=\"black\" points=\"278.39,-154.77 268.61,-150.72 273.73,-159.99 278.39,-154.77\"/>\n",
              "</g>\n",
              "<!-- 12 -->\n",
              "<g id=\"node13\" class=\"node\">\n",
              "<title>12</title>\n",
              "<path fill=\"#e88e4d\" stroke=\"black\" d=\"M393.5,-157C393.5,-157 316,-157 316,-157 310,-157 304,-151 304,-145 304,-145 304,-101 304,-101 304,-95 310,-89 316,-89 316,-89 393.5,-89 393.5,-89 399.5,-89 405.5,-95 405.5,-101 405.5,-101 405.5,-145 405.5,-145 405.5,-151 399.5,-157 393.5,-157\"/>\n",
              "<text text-anchor=\"middle\" x=\"354.75\" y=\"-139.7\" font-family=\"Helvetica,sans-Serif\" font-size=\"14.00\">x[0] &lt;= &#45;0.163</text>\n",
              "<text text-anchor=\"middle\" x=\"354.75\" y=\"-124.7\" font-family=\"Helvetica,sans-Serif\" font-size=\"14.00\">gini = 0.165</text>\n",
              "<text text-anchor=\"middle\" x=\"354.75\" y=\"-109.7\" font-family=\"Helvetica,sans-Serif\" font-size=\"14.00\">samples = 11</text>\n",
              "<text text-anchor=\"middle\" x=\"354.75\" y=\"-94.7\" font-family=\"Helvetica,sans-Serif\" font-size=\"14.00\">value = [10, 1]</text>\n",
              "</g>\n",
              "<!-- 10&#45;&gt;12 -->\n",
              "<g id=\"edge12\" class=\"edge\">\n",
              "<title>10&#45;&gt;12</title>\n",
              "<path fill=\"none\" stroke=\"black\" d=\"M353.4,-192.6C353.55,-185.03 353.71,-176.87 353.87,-168.9\"/>\n",
              "<polygon fill=\"black\" stroke=\"black\" points=\"357.37,-169.05 354.06,-158.99 350.37,-168.92 357.37,-169.05\"/>\n",
              "</g>\n",
              "<!-- 13 -->\n",
              "<g id=\"node14\" class=\"node\">\n",
              "<title>13</title>\n",
              "<path fill=\"#eeab7b\" stroke=\"black\" d=\"M336.75,-53C336.75,-53 266.75,-53 266.75,-53 260.75,-53 254.75,-47 254.75,-41 254.75,-41 254.75,-12 254.75,-12 254.75,-6 260.75,0 266.75,0 266.75,0 336.75,0 336.75,0 342.75,0 348.75,-6 348.75,-12 348.75,-12 348.75,-41 348.75,-41 348.75,-47 342.75,-53 336.75,-53\"/>\n",
              "<text text-anchor=\"middle\" x=\"301.75\" y=\"-35.7\" font-family=\"Helvetica,sans-Serif\" font-size=\"14.00\">gini = 0.375</text>\n",
              "<text text-anchor=\"middle\" x=\"301.75\" y=\"-20.7\" font-family=\"Helvetica,sans-Serif\" font-size=\"14.00\">samples = 4</text>\n",
              "<text text-anchor=\"middle\" x=\"301.75\" y=\"-5.7\" font-family=\"Helvetica,sans-Serif\" font-size=\"14.00\">value = [3, 1]</text>\n",
              "</g>\n",
              "<!-- 12&#45;&gt;13 -->\n",
              "<g id=\"edge13\" class=\"edge\">\n",
              "<title>12&#45;&gt;13</title>\n",
              "<path fill=\"none\" stroke=\"black\" d=\"M336.06,-88.68C331.45,-80.45 326.48,-71.59 321.8,-63.25\"/>\n",
              "<polygon fill=\"black\" stroke=\"black\" points=\"324.96,-61.72 317.01,-54.71 318.85,-65.15 324.96,-61.72\"/>\n",
              "</g>\n",
              "<!-- 14 -->\n",
              "<g id=\"node15\" class=\"node\">\n",
              "<title>14</title>\n",
              "<path fill=\"#e58139\" stroke=\"black\" d=\"M448.75,-53C448.75,-53 378.75,-53 378.75,-53 372.75,-53 366.75,-47 366.75,-41 366.75,-41 366.75,-12 366.75,-12 366.75,-6 372.75,0 378.75,0 378.75,0 448.75,0 448.75,0 454.75,0 460.75,-6 460.75,-12 460.75,-12 460.75,-41 460.75,-41 460.75,-47 454.75,-53 448.75,-53\"/>\n",
              "<text text-anchor=\"middle\" x=\"413.75\" y=\"-35.7\" font-family=\"Helvetica,sans-Serif\" font-size=\"14.00\">gini = 0.0</text>\n",
              "<text text-anchor=\"middle\" x=\"413.75\" y=\"-20.7\" font-family=\"Helvetica,sans-Serif\" font-size=\"14.00\">samples = 7</text>\n",
              "<text text-anchor=\"middle\" x=\"413.75\" y=\"-5.7\" font-family=\"Helvetica,sans-Serif\" font-size=\"14.00\">value = [7, 0]</text>\n",
              "</g>\n",
              "<!-- 12&#45;&gt;14 -->\n",
              "<g id=\"edge14\" class=\"edge\">\n",
              "<title>12&#45;&gt;14</title>\n",
              "<path fill=\"none\" stroke=\"black\" d=\"M375.55,-88.68C380.75,-80.36 386.34,-71.4 391.6,-62.97\"/>\n",
              "<polygon fill=\"black\" stroke=\"black\" points=\"394.45,-65.01 396.78,-54.68 388.52,-61.31 394.45,-65.01\"/>\n",
              "</g>\n",
              "<!-- 16 -->\n",
              "<g id=\"node17\" class=\"node\">\n",
              "<title>16</title>\n",
              "<path fill=\"#e58139\" stroke=\"black\" d=\"M508.75,-149.5C508.75,-149.5 438.75,-149.5 438.75,-149.5 432.75,-149.5 426.75,-143.5 426.75,-137.5 426.75,-137.5 426.75,-108.5 426.75,-108.5 426.75,-102.5 432.75,-96.5 438.75,-96.5 438.75,-96.5 508.75,-96.5 508.75,-96.5 514.75,-96.5 520.75,-102.5 520.75,-108.5 520.75,-108.5 520.75,-137.5 520.75,-137.5 520.75,-143.5 514.75,-149.5 508.75,-149.5\"/>\n",
              "<text text-anchor=\"middle\" x=\"473.75\" y=\"-132.2\" font-family=\"Helvetica,sans-Serif\" font-size=\"14.00\">gini = 0.0</text>\n",
              "<text text-anchor=\"middle\" x=\"473.75\" y=\"-117.2\" font-family=\"Helvetica,sans-Serif\" font-size=\"14.00\">samples = 9</text>\n",
              "<text text-anchor=\"middle\" x=\"473.75\" y=\"-102.2\" font-family=\"Helvetica,sans-Serif\" font-size=\"14.00\">value = [9, 0]</text>\n",
              "</g>\n",
              "<!-- 15&#45;&gt;16 -->\n",
              "<g id=\"edge16\" class=\"edge\">\n",
              "<title>15&#45;&gt;16</title>\n",
              "<path fill=\"none\" stroke=\"black\" d=\"M475.1,-192.6C474.9,-182.47 474.68,-171.28 474.47,-160.93\"/>\n",
              "<polygon fill=\"black\" stroke=\"black\" points=\"477.98,-161.15 474.28,-151.22 470.98,-161.29 477.98,-161.15\"/>\n",
              "</g>\n",
              "<!-- 17 -->\n",
              "<g id=\"node18\" class=\"node\">\n",
              "<title>17</title>\n",
              "<path fill=\"#eca06a\" stroke=\"black\" d=\"M624.62,-157C624.62,-157 550.88,-157 550.88,-157 544.88,-157 538.88,-151 538.88,-145 538.88,-145 538.88,-101 538.88,-101 538.88,-95 544.88,-89 550.88,-89 550.88,-89 624.62,-89 624.62,-89 630.62,-89 636.62,-95 636.62,-101 636.62,-101 636.62,-145 636.62,-145 636.62,-151 630.62,-157 624.62,-157\"/>\n",
              "<text text-anchor=\"middle\" x=\"587.75\" y=\"-139.7\" font-family=\"Helvetica,sans-Serif\" font-size=\"14.00\">x[1] &lt;= 0.481</text>\n",
              "<text text-anchor=\"middle\" x=\"587.75\" y=\"-124.7\" font-family=\"Helvetica,sans-Serif\" font-size=\"14.00\">gini = 0.32</text>\n",
              "<text text-anchor=\"middle\" x=\"587.75\" y=\"-109.7\" font-family=\"Helvetica,sans-Serif\" font-size=\"14.00\">samples = 10</text>\n",
              "<text text-anchor=\"middle\" x=\"587.75\" y=\"-94.7\" font-family=\"Helvetica,sans-Serif\" font-size=\"14.00\">value = [8, 2]</text>\n",
              "</g>\n",
              "<!-- 15&#45;&gt;17 -->\n",
              "<g id=\"edge17\" class=\"edge\">\n",
              "<title>15&#45;&gt;17</title>\n",
              "<path fill=\"none\" stroke=\"black\" d=\"M512.42,-192.6C522.09,-183.8 532.64,-174.19 542.69,-165.03\"/>\n",
              "<polygon fill=\"black\" stroke=\"black\" points=\"544.84,-167.81 549.88,-158.49 540.13,-162.64 544.84,-167.81\"/>\n",
              "</g>\n",
              "<!-- 18 -->\n",
              "<g id=\"node19\" class=\"node\">\n",
              "<title>18</title>\n",
              "<path fill=\"#f2c09c\" stroke=\"black\" d=\"M563.75,-53C563.75,-53 493.75,-53 493.75,-53 487.75,-53 481.75,-47 481.75,-41 481.75,-41 481.75,-12 481.75,-12 481.75,-6 487.75,0 493.75,0 493.75,0 563.75,0 563.75,0 569.75,0 575.75,-6 575.75,-12 575.75,-12 575.75,-41 575.75,-41 575.75,-47 569.75,-53 563.75,-53\"/>\n",
              "<text text-anchor=\"middle\" x=\"528.75\" y=\"-35.7\" font-family=\"Helvetica,sans-Serif\" font-size=\"14.00\">gini = 0.444</text>\n",
              "<text text-anchor=\"middle\" x=\"528.75\" y=\"-20.7\" font-family=\"Helvetica,sans-Serif\" font-size=\"14.00\">samples = 6</text>\n",
              "<text text-anchor=\"middle\" x=\"528.75\" y=\"-5.7\" font-family=\"Helvetica,sans-Serif\" font-size=\"14.00\">value = [4, 2]</text>\n",
              "</g>\n",
              "<!-- 17&#45;&gt;18 -->\n",
              "<g id=\"edge18\" class=\"edge\">\n",
              "<title>17&#45;&gt;18</title>\n",
              "<path fill=\"none\" stroke=\"black\" d=\"M566.95,-88.68C561.75,-80.36 556.16,-71.4 550.9,-62.97\"/>\n",
              "<polygon fill=\"black\" stroke=\"black\" points=\"553.98,-61.31 545.72,-54.68 548.05,-65.01 553.98,-61.31\"/>\n",
              "</g>\n",
              "<!-- 19 -->\n",
              "<g id=\"node20\" class=\"node\">\n",
              "<title>19</title>\n",
              "<path fill=\"#e58139\" stroke=\"black\" d=\"M675.75,-53C675.75,-53 605.75,-53 605.75,-53 599.75,-53 593.75,-47 593.75,-41 593.75,-41 593.75,-12 593.75,-12 593.75,-6 599.75,0 605.75,0 605.75,0 675.75,0 675.75,0 681.75,0 687.75,-6 687.75,-12 687.75,-12 687.75,-41 687.75,-41 687.75,-47 681.75,-53 675.75,-53\"/>\n",
              "<text text-anchor=\"middle\" x=\"640.75\" y=\"-35.7\" font-family=\"Helvetica,sans-Serif\" font-size=\"14.00\">gini = 0.0</text>\n",
              "<text text-anchor=\"middle\" x=\"640.75\" y=\"-20.7\" font-family=\"Helvetica,sans-Serif\" font-size=\"14.00\">samples = 4</text>\n",
              "<text text-anchor=\"middle\" x=\"640.75\" y=\"-5.7\" font-family=\"Helvetica,sans-Serif\" font-size=\"14.00\">value = [4, 0]</text>\n",
              "</g>\n",
              "<!-- 17&#45;&gt;19 -->\n",
              "<g id=\"edge19\" class=\"edge\">\n",
              "<title>17&#45;&gt;19</title>\n",
              "<path fill=\"none\" stroke=\"black\" d=\"M606.44,-88.68C611.05,-80.45 616.02,-71.59 620.7,-63.25\"/>\n",
              "<polygon fill=\"black\" stroke=\"black\" points=\"623.65,-65.15 625.49,-54.71 617.54,-61.72 623.65,-65.15\"/>\n",
              "</g>\n",
              "</g>\n",
              "</svg>\n"
            ],
            "text/plain": [
              "<graphviz.sources.Source at 0x295060be0>"
            ]
          },
          "execution_count": 120,
          "metadata": {},
          "output_type": "execute_result"
        }
      ],
      "source": [
        "dot_data2 = export_graphviz(\n",
        "    deep_tree_clf2,\n",
        "    # feature_names = iris.feature_names[2:],\n",
        "    # class_names = iris.target_names,\n",
        "    rounded=True,\n",
        "    filled=True # 색 칠해줌\n",
        ")\n",
        "\n",
        "graphviz.Source(dot_data2)"
      ]
    },
    {
      "cell_type": "markdown",
      "metadata": {
        "id": "7phww8Q_rJBf"
      },
      "source": [
        "# 6.8 회귀"
      ]
    },
    {
      "cell_type": "code",
      "execution_count": 121,
      "metadata": {
        "id": "Wv7k0UrmrKX3"
      },
      "outputs": [],
      "source": [
        "# 2차식으로 만든 데이터셋 + 잡음\n",
        "np.random.seed(42)\n",
        "m = 200\n",
        "X = np.random.rand(m, 1)\n",
        "y = 4 * (X - 0.5) ** 2\n",
        "y = y + np.random.randn(m, 1) / 10"
      ]
    },
    {
      "cell_type": "code",
      "execution_count": 122,
      "metadata": {
        "colab": {
          "base_uri": "https://localhost:8080/"
        },
        "id": "WWJvgHrYrMMt",
        "outputId": "ff35be93-f0cb-454a-d83d-12c28d2a542a"
      },
      "outputs": [
        {
          "data": {
            "text/plain": [
              "<matplotlib.collections.PathCollection at 0x293ea6f50>"
            ]
          },
          "execution_count": 122,
          "metadata": {},
          "output_type": "execute_result"
        },
        {
          "data": {
            "image/png": "[encoded data removed]",
            "text/plain": [
              "<Figure size 640x480 with 1 Axes>"
            ]
          },
          "metadata": {},
          "output_type": "display_data"
        }
      ],
      "source": [
        "plt.scatter(X, y)"
      ]
    },
    {
      "cell_type": "code",
      "execution_count": 123,
      "metadata": {
        "colab": {
          "base_uri": "https://localhost:8080/"
        },
        "id": "33x9nJperSW9",
        "outputId": "2abab2f3-8680-4377-f18b-52a625898a4a"
      },
      "outputs": [
        {
          "data": {
            "text/html": [
              "<style>#sk-container-id-14 {color: black;}#sk-container-id-14 pre{padding: 0;}#sk-container-id-14 div.sk-toggleable {background-color: white;}#sk-container-id-14 label.sk-toggleable__label {cursor: pointer;display: block;width: 100%;margin-bottom: 0;padding: 0.3em;box-sizing: border-box;text-align: center;}#sk-container-id-14 label.sk-toggleable__label-arrow:before {content: \"▸\";float: left;margin-right: 0.25em;color: #696969;}#sk-container-id-14 label.sk-toggleable__label-arrow:hover:before {color: black;}#sk-container-id-14 div.sk-estimator:hover label.sk-toggleable__label-arrow:before {color: black;}#sk-container-id-14 div.sk-toggleable__content {max-height: 0;max-width: 0;overflow: hidden;text-align: left;background-color: #f0f8ff;}#sk-container-id-14 div.sk-toggleable__content pre {margin: 0.2em;color: black;border-radius: 0.25em;background-color: #f0f8ff;}#sk-container-id-14 input.sk-toggleable__control:checked~div.sk-toggleable__content {max-height: 200px;max-width: 100%;overflow: auto;}#sk-container-id-14 input.sk-toggleable__control:checked~label.sk-toggleable__label-arrow:before {content: \"▾\";}#sk-container-id-14 div.sk-estimator input.sk-toggleable__control:checked~label.sk-toggleable__label {background-color: #d4ebff;}#sk-container-id-14 div.sk-label input.sk-toggleable__control:checked~label.sk-toggleable__label {background-color: #d4ebff;}#sk-container-id-14 input.sk-hidden--visually {border: 0;clip: rect(1px 1px 1px 1px);clip: rect(1px, 1px, 1px, 1px);height: 1px;margin: -1px;overflow: hidden;padding: 0;position: absolute;width: 1px;}#sk-container-id-14 div.sk-estimator {font-family: monospace;background-color: #f0f8ff;border: 1px dotted black;border-radius: 0.25em;box-sizing: border-box;margin-bottom: 0.5em;}#sk-container-id-14 div.sk-estimator:hover {background-color: #d4ebff;}#sk-container-id-14 div.sk-parallel-item::after {content: \"\";width: 100%;border-bottom: 1px solid gray;flex-grow: 1;}#sk-container-id-14 div.sk-label:hover label.sk-toggleable__label {background-color: #d4ebff;}#sk-container-id-14 div.sk-serial::before {content: \"\";position: absolute;border-left: 1px solid gray;box-sizing: border-box;top: 0;bottom: 0;left: 50%;z-index: 0;}#sk-container-id-14 div.sk-serial {display: flex;flex-direction: column;align-items: center;background-color: white;padding-right: 0.2em;padding-left: 0.2em;position: relative;}#sk-container-id-14 div.sk-item {position: relative;z-index: 1;}#sk-container-id-14 div.sk-parallel {display: flex;align-items: stretch;justify-content: center;background-color: white;position: relative;}#sk-container-id-14 div.sk-item::before, #sk-container-id-14 div.sk-parallel-item::before {content: \"\";position: absolute;border-left: 1px solid gray;box-sizing: border-box;top: 0;bottom: 0;left: 50%;z-index: -1;}#sk-container-id-14 div.sk-parallel-item {display: flex;flex-direction: column;z-index: 1;position: relative;background-color: white;}#sk-container-id-14 div.sk-parallel-item:first-child::after {align-self: flex-end;width: 50%;}#sk-container-id-14 div.sk-parallel-item:last-child::after {align-self: flex-start;width: 50%;}#sk-container-id-14 div.sk-parallel-item:only-child::after {width: 0;}#sk-container-id-14 div.sk-dashed-wrapped {border: 1px dashed gray;margin: 0 0.4em 0.5em 0.4em;box-sizing: border-box;padding-bottom: 0.4em;background-color: white;}#sk-container-id-14 div.sk-label label {font-family: monospace;font-weight: bold;display: inline-block;line-height: 1.2em;}#sk-container-id-14 div.sk-label-container {text-align: center;}#sk-container-id-14 div.sk-container {/* jupyter's `normalize.less` sets `[hidden] { display: none; }` but bootstrap.min.css set `[hidden] { display: none !important; }` so we also need the `!important` here to be able to override the default hidden behavior on the sphinx rendered scikit-learn.org. See: https://github.com/scikit-learn/scikit-learn/issues/21755 */display: inline-block !important;position: relative;}#sk-container-id-14 div.sk-text-repr-fallback {display: none;}</style><div id=\"sk-container-id-14\" class=\"sk-top-container\"><div class=\"sk-text-repr-fallback\"><pre>DecisionTreeRegressor(max_depth=2)</pre><b>In a Jupyter environment, please rerun this cell to show the HTML representation or trust the notebook. <br />On GitHub, the HTML representation is unable to render, please try loading this page with nbviewer.org.</b></div><div class=\"sk-container\" hidden><div class=\"sk-item\"><div class=\"sk-estimator sk-toggleable\"><input class=\"sk-toggleable__control sk-hidden--visually\" id=\"sk-estimator-id-14\" type=\"checkbox\" checked><label for=\"sk-estimator-id-14\" class=\"sk-toggleable__label sk-toggleable__label-arrow\">DecisionTreeRegressor</label><div class=\"sk-toggleable__content\"><pre>DecisionTreeRegressor(max_depth=2)</pre></div></div></div></div></div>"
            ],
            "text/plain": [
              "DecisionTreeRegressor(max_depth=2)"
            ]
          },
          "execution_count": 123,
          "metadata": {},
          "output_type": "execute_result"
        }
      ],
      "source": [
        "from sklearn.tree import DecisionTreeRegressor\n",
        "\n",
        "tree_reg = DecisionTreeRegressor(max_depth = 2)\n",
        "tree_reg.fit(X, y)"
      ]
    },
    {
      "cell_type": "code",
      "execution_count": 124,
      "metadata": {
        "colab": {
          "base_uri": "https://localhost:8080/"
        },
        "id": "qYXq2nzCrbzQ",
        "outputId": "14af205b-19af-4f77-bc73-babe54e55a12"
      },
      "outputs": [
        {
          "data": {
            "image/svg+xml": [
              "<?xml version=\"1.0\" encoding=\"UTF-8\" standalone=\"no\"?>\n",
              "<!DOCTYPE svg PUBLIC \"-//W3C//DTD SVG 1.1//EN\"\n",
              " \"http://www.w3.org/Graphics/SVG/1.1/DTD/svg11.dtd\">\n",
              "<!-- Generated by graphviz version 9.0.0 (20230911.1827)\n",
              " -->\n",
              "<!-- Title: Tree Pages: 1 -->\n",
              "<svg width=\"662pt\" height=\"269pt\"\n",
              " viewBox=\"0.00 0.00 662.25 269.00\" xmlns=\"http://www.w3.org/2000/svg\" xmlns:xlink=\"http://www.w3.org/1999/xlink\">\n",
              "<g id=\"graph0\" class=\"graph\" transform=\"scale(1 1) rotate(0) translate(4 265)\">\n",
              "<title>Tree</title>\n",
              "<polygon fill=\"white\" stroke=\"none\" points=\"-4,4 -4,-265 658.25,-265 658.25,4 -4,4\"/>\n",
              "<!-- 0 -->\n",
              "<g id=\"node1\" class=\"node\">\n",
              "<title>0</title>\n",
              "<path fill=\"#f6d6be\" stroke=\"black\" d=\"M390.25,-261C390.25,-261 264,-261 264,-261 258,-261 252,-255 252,-249 252,-249 252,-205 252,-205 252,-199 258,-193 264,-193 264,-193 390.25,-193 390.25,-193 396.25,-193 402.25,-199 402.25,-205 402.25,-205 402.25,-249 402.25,-249 402.25,-255 396.25,-261 390.25,-261\"/>\n",
              "<text text-anchor=\"middle\" x=\"327.12\" y=\"-243.7\" font-family=\"Helvetica,sans-Serif\" font-size=\"14.00\">x1 &lt;= 0.197</text>\n",
              "<text text-anchor=\"middle\" x=\"327.12\" y=\"-228.7\" font-family=\"Helvetica,sans-Serif\" font-size=\"14.00\">squared_error = 0.098</text>\n",
              "<text text-anchor=\"middle\" x=\"327.12\" y=\"-213.7\" font-family=\"Helvetica,sans-Serif\" font-size=\"14.00\">samples = 200</text>\n",
              "<text text-anchor=\"middle\" x=\"327.12\" y=\"-198.7\" font-family=\"Helvetica,sans-Serif\" font-size=\"14.00\">value = 0.354</text>\n",
              "</g>\n",
              "<!-- 1 -->\n",
              "<g id=\"node2\" class=\"node\">\n",
              "<title>1</title>\n",
              "<path fill=\"#eb9d65\" stroke=\"black\" d=\"M306.25,-157C306.25,-157 180,-157 180,-157 174,-157 168,-151 168,-145 168,-145 168,-101 168,-101 168,-95 174,-89 180,-89 180,-89 306.25,-89 306.25,-89 312.25,-89 318.25,-95 318.25,-101 318.25,-101 318.25,-145 318.25,-145 318.25,-151 312.25,-157 306.25,-157\"/>\n",
              "<text text-anchor=\"middle\" x=\"243.12\" y=\"-139.7\" font-family=\"Helvetica,sans-Serif\" font-size=\"14.00\">x1 &lt;= 0.092</text>\n",
              "<text text-anchor=\"middle\" x=\"243.12\" y=\"-124.7\" font-family=\"Helvetica,sans-Serif\" font-size=\"14.00\">squared_error = 0.038</text>\n",
              "<text text-anchor=\"middle\" x=\"243.12\" y=\"-109.7\" font-family=\"Helvetica,sans-Serif\" font-size=\"14.00\">samples = 44</text>\n",
              "<text text-anchor=\"middle\" x=\"243.12\" y=\"-94.7\" font-family=\"Helvetica,sans-Serif\" font-size=\"14.00\">value = 0.689</text>\n",
              "</g>\n",
              "<!-- 0&#45;&gt;1 -->\n",
              "<g id=\"edge1\" class=\"edge\">\n",
              "<title>0&#45;&gt;1</title>\n",
              "<path fill=\"none\" stroke=\"black\" d=\"M299.62,-192.6C292.66,-184.15 285.09,-174.96 277.82,-166.13\"/>\n",
              "<polygon fill=\"black\" stroke=\"black\" points=\"280.71,-164.14 271.65,-158.64 275.31,-168.59 280.71,-164.14\"/>\n",
              "<text text-anchor=\"middle\" x=\"268.28\" y=\"-176.56\" font-family=\"Helvetica,sans-Serif\" font-size=\"14.00\">True</text>\n",
              "</g>\n",
              "<!-- 4 -->\n",
              "<g id=\"node5\" class=\"node\">\n",
              "<title>4</title>\n",
              "<path fill=\"#fae6d7\" stroke=\"black\" d=\"M474.25,-157C474.25,-157 348,-157 348,-157 342,-157 336,-151 336,-145 336,-145 336,-101 336,-101 336,-95 342,-89 348,-89 348,-89 474.25,-89 474.25,-89 480.25,-89 486.25,-95 486.25,-101 486.25,-101 486.25,-145 486.25,-145 486.25,-151 480.25,-157 474.25,-157\"/>\n",
              "<text text-anchor=\"middle\" x=\"411.12\" y=\"-139.7\" font-family=\"Helvetica,sans-Serif\" font-size=\"14.00\">x1 &lt;= 0.772</text>\n",
              "<text text-anchor=\"middle\" x=\"411.12\" y=\"-124.7\" font-family=\"Helvetica,sans-Serif\" font-size=\"14.00\">squared_error = 0.074</text>\n",
              "<text text-anchor=\"middle\" x=\"411.12\" y=\"-109.7\" font-family=\"Helvetica,sans-Serif\" font-size=\"14.00\">samples = 156</text>\n",
              "<text text-anchor=\"middle\" x=\"411.12\" y=\"-94.7\" font-family=\"Helvetica,sans-Serif\" font-size=\"14.00\">value = 0.259</text>\n",
              "</g>\n",
              "<!-- 0&#45;&gt;4 -->\n",
              "<g id=\"edge4\" class=\"edge\">\n",
              "<title>0&#45;&gt;4</title>\n",
              "<path fill=\"none\" stroke=\"black\" d=\"M354.63,-192.6C361.59,-184.15 369.16,-174.96 376.43,-166.13\"/>\n",
              "<polygon fill=\"black\" stroke=\"black\" points=\"378.94,-168.59 382.6,-158.64 373.54,-164.14 378.94,-168.59\"/>\n",
              "<text text-anchor=\"middle\" x=\"385.97\" y=\"-176.56\" font-family=\"Helvetica,sans-Serif\" font-size=\"14.00\">False</text>\n",
              "</g>\n",
              "<!-- 2 -->\n",
              "<g id=\"node3\" class=\"node\">\n",
              "<title>2</title>\n",
              "<path fill=\"#e58139\" stroke=\"black\" d=\"M138.25,-53C138.25,-53 12,-53 12,-53 6,-53 0,-47 0,-41 0,-41 0,-12 0,-12 0,-6 6,0 12,0 12,0 138.25,0 138.25,0 144.25,0 150.25,-6 150.25,-12 150.25,-12 150.25,-41 150.25,-41 150.25,-47 144.25,-53 138.25,-53\"/>\n",
              "<text text-anchor=\"middle\" x=\"75.12\" y=\"-35.7\" font-family=\"Helvetica,sans-Serif\" font-size=\"14.00\">squared_error = 0.018</text>\n",
              "<text text-anchor=\"middle\" x=\"75.12\" y=\"-20.7\" font-family=\"Helvetica,sans-Serif\" font-size=\"14.00\">samples = 20</text>\n",
              "<text text-anchor=\"middle\" x=\"75.12\" y=\"-5.7\" font-family=\"Helvetica,sans-Serif\" font-size=\"14.00\">value = 0.854</text>\n",
              "</g>\n",
              "<!-- 1&#45;&gt;2 -->\n",
              "<g id=\"edge2\" class=\"edge\">\n",
              "<title>1&#45;&gt;2</title>\n",
              "<path fill=\"none\" stroke=\"black\" d=\"M183.89,-88.68C166.68,-79 147.94,-68.46 130.94,-58.9\"/>\n",
              "<polygon fill=\"black\" stroke=\"black\" points=\"132.91,-55.99 122.48,-54.14 129.48,-62.09 132.91,-55.99\"/>\n",
              "</g>\n",
              "<!-- 3 -->\n",
              "<g id=\"node4\" class=\"node\">\n",
              "<title>3</title>\n",
              "<path fill=\"#f0b489\" stroke=\"black\" d=\"M306.25,-53C306.25,-53 180,-53 180,-53 174,-53 168,-47 168,-41 168,-41 168,-12 168,-12 168,-6 174,0 180,0 180,0 306.25,0 306.25,0 312.25,0 318.25,-6 318.25,-12 318.25,-12 318.25,-41 318.25,-41 318.25,-47 312.25,-53 306.25,-53\"/>\n",
              "<text text-anchor=\"middle\" x=\"243.12\" y=\"-35.7\" font-family=\"Helvetica,sans-Serif\" font-size=\"14.00\">squared_error = 0.013</text>\n",
              "<text text-anchor=\"middle\" x=\"243.12\" y=\"-20.7\" font-family=\"Helvetica,sans-Serif\" font-size=\"14.00\">samples = 24</text>\n",
              "<text text-anchor=\"middle\" x=\"243.12\" y=\"-5.7\" font-family=\"Helvetica,sans-Serif\" font-size=\"14.00\">value = 0.552</text>\n",
              "</g>\n",
              "<!-- 1&#45;&gt;3 -->\n",
              "<g id=\"edge3\" class=\"edge\">\n",
              "<title>1&#45;&gt;3</title>\n",
              "<path fill=\"none\" stroke=\"black\" d=\"M243.12,-88.68C243.12,-80.99 243.12,-72.76 243.12,-64.9\"/>\n",
              "<polygon fill=\"black\" stroke=\"black\" points=\"246.63,-64.91 243.13,-54.91 239.63,-64.91 246.63,-64.91\"/>\n",
              "</g>\n",
              "<!-- 5 -->\n",
              "<g id=\"node6\" class=\"node\">\n",
              "<title>5</title>\n",
              "<path fill=\"#ffffff\" stroke=\"black\" d=\"M474.25,-53C474.25,-53 348,-53 348,-53 342,-53 336,-47 336,-41 336,-41 336,-12 336,-12 336,-6 342,0 348,0 348,0 474.25,0 474.25,0 480.25,0 486.25,-6 486.25,-12 486.25,-12 486.25,-41 486.25,-41 486.25,-47 480.25,-53 474.25,-53\"/>\n",
              "<text text-anchor=\"middle\" x=\"411.12\" y=\"-35.7\" font-family=\"Helvetica,sans-Serif\" font-size=\"14.00\">squared_error = 0.015</text>\n",
              "<text text-anchor=\"middle\" x=\"411.12\" y=\"-20.7\" font-family=\"Helvetica,sans-Serif\" font-size=\"14.00\">samples = 110</text>\n",
              "<text text-anchor=\"middle\" x=\"411.12\" y=\"-5.7\" font-family=\"Helvetica,sans-Serif\" font-size=\"14.00\">value = 0.111</text>\n",
              "</g>\n",
              "<!-- 4&#45;&gt;5 -->\n",
              "<g id=\"edge5\" class=\"edge\">\n",
              "<title>4&#45;&gt;5</title>\n",
              "<path fill=\"none\" stroke=\"black\" d=\"M411.12,-88.68C411.12,-80.99 411.12,-72.76 411.12,-64.9\"/>\n",
              "<polygon fill=\"black\" stroke=\"black\" points=\"414.63,-64.91 411.13,-54.91 407.63,-64.91 414.63,-64.91\"/>\n",
              "</g>\n",
              "<!-- 6 -->\n",
              "<g id=\"node7\" class=\"node\">\n",
              "<title>6</title>\n",
              "<path fill=\"#edaa79\" stroke=\"black\" d=\"M642.25,-53C642.25,-53 516,-53 516,-53 510,-53 504,-47 504,-41 504,-41 504,-12 504,-12 504,-6 510,0 516,0 516,0 642.25,0 642.25,0 648.25,0 654.25,-6 654.25,-12 654.25,-12 654.25,-41 654.25,-41 654.25,-47 648.25,-53 642.25,-53\"/>\n",
              "<text text-anchor=\"middle\" x=\"579.12\" y=\"-35.7\" font-family=\"Helvetica,sans-Serif\" font-size=\"14.00\">squared_error = 0.036</text>\n",
              "<text text-anchor=\"middle\" x=\"579.12\" y=\"-20.7\" font-family=\"Helvetica,sans-Serif\" font-size=\"14.00\">samples = 46</text>\n",
              "<text text-anchor=\"middle\" x=\"579.12\" y=\"-5.7\" font-family=\"Helvetica,sans-Serif\" font-size=\"14.00\">value = 0.615</text>\n",
              "</g>\n",
              "<!-- 4&#45;&gt;6 -->\n",
              "<g id=\"edge6\" class=\"edge\">\n",
              "<title>4&#45;&gt;6</title>\n",
              "<path fill=\"none\" stroke=\"black\" d=\"M470.36,-88.68C487.57,-79 506.31,-68.46 523.31,-58.9\"/>\n",
              "<polygon fill=\"black\" stroke=\"black\" points=\"524.77,-62.09 531.77,-54.14 521.34,-55.99 524.77,-62.09\"/>\n",
              "</g>\n",
              "</g>\n",
              "</svg>\n"
            ],
            "text/plain": [
              "<graphviz.sources.Source at 0x295062d10>"
            ]
          },
          "execution_count": 124,
          "metadata": {},
          "output_type": "execute_result"
        }
      ],
      "source": [
        "dot_data4 = export_graphviz(\n",
        "    tree_reg,\n",
        "    feature_names = [\"x1\"],\n",
        "    # class_names = iris.target_names,\n",
        "    rounded=True,\n",
        "    filled=True # 색 칠해줌\n",
        ")\n",
        "\n",
        "graphviz.Source(dot_data4)"
      ]
    },
    {
      "cell_type": "markdown",
      "metadata": {
        "id": "tlyDsBrYuzz1"
      },
      "source": [
        "규제가 없는 회귀 결정 트리"
      ]
    },
    {
      "cell_type": "code",
      "execution_count": 125,
      "metadata": {
        "colab": {
          "base_uri": "https://localhost:8080/"
        },
        "id": "G8xWveRhu1Ld",
        "outputId": "de06e866-60b1-47d5-bece-7dd1e1614555"
      },
      "outputs": [
        {
          "data": {
            "text/html": [
              "<style>#sk-container-id-15 {color: black;}#sk-container-id-15 pre{padding: 0;}#sk-container-id-15 div.sk-toggleable {background-color: white;}#sk-container-id-15 label.sk-toggleable__label {cursor: pointer;display: block;width: 100%;margin-bottom: 0;padding: 0.3em;box-sizing: border-box;text-align: center;}#sk-container-id-15 label.sk-toggleable__label-arrow:before {content: \"▸\";float: left;margin-right: 0.25em;color: #696969;}#sk-container-id-15 label.sk-toggleable__label-arrow:hover:before {color: black;}#sk-container-id-15 div.sk-estimator:hover label.sk-toggleable__label-arrow:before {color: black;}#sk-container-id-15 div.sk-toggleable__content {max-height: 0;max-width: 0;overflow: hidden;text-align: left;background-color: #f0f8ff;}#sk-container-id-15 div.sk-toggleable__content pre {margin: 0.2em;color: black;border-radius: 0.25em;background-color: #f0f8ff;}#sk-container-id-15 input.sk-toggleable__control:checked~div.sk-toggleable__content {max-height: 200px;max-width: 100%;overflow: auto;}#sk-container-id-15 input.sk-toggleable__control:checked~label.sk-toggleable__label-arrow:before {content: \"▾\";}#sk-container-id-15 div.sk-estimator input.sk-toggleable__control:checked~label.sk-toggleable__label {background-color: #d4ebff;}#sk-container-id-15 div.sk-label input.sk-toggleable__control:checked~label.sk-toggleable__label {background-color: #d4ebff;}#sk-container-id-15 input.sk-hidden--visually {border: 0;clip: rect(1px 1px 1px 1px);clip: rect(1px, 1px, 1px, 1px);height: 1px;margin: -1px;overflow: hidden;padding: 0;position: absolute;width: 1px;}#sk-container-id-15 div.sk-estimator {font-family: monospace;background-color: #f0f8ff;border: 1px dotted black;border-radius: 0.25em;box-sizing: border-box;margin-bottom: 0.5em;}#sk-container-id-15 div.sk-estimator:hover {background-color: #d4ebff;}#sk-container-id-15 div.sk-parallel-item::after {content: \"\";width: 100%;border-bottom: 1px solid gray;flex-grow: 1;}#sk-container-id-15 div.sk-label:hover label.sk-toggleable__label {background-color: #d4ebff;}#sk-container-id-15 div.sk-serial::before {content: \"\";position: absolute;border-left: 1px solid gray;box-sizing: border-box;top: 0;bottom: 0;left: 50%;z-index: 0;}#sk-container-id-15 div.sk-serial {display: flex;flex-direction: column;align-items: center;background-color: white;padding-right: 0.2em;padding-left: 0.2em;position: relative;}#sk-container-id-15 div.sk-item {position: relative;z-index: 1;}#sk-container-id-15 div.sk-parallel {display: flex;align-items: stretch;justify-content: center;background-color: white;position: relative;}#sk-container-id-15 div.sk-item::before, #sk-container-id-15 div.sk-parallel-item::before {content: \"\";position: absolute;border-left: 1px solid gray;box-sizing: border-box;top: 0;bottom: 0;left: 50%;z-index: -1;}#sk-container-id-15 div.sk-parallel-item {display: flex;flex-direction: column;z-index: 1;position: relative;background-color: white;}#sk-container-id-15 div.sk-parallel-item:first-child::after {align-self: flex-end;width: 50%;}#sk-container-id-15 div.sk-parallel-item:last-child::after {align-self: flex-start;width: 50%;}#sk-container-id-15 div.sk-parallel-item:only-child::after {width: 0;}#sk-container-id-15 div.sk-dashed-wrapped {border: 1px dashed gray;margin: 0 0.4em 0.5em 0.4em;box-sizing: border-box;padding-bottom: 0.4em;background-color: white;}#sk-container-id-15 div.sk-label label {font-family: monospace;font-weight: bold;display: inline-block;line-height: 1.2em;}#sk-container-id-15 div.sk-label-container {text-align: center;}#sk-container-id-15 div.sk-container {/* jupyter's `normalize.less` sets `[hidden] { display: none; }` but bootstrap.min.css set `[hidden] { display: none !important; }` so we also need the `!important` here to be able to override the default hidden behavior on the sphinx rendered scikit-learn.org. See: https://github.com/scikit-learn/scikit-learn/issues/21755 */display: inline-block !important;position: relative;}#sk-container-id-15 div.sk-text-repr-fallback {display: none;}</style><div id=\"sk-container-id-15\" class=\"sk-top-container\"><div class=\"sk-text-repr-fallback\"><pre>DecisionTreeRegressor()</pre><b>In a Jupyter environment, please rerun this cell to show the HTML representation or trust the notebook. <br />On GitHub, the HTML representation is unable to render, please try loading this page with nbviewer.org.</b></div><div class=\"sk-container\" hidden><div class=\"sk-item\"><div class=\"sk-estimator sk-toggleable\"><input class=\"sk-toggleable__control sk-hidden--visually\" id=\"sk-estimator-id-15\" type=\"checkbox\" checked><label for=\"sk-estimator-id-15\" class=\"sk-toggleable__label sk-toggleable__label-arrow\">DecisionTreeRegressor</label><div class=\"sk-toggleable__content\"><pre>DecisionTreeRegressor()</pre></div></div></div></div></div>"
            ],
            "text/plain": [
              "DecisionTreeRegressor()"
            ]
          },
          "execution_count": 125,
          "metadata": {},
          "output_type": "execute_result"
        }
      ],
      "source": [
        "tree_reg_none_res = DecisionTreeRegressor()\n",
        "tree_reg_none_res.fit(X, y)"
      ]
    },
    {
      "cell_type": "code",
      "execution_count": 126,
      "metadata": {
        "id": "GXLIsdKFvjVI"
      },
      "outputs": [],
      "source": [
        "x1 = np.linspace(0, 1, 500).reshape(-1, 1)"
      ]
    },
    {
      "cell_type": "code",
      "execution_count": 127,
      "metadata": {
        "id": "y6MmFm7Ou8Io"
      },
      "outputs": [],
      "source": [
        "y_pred = tree_reg_none_res.predict(x1)"
      ]
    },
    {
      "cell_type": "code",
      "execution_count": 128,
      "metadata": {
        "colab": {
          "base_uri": "https://localhost:8080/"
        },
        "id": "F2J41UYEvDNX",
        "outputId": "c0ca6181-53e1-443a-f961-f1f94fe29275"
      },
      "outputs": [
        {
          "data": {
            "text/plain": [
              "[<matplotlib.lines.Line2D at 0x2945233d0>]"
            ]
          },
          "execution_count": 128,
          "metadata": {},
          "output_type": "execute_result"
        },
        {
          "data": {
            "image/png": "[encoded data removed]",
            "text/plain": [
              "<Figure size 640x480 with 1 Axes>"
            ]
          },
          "metadata": {},
          "output_type": "display_data"
        }
      ],
      "source": [
        "plt.scatter(X, y)\n",
        "plt.plot(x1, y_pred, 'r.-')"
      ]
    },
    {
      "cell_type": "code",
      "execution_count": 129,
      "metadata": {},
      "outputs": [
        {
          "name": "stdout",
          "output_type": "stream",
          "text": [
            "mprof: Sampling memory every 0.1s\n",
            "running new process\n",
            "running as a Python program...\n",
            "Filename: statistics/memoryAndCpu.py\n",
            "\n",
            "Line #    Mem usage    Increment  Occurrences   Line Contents\n",
            "=============================================================\n",
            "    18    133.8 MiB    133.8 MiB           1   @profile()\n",
            "    19                                         def predict():\n",
            "    20                                             # Set the current time\n",
            "    21    133.8 MiB      0.0 MiB           1       current_time = time.time()\n",
            "    22                                             # Loop the specified number of times\n",
            "    23    133.8 MiB      0.0 MiB          11       for i in range(10):\n",
            "    24                                                 # Make a prediction for the specified features.\n",
            "    25    133.8 MiB      0.0 MiB          10           model.predict([[5, 1.5], [3, 2]])\n",
            "    26                                                 # Add the current time measurement to the list\n",
            "    27    133.8 MiB      0.0 MiB          10           time_measurements.append(time.time() - current_time)\n",
            "    28                                                 # Get the CPU usage\n",
            "    29    133.8 MiB      0.0 MiB          10           usage = p.cpu_percent(interval=None)\n",
            "    30                                                 # Add the CPU usage measurement to the list\n",
            "    31    133.8 MiB      0.0 MiB          10           cpu_usage_measurements.append(usage)\n",
            "    32                                                 # time.sleep(0.01)\n",
            "\n",
            "\n"
          ]
        },
        {
          "data": {
            "image/png": "[encoded data removed]",
            "text/plain": [
              "<Figure size 640x480 with 1 Axes>"
            ]
          },
          "metadata": {},
          "output_type": "display_data"
        }
      ],
      "source": [
        "import os\n",
        "import subprocess\n",
        "\n",
        "# Run the script with memory profiling using subprocess\n",
        "subprocess.run(['mprof', 'run', 'statistics/memoryAndCpu.py'])\n",
        "\n",
        "# List all memory usage data files the output is structured like this: id filename time date\n",
        "files = subprocess.check_output(['mprof', 'list']).decode('utf-8').strip().split('\\n')\n",
        "\n",
        "# Get the most recent memory usage data file (sorted by id)\n",
        "filename = files[-1].split()[1]\n",
        "\n",
        "# Read the memory usage data file\n",
        "output = open(filename, 'rb').read()\n",
        "\n",
        "# Clean up the memory usage data file by running it through mprof clean\n",
        "os.system(f'mprof clean')\n",
        "\n",
        "# Parse the memory data and extract memory usage values and timestamps\n",
        "timestamps = []\n",
        "memory_usages = []\n",
        "first_timestamp = None\n",
        "\n",
        "# Iterate through each line in the memory data\n",
        "for line in output.decode('utf-8').strip().split('\\n'):\n",
        "    # Skip the first line\n",
        "    if line.startswith('CMDLINE'):\n",
        "        continue\n",
        "    parts = line.strip().split()\n",
        "    if len(parts) == 3:\n",
        "        try:\n",
        "            # Make the first timestamp 0\n",
        "            if first_timestamp is None:\n",
        "                first_timestamp = float(parts[2])\n",
        "                \n",
        "            # Calculate the timestamp and memory usage\n",
        "            timestamp = float(parts[2]) - first_timestamp\n",
        "            memory_usage = float(parts[1])\n",
        "            timestamps.append(timestamp)\n",
        "            memory_usages.append(memory_usage)\n",
        "        except ValueError:\n",
        "            pass  # Skip lines that don't have valid data\n",
        "\n",
        "# Create a memory usage plot\n",
        "plt.plot(timestamps, memory_usages)\n",
        "plt.xlabel('Time (s)')\n",
        "plt.ylabel('Memory Usage (MB)')\n",
        "plt.title('Memory Usage Over Time')\n",
        "plt.grid(True)\n",
        "\n",
        "# Show the memory usage plot\n",
        "plt.show()\n"
      ]
    },
    {
      "cell_type": "code",
      "execution_count": 130,
      "metadata": {},
      "outputs": [
        {
          "data": {
            "image/png": "[encoded data removed]",
            "text/plain": [
              "<Figure size 640x480 with 1 Axes>"
            ]
          },
          "metadata": {},
          "output_type": "display_data"
        }
      ],
      "source": [
        "# Open the file cpu_usage_measurements.csv for reading\n",
        "with open('cpu_usage_measurements.csv', 'r') as f:\n",
        "    # Skip the first line\n",
        "    f.readline()\n",
        "    # Read all lines from the file into a list\n",
        "    cpuLines = f.readlines()\n",
        "\n",
        "# Open the file time_measurements.csv for reading\n",
        "with open('time_measurements.csv', 'r') as f:\n",
        "    # Skip the first line\n",
        "    f.readline()\n",
        "    # Read all lines from the file into a list\n",
        "    timeLines = f.readlines()\n",
        "\n",
        "# Delete the file time_measurements.csv\n",
        "os.remove('time_measurements.csv')\n",
        "# Delete the file cpu_usage_measurements.csv\n",
        "os.remove('cpu_usage_measurements.csv')\n",
        "\n",
        "# Make it a float\n",
        "cpuLines = [float(line.strip()) for line in cpuLines]\n",
        "\n",
        "timeLines = [float(line.strip()) for line in timeLines]\n",
        "\n",
        "\n",
        "\n",
        "# Show the data on a plot\n",
        "plt.plot(timeLines, cpuLines)\n",
        "plt.xlabel('Time (s)')\n",
        "plt.ylabel('CPU Usage (%)')\n",
        "plt.title('CPU Usage Over Time')\n",
        "plt.grid(True)"
      ]
    }
  ],
  "metadata": {
    "colab": {
      "provenance": []
    },
    "kernelspec": {
      "display_name": "Python 3",
      "name": "python3"
    },
    "language_info": {
      "codemirror_mode": {
        "name": "ipython",
        "version": 3
      },
      "file_extension": ".py",
      "mimetype": "text/x-python",
      "name": "python",
      "nbconvert_exporter": "python",
      "pygments_lexer": "ipython3",
      "version": "3.10.13"
    }
  },
  "nbformat": 4,
  "nbformat_minor": 0
}
